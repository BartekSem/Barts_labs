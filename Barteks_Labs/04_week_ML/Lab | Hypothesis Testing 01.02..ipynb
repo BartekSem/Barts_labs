{
 "cells": [
  {
   "cell_type": "markdown",
   "id": "1dfa6e84",
   "metadata": {},
   "source": [
    "### Instructions\n",
    "It is assumed that the mean systolic blood pressure is μ = 120 mm Hg. In the Honolulu Heart Study, a sample of n = 100 people had an average systolic blood pressure of 130.1 mm Hg with a standard deviation of 21.21 mm Hg. Is the group significantly different (with respect to systolic blood pressure!) from the regular population?\n",
    "\n",
    "- Set up the hypothesis test.\n",
    "- Write down all the steps followed for setting up the test.\n",
    "- Calculate the test statistic by hand and also code it in Python. It should be 4.76190. What decision can you make based on this calculated value?\n",
    "\n",
    "μ - Average \n",
    "σ - Standard deviation\n",
    "N - size of population\n",
    "n - size of sample "
   ]
  },
  {
   "cell_type": "markdown",
   "id": "fc9cbcc4",
   "metadata": {},
   "source": [
    "### Set up the hypothesis test."
   ]
  },
  {
   "cell_type": "markdown",
   "id": "70d2f574",
   "metadata": {},
   "source": [
    "#### Given:\n",
    "\n",
    "Population\n",
    "- μ = Average blood pressure 120 mm Hg for entire population\n",
    "\n",
    "Sample\n",
    "- n = sample size of 100 people\n",
    "- x̅ = average blood pressure of 130.1 mm\n",
    "- SE: standard deviation of 21.21 mm Hg\n",
    "\n",
    "#### Not given:\n",
    "\n",
    "- SD for the population (therefore t test)"
   ]
  },
  {
   "cell_type": "markdown",
   "id": "ee2a109a",
   "metadata": {},
   "source": [
    "### Set up the hypothesis test"
   ]
  },
  {
   "cell_type": "code",
   "execution_count": 2,
   "id": "d743c3b9",
   "metadata": {},
   "outputs": [],
   "source": [
    "import numpy as np\n",
    "import pandas as pd\n",
    "import scipy.stats as stats\n",
    "import matplotlib.pyplot as plt\n",
    "import seaborn as sns\n",
    "\n",
    "%matplotlib inline"
   ]
  },
  {
   "cell_type": "code",
   "execution_count": null,
   "id": "1a5f554c",
   "metadata": {},
   "outputs": [],
   "source": [
    "# Typically, “Ho” means that there is “no effect”\n",
    "\n",
    "# HO = mu <= 120 \n",
    "# H1 = mu> 120\n",
    "\n",
    "# Is the mean of our sample different than 2kg due to chance, or because the population of squirrels from \n",
    "#where the sample comes has, in fact, a different mean than 2kg?"
   ]
  },
  {
   "cell_type": "code",
   "execution_count": null,
   "id": "73816a73",
   "metadata": {},
   "outputs": [],
   "source": [
    "n = 45 # 45 > 30 -> Normal distribution\n",
    "# Ho: \\mu = 100\n",
    "# Ha: mean != 100\n",
    "\n",
    "sample_mean = 130.1\n",
    "pop_mean = 120\n",
    "pop_std_dev = "
   ]
  },
  {
   "cell_type": "code",
   "execution_count": null,
   "id": "d1fcdf20",
   "metadata": {},
   "outputs": [],
   "source": [
    "z = ( sample_mean - pop_mean ) / ( pop_std_dev / np.sqrt(45) )\n",
    "print(\"Our z score is: {:.2f}\".format(z))"
   ]
  },
  {
   "cell_type": "code",
   "execution_count": null,
   "id": "00261d27",
   "metadata": {},
   "outputs": [],
   "source": []
  },
  {
   "cell_type": "code",
   "execution_count": null,
   "id": "cf6e250d",
   "metadata": {},
   "outputs": [],
   "source": []
  }
 ],
 "metadata": {
  "kernelspec": {
   "display_name": "Python 3 (ipykernel)",
   "language": "python",
   "name": "python3"
  },
  "language_info": {
   "codemirror_mode": {
    "name": "ipython",
    "version": 3
   },
   "file_extension": ".py",
   "mimetype": "text/x-python",
   "name": "python",
   "nbconvert_exporter": "python",
   "pygments_lexer": "ipython3",
   "version": "3.11.5"
  }
 },
 "nbformat": 4,
 "nbformat_minor": 5
}
