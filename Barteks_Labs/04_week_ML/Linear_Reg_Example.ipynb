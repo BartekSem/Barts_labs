{
 "cells": [
  {
   "cell_type": "code",
   "execution_count": 1,
   "id": "e7a4dd1a",
   "metadata": {},
   "outputs": [],
   "source": [
    "import pandas as pd\n",
    "import seaborn as sns"
   ]
  },
  {
   "cell_type": "code",
   "execution_count": 3,
   "id": "f940474a",
   "metadata": {},
   "outputs": [],
   "source": [
    "p_df = sns.load_dataset(\"penguins\")"
   ]
  },
  {
   "cell_type": "code",
   "execution_count": 4,
   "id": "85ab42ce",
   "metadata": {
    "scrolled": true
   },
   "outputs": [
    {
     "data": {
      "text/html": [
       "<div>\n",
       "<style scoped>\n",
       "    .dataframe tbody tr th:only-of-type {\n",
       "        vertical-align: middle;\n",
       "    }\n",
       "\n",
       "    .dataframe tbody tr th {\n",
       "        vertical-align: top;\n",
       "    }\n",
       "\n",
       "    .dataframe thead th {\n",
       "        text-align: right;\n",
       "    }\n",
       "</style>\n",
       "<table border=\"1\" class=\"dataframe\">\n",
       "  <thead>\n",
       "    <tr style=\"text-align: right;\">\n",
       "      <th></th>\n",
       "      <th>species</th>\n",
       "      <th>island</th>\n",
       "      <th>bill_length_mm</th>\n",
       "      <th>bill_depth_mm</th>\n",
       "      <th>flipper_length_mm</th>\n",
       "      <th>body_mass_g</th>\n",
       "      <th>sex</th>\n",
       "    </tr>\n",
       "  </thead>\n",
       "  <tbody>\n",
       "    <tr>\n",
       "      <th>0</th>\n",
       "      <td>Adelie</td>\n",
       "      <td>Torgersen</td>\n",
       "      <td>39.1</td>\n",
       "      <td>18.7</td>\n",
       "      <td>181.0</td>\n",
       "      <td>3750.0</td>\n",
       "      <td>Male</td>\n",
       "    </tr>\n",
       "    <tr>\n",
       "      <th>1</th>\n",
       "      <td>Adelie</td>\n",
       "      <td>Torgersen</td>\n",
       "      <td>39.5</td>\n",
       "      <td>17.4</td>\n",
       "      <td>186.0</td>\n",
       "      <td>3800.0</td>\n",
       "      <td>Female</td>\n",
       "    </tr>\n",
       "    <tr>\n",
       "      <th>2</th>\n",
       "      <td>Adelie</td>\n",
       "      <td>Torgersen</td>\n",
       "      <td>40.3</td>\n",
       "      <td>18.0</td>\n",
       "      <td>195.0</td>\n",
       "      <td>3250.0</td>\n",
       "      <td>Female</td>\n",
       "    </tr>\n",
       "    <tr>\n",
       "      <th>3</th>\n",
       "      <td>Adelie</td>\n",
       "      <td>Torgersen</td>\n",
       "      <td>NaN</td>\n",
       "      <td>NaN</td>\n",
       "      <td>NaN</td>\n",
       "      <td>NaN</td>\n",
       "      <td>NaN</td>\n",
       "    </tr>\n",
       "    <tr>\n",
       "      <th>4</th>\n",
       "      <td>Adelie</td>\n",
       "      <td>Torgersen</td>\n",
       "      <td>36.7</td>\n",
       "      <td>19.3</td>\n",
       "      <td>193.0</td>\n",
       "      <td>3450.0</td>\n",
       "      <td>Female</td>\n",
       "    </tr>\n",
       "  </tbody>\n",
       "</table>\n",
       "</div>"
      ],
      "text/plain": [
       "  species     island  bill_length_mm  bill_depth_mm  flipper_length_mm  \\\n",
       "0  Adelie  Torgersen            39.1           18.7              181.0   \n",
       "1  Adelie  Torgersen            39.5           17.4              186.0   \n",
       "2  Adelie  Torgersen            40.3           18.0              195.0   \n",
       "3  Adelie  Torgersen             NaN            NaN                NaN   \n",
       "4  Adelie  Torgersen            36.7           19.3              193.0   \n",
       "\n",
       "   body_mass_g     sex  \n",
       "0       3750.0    Male  \n",
       "1       3800.0  Female  \n",
       "2       3250.0  Female  \n",
       "3          NaN     NaN  \n",
       "4       3450.0  Female  "
      ]
     },
     "execution_count": 4,
     "metadata": {},
     "output_type": "execute_result"
    }
   ],
   "source": [
    "p_df.head()"
   ]
  },
  {
   "cell_type": "code",
   "execution_count": 9,
   "id": "a6028a85",
   "metadata": {
    "scrolled": true
   },
   "outputs": [
    {
     "data": {
      "text/plain": [
       "array(['Torgersen', 'Biscoe', 'Dream'], dtype=object)"
      ]
     },
     "execution_count": 9,
     "metadata": {},
     "output_type": "execute_result"
    }
   ],
   "source": [
    "p_df.island.unique()"
   ]
  },
  {
   "cell_type": "code",
   "execution_count": 33,
   "id": "561db027",
   "metadata": {},
   "outputs": [],
   "source": [
    "#dropping nas and doubles \n",
    "p_df = p_df.dropna()\n",
    "p_df = p_df.drop_duplicates()"
   ]
  },
  {
   "cell_type": "code",
   "execution_count": null,
   "id": "bf1534c5",
   "metadata": {},
   "outputs": [],
   "source": [
    "# 1. I determine the input and target variables "
   ]
  },
  {
   "cell_type": "code",
   "execution_count": null,
   "id": "09b73d8b",
   "metadata": {},
   "outputs": [],
   "source": [
    "# i want to predict how much it will weight (body_mass)\n",
    "# target variable body_mass "
   ]
  },
  {
   "cell_type": "code",
   "execution_count": 6,
   "id": "199bf79d",
   "metadata": {},
   "outputs": [],
   "source": [
    "# the input/explonatory variables we will use 2: bill_depth_mm, "
   ]
  },
  {
   "cell_type": "markdown",
   "id": "caa5f362",
   "metadata": {},
   "source": [
    "X - y split\n",
    "I define the type of variablles "
   ]
  },
  {
   "cell_type": "code",
   "execution_count": 35,
   "id": "025a82a6",
   "metadata": {},
   "outputs": [],
   "source": [
    "X = p_df[[\"flipper_length_mm\", \"bill_depth_mm\"]]\n",
    "y = p_df[[\"body_mass_g\"]]"
   ]
  },
  {
   "cell_type": "markdown",
   "id": "2690ee77",
   "metadata": {},
   "source": [
    "### Train-test split"
   ]
  },
  {
   "cell_type": "code",
   "execution_count": 36,
   "id": "1ce6cce2",
   "metadata": {},
   "outputs": [],
   "source": [
    "from sklearn.model_selection import train_test_split"
   ]
  },
  {
   "cell_type": "code",
   "execution_count": 37,
   "id": "74226b1c",
   "metadata": {},
   "outputs": [],
   "source": [
    "X_train, X_test, y_train, y_test = train_test_split(X,y,random_state = 42)"
   ]
  },
  {
   "cell_type": "code",
   "execution_count": 38,
   "id": "434c94cd",
   "metadata": {},
   "outputs": [
    {
     "data": {
      "text/html": [
       "<div>\n",
       "<style scoped>\n",
       "    .dataframe tbody tr th:only-of-type {\n",
       "        vertical-align: middle;\n",
       "    }\n",
       "\n",
       "    .dataframe tbody tr th {\n",
       "        vertical-align: top;\n",
       "    }\n",
       "\n",
       "    .dataframe thead th {\n",
       "        text-align: right;\n",
       "    }\n",
       "</style>\n",
       "<table border=\"1\" class=\"dataframe\">\n",
       "  <thead>\n",
       "    <tr style=\"text-align: right;\">\n",
       "      <th></th>\n",
       "      <th>body_mass_g</th>\n",
       "    </tr>\n",
       "  </thead>\n",
       "  <tbody>\n",
       "    <tr>\n",
       "      <th>30</th>\n",
       "      <td>3250.0</td>\n",
       "    </tr>\n",
       "    <tr>\n",
       "      <th>317</th>\n",
       "      <td>4875.0</td>\n",
       "    </tr>\n",
       "    <tr>\n",
       "      <th>79</th>\n",
       "      <td>4000.0</td>\n",
       "    </tr>\n",
       "    <tr>\n",
       "      <th>201</th>\n",
       "      <td>3675.0</td>\n",
       "    </tr>\n",
       "    <tr>\n",
       "      <th>63</th>\n",
       "      <td>4050.0</td>\n",
       "    </tr>\n",
       "    <tr>\n",
       "      <th>...</th>\n",
       "      <td>...</td>\n",
       "    </tr>\n",
       "    <tr>\n",
       "      <th>247</th>\n",
       "      <td>5650.0</td>\n",
       "    </tr>\n",
       "    <tr>\n",
       "      <th>122</th>\n",
       "      <td>3450.0</td>\n",
       "    </tr>\n",
       "    <tr>\n",
       "      <th>146</th>\n",
       "      <td>4250.0</td>\n",
       "    </tr>\n",
       "    <tr>\n",
       "      <th>182</th>\n",
       "      <td>3200.0</td>\n",
       "    </tr>\n",
       "    <tr>\n",
       "      <th>96</th>\n",
       "      <td>3700.0</td>\n",
       "    </tr>\n",
       "  </tbody>\n",
       "</table>\n",
       "<p>84 rows × 1 columns</p>\n",
       "</div>"
      ],
      "text/plain": [
       "     body_mass_g\n",
       "30        3250.0\n",
       "317       4875.0\n",
       "79        4000.0\n",
       "201       3675.0\n",
       "63        4050.0\n",
       "..           ...\n",
       "247       5650.0\n",
       "122       3450.0\n",
       "146       4250.0\n",
       "182       3200.0\n",
       "96        3700.0\n",
       "\n",
       "[84 rows x 1 columns]"
      ]
     },
     "execution_count": 38,
     "metadata": {},
     "output_type": "execute_result"
    }
   ],
   "source": [
    "y_test # results for test "
   ]
  },
  {
   "cell_type": "markdown",
   "id": "c20bf749",
   "metadata": {},
   "source": [
    "### Model training"
   ]
  },
  {
   "cell_type": "code",
   "execution_count": 39,
   "id": "31790e13",
   "metadata": {},
   "outputs": [],
   "source": [
    "from sklearn.linear_model import LinearRegression"
   ]
  },
  {
   "cell_type": "code",
   "execution_count": 40,
   "id": "8208021e",
   "metadata": {},
   "outputs": [],
   "source": [
    "lm = LinearRegression()\n",
    "\n",
    "model = lm.fit(X_train, y_train)"
   ]
  },
  {
   "cell_type": "code",
   "execution_count": 43,
   "id": "204c0a68",
   "metadata": {},
   "outputs": [
    {
     "data": {
      "text/plain": [
       "array([[52.20343571, 13.10815533]])"
      ]
     },
     "execution_count": 43,
     "metadata": {},
     "output_type": "execute_result"
    }
   ],
   "source": [
    "model.coef_\n",
    "# ------   the coefficient represents the slope of the line that best fits the data. --------\n",
    "\n",
    "# If the coefficient is positive, it means that as the corresponding feature increases, the predicted output also increases.\n",
    "# If the coefficient is negative, it means that as the corresponding feature increases, the predicted output decreases."
   ]
  },
  {
   "cell_type": "code",
   "execution_count": 42,
   "id": "bdb26692",
   "metadata": {},
   "outputs": [
    {
     "data": {
      "text/plain": [
       "array([-6509.21617362])"
      ]
     },
     "execution_count": 42,
     "metadata": {},
     "output_type": "execute_result"
    }
   ],
   "source": [
    "model.intercept_\n",
    "\n",
    "# -------    Intercept is the point where the regression line crosses the y-axis. ------\n",
    "\n",
    "# It's the baseline prediction when all the features are zero. \n",
    "# In simpler terms, it's the predicted output when all the input features have zero values. \n",
    "# The intercept is essentially the starting point of the prediction before considering the impact \n",
    "# of the individual features."
   ]
  },
  {
   "cell_type": "code",
   "execution_count": null,
   "id": "4a7847b7",
   "metadata": {},
   "outputs": [],
   "source": [
    "# MB = intercept(-6509) + coefficient (52* 201)\n",
    "# coefficient identifies the slope e.g. 52 * flipper_length_mm and 13 bill_depth_mm to predict the mass \n",
    "# intercept tells you it with point our line crosses the y axe "
   ]
  },
  {
   "cell_type": "code",
   "execution_count": null,
   "id": "ff6d4026",
   "metadata": {},
   "outputs": [],
   "source": [
    "Predict mass of random pinguin "
   ]
  },
  {
   "cell_type": "code",
   "execution_count": 46,
   "id": "c70afdeb",
   "metadata": {},
   "outputs": [
    {
     "data": {
      "text/html": [
       "<div>\n",
       "<style scoped>\n",
       "    .dataframe tbody tr th:only-of-type {\n",
       "        vertical-align: middle;\n",
       "    }\n",
       "\n",
       "    .dataframe tbody tr th {\n",
       "        vertical-align: top;\n",
       "    }\n",
       "\n",
       "    .dataframe thead th {\n",
       "        text-align: right;\n",
       "    }\n",
       "</style>\n",
       "<table border=\"1\" class=\"dataframe\">\n",
       "  <thead>\n",
       "    <tr style=\"text-align: right;\">\n",
       "      <th></th>\n",
       "      <th>flipper_length_mm</th>\n",
       "      <th>bill_depth_mm</th>\n",
       "    </tr>\n",
       "  </thead>\n",
       "  <tbody>\n",
       "    <tr>\n",
       "      <th>81</th>\n",
       "      <td>196.0</td>\n",
       "      <td>17.6</td>\n",
       "    </tr>\n",
       "  </tbody>\n",
       "</table>\n",
       "</div>"
      ],
      "text/plain": [
       "    flipper_length_mm  bill_depth_mm\n",
       "81              196.0           17.6"
      ]
     },
     "execution_count": 46,
     "metadata": {},
     "output_type": "execute_result"
    }
   ],
   "source": [
    "random_pinguin = X_test.sample()\n",
    "random_pinguin # this is my random pinguin "
   ]
  },
  {
   "cell_type": "code",
   "execution_count": 45,
   "id": "82e65f40",
   "metadata": {},
   "outputs": [
    {
     "data": {
      "text/plain": [
       "array([[3920.81955604]])"
      ]
     },
     "execution_count": 45,
     "metadata": {},
     "output_type": "execute_result"
    }
   ],
   "source": [
    "model.predict(random_pinguin) # this is the prediction for his body mass based on 2 variables "
   ]
  },
  {
   "cell_type": "markdown",
   "id": "44b85056",
   "metadata": {},
   "source": [
    "##Create preditions for test set"
   ]
  },
  {
   "cell_type": "code",
   "execution_count": 48,
   "id": "c345a9fb",
   "metadata": {
    "scrolled": true
   },
   "outputs": [],
   "source": [
    "y_pred = model.predict(X_test)"
   ]
  },
  {
   "cell_type": "code",
   "execution_count": 49,
   "id": "fced1ecb",
   "metadata": {
    "collapsed": true
   },
   "outputs": [
    {
     "data": {
      "text/plain": [
       "array([[3001.90157623],\n",
       "       [5271.32562111],\n",
       "       [3920.81955604],\n",
       "       [4053.83518356],\n",
       "       [3752.41190912],\n",
       "       [4738.80473978],\n",
       "       [5328.77231895],\n",
       "       [3914.26547837],\n",
       "       [3804.61534483],\n",
       "       [4232.72935475],\n",
       "       [3953.36075875],\n",
       "       [4103.64617383],\n",
       "       [4532.61262802],\n",
       "       [3808.54779143],\n",
       "       [4642.26276156],\n",
       "       [3364.70399511],\n",
       "       [3478.28657525],\n",
       "       [3748.47946252],\n",
       "       [3499.25962379],\n",
       "       [4844.52242672],\n",
       "       [3962.53646748],\n",
       "       [3632.27525131],\n",
       "       [5589.78949748],\n",
       "       [4346.31193489],\n",
       "       [3172.93085422],\n",
       "       [3527.86837989],\n",
       "       [4784.45409782],\n",
       "       [4809.35959295],\n",
       "       [3172.93085422],\n",
       "       [5653.79027299],\n",
       "       [3470.42168205],\n",
       "       [5720.41267956],\n",
       "       [4081.36230976],\n",
       "       [4271.82463512],\n",
       "       [5717.7910485 ],\n",
       "       [4587.43769479],\n",
       "       [3910.33303177],\n",
       "       [4528.68018142],\n",
       "       [3644.07259111],\n",
       "       [3409.04253761],\n",
       "       [3192.59308722],\n",
       "       [3644.07259111],\n",
       "       [4172.66102584],\n",
       "       [4099.4845416 ],\n",
       "       [3601.04486414],\n",
       "       [3463.86760438],\n",
       "       [5223.054632  ],\n",
       "       [3552.77387503],\n",
       "       [3671.59971731],\n",
       "       [5119.95857612],\n",
       "       [3748.47946252],\n",
       "       [5024.72741344],\n",
       "       [4697.08782834],\n",
       "       [3132.52475831],\n",
       "       [3732.97886175],\n",
       "       [5189.20261377],\n",
       "       [3222.51265885],\n",
       "       [3947.03586671],\n",
       "       [3978.26625388],\n",
       "       [4334.51459509],\n",
       "       [5619.93825475],\n",
       "       [4925.56380417],\n",
       "       [5161.67548756],\n",
       "       [3819.0343157 ],\n",
       "       [3820.34513123],\n",
       "       [5452.84142336],\n",
       "       [3882.80590557],\n",
       "       [4841.90079566],\n",
       "       [3694.96521128],\n",
       "       [5392.77309446],\n",
       "       [3608.90975734],\n",
       "       [3135.14638938],\n",
       "       [5150.10733339],\n",
       "       [5003.75436491],\n",
       "       [4886.23933816],\n",
       "       [4256.32403435],\n",
       "       [3608.90975734],\n",
       "       [4147.98471634],\n",
       "       [3803.30452929],\n",
       "       [4911.1448333 ],\n",
       "       [2901.42715142],\n",
       "       [3653.24829984],\n",
       "       [3470.42168205],\n",
       "       [3653.24829984]])"
      ]
     },
     "execution_count": 49,
     "metadata": {},
     "output_type": "execute_result"
    }
   ],
   "source": [
    "y_pred # predictions from the test set without the acutal targets/results. next steps we compare agant the model"
   ]
  },
  {
   "cell_type": "code",
   "execution_count": 50,
   "id": "d409b945",
   "metadata": {},
   "outputs": [],
   "source": [
    "y_pred = pd.DataFrame(y_pred)"
   ]
  },
  {
   "cell_type": "code",
   "execution_count": null,
   "id": "8ff34576",
   "metadata": {},
   "outputs": [],
   "source": [
    "residuals_df = pd.DataFrame({\"y_test\": y_test,\"y_pred\": y_pred, \"residuals\": y_test-y_pred}, index = (len(y_pred))"
   ]
  },
  {
   "cell_type": "code",
   "execution_count": null,
   "id": "f97cc58a",
   "metadata": {},
   "outputs": [],
   "source": [
    "pd.concat([y_test,y_pred])"
   ]
  },
  {
   "cell_type": "code",
   "execution_count": null,
   "id": "f0a24576",
   "metadata": {},
   "outputs": [],
   "source": []
  },
  {
   "cell_type": "markdown",
   "id": "38dd9448",
   "metadata": {},
   "source": [
    "### Calculating metrics"
   ]
  },
  {
   "cell_type": "code",
   "execution_count": null,
   "id": "1f276876",
   "metadata": {},
   "outputs": [],
   "source": [
    "mean_error = rediduals_df[\"residuals\"].mean()"
   ]
  },
  {
   "cell_type": "code",
   "execution_count": null,
   "id": "37127f6d",
   "metadata": {},
   "outputs": [],
   "source": [
    "mean.error"
   ]
  },
  {
   "cell_type": "code",
   "execution_count": 51,
   "id": "d51eff8d",
   "metadata": {},
   "outputs": [
    {
     "ename": "SyntaxError",
     "evalue": "invalid syntax (2374606615.py, line 1)",
     "output_type": "error",
     "traceback": [
      "\u001b[0;36m  Cell \u001b[0;32mIn[51], line 1\u001b[0;36m\u001b[0m\n\u001b[0;31m    import sklearn.metrics import mean_squared_error as mse, mean_absolute_error as mae\u001b[0m\n\u001b[0m                           ^\u001b[0m\n\u001b[0;31mSyntaxError\u001b[0m\u001b[0;31m:\u001b[0m invalid syntax\n"
     ]
    }
   ],
   "source": [
    "import sklearn.metrics import mean_squared_error as mse, mean_absolute_error as mae"
   ]
  },
  {
   "cell_type": "code",
   "execution_count": null,
   "id": "fb5f90a1",
   "metadata": {},
   "outputs": [],
   "source": [
    "mse()"
   ]
  },
  {
   "cell_type": "code",
   "execution_count": null,
   "id": "c0367fce",
   "metadata": {},
   "outputs": [],
   "source": [
    "# when would we use the scaler?\n",
    "# we scale after the split, to strickly diffeere between test and train set \n",
    "# use the same scaler for test as train but seperatly \n",
    "\n"
   ]
  },
  {
   "cell_type": "code",
   "execution_count": null,
   "id": "077d8975",
   "metadata": {},
   "outputs": [],
   "source": []
  },
  {
   "cell_type": "code",
   "execution_count": null,
   "id": "2dc5575e",
   "metadata": {},
   "outputs": [],
   "source": []
  }
 ],
 "metadata": {
  "kernelspec": {
   "display_name": "Python 3 (ipykernel)",
   "language": "python",
   "name": "python3"
  },
  "language_info": {
   "codemirror_mode": {
    "name": "ipython",
    "version": 3
   },
   "file_extension": ".py",
   "mimetype": "text/x-python",
   "name": "python",
   "nbconvert_exporter": "python",
   "pygments_lexer": "ipython3",
   "version": "3.11.5"
  }
 },
 "nbformat": 4,
 "nbformat_minor": 5
}
