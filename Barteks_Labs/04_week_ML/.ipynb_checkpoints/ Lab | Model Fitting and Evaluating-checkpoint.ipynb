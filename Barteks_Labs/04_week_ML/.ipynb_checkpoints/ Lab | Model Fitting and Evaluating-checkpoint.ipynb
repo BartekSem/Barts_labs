{
 "cells": [
  {
   "cell_type": "code",
   "execution_count": 60,
   "id": "362657fa",
   "metadata": {},
   "outputs": [],
   "source": [
    "import pandas as pd\n",
    "df = pd.read_csv(\"Data_Marketing_Customer_Analysis_Round3.csv\")"
   ]
  },
  {
   "cell_type": "code",
   "execution_count": 61,
   "id": "19e9582e",
   "metadata": {
    "collapsed": true
   },
   "outputs": [
    {
     "data": {
      "text/html": [
       "<div>\n",
       "<style scoped>\n",
       "    .dataframe tbody tr th:only-of-type {\n",
       "        vertical-align: middle;\n",
       "    }\n",
       "\n",
       "    .dataframe tbody tr th {\n",
       "        vertical-align: top;\n",
       "    }\n",
       "\n",
       "    .dataframe thead th {\n",
       "        text-align: right;\n",
       "    }\n",
       "</style>\n",
       "<table border=\"1\" class=\"dataframe\">\n",
       "  <thead>\n",
       "    <tr style=\"text-align: right;\">\n",
       "      <th></th>\n",
       "      <th>customer_lifetime_value</th>\n",
       "      <th>income</th>\n",
       "      <th>monthly_premium_auto</th>\n",
       "      <th>months_since_last_claim</th>\n",
       "      <th>months_since_policy_inception</th>\n",
       "      <th>number_of_open_complaints</th>\n",
       "      <th>number_of_policies</th>\n",
       "      <th>total_claim_amount</th>\n",
       "    </tr>\n",
       "  </thead>\n",
       "  <tbody>\n",
       "    <tr>\n",
       "      <th>0</th>\n",
       "      <td>4809</td>\n",
       "      <td>48029</td>\n",
       "      <td>61</td>\n",
       "      <td>7</td>\n",
       "      <td>52</td>\n",
       "      <td>0</td>\n",
       "      <td>9</td>\n",
       "      <td>292</td>\n",
       "    </tr>\n",
       "    <tr>\n",
       "      <th>1</th>\n",
       "      <td>2228</td>\n",
       "      <td>92260</td>\n",
       "      <td>64</td>\n",
       "      <td>3</td>\n",
       "      <td>26</td>\n",
       "      <td>0</td>\n",
       "      <td>1</td>\n",
       "      <td>744</td>\n",
       "    </tr>\n",
       "    <tr>\n",
       "      <th>2</th>\n",
       "      <td>14947</td>\n",
       "      <td>22139</td>\n",
       "      <td>100</td>\n",
       "      <td>34</td>\n",
       "      <td>31</td>\n",
       "      <td>0</td>\n",
       "      <td>2</td>\n",
       "      <td>480</td>\n",
       "    </tr>\n",
       "    <tr>\n",
       "      <th>3</th>\n",
       "      <td>22332</td>\n",
       "      <td>49078</td>\n",
       "      <td>97</td>\n",
       "      <td>10</td>\n",
       "      <td>3</td>\n",
       "      <td>0</td>\n",
       "      <td>2</td>\n",
       "      <td>484</td>\n",
       "    </tr>\n",
       "    <tr>\n",
       "      <th>4</th>\n",
       "      <td>9025</td>\n",
       "      <td>23675</td>\n",
       "      <td>117</td>\n",
       "      <td>33</td>\n",
       "      <td>31</td>\n",
       "      <td>0</td>\n",
       "      <td>7</td>\n",
       "      <td>707</td>\n",
       "    </tr>\n",
       "    <tr>\n",
       "      <th>...</th>\n",
       "      <td>...</td>\n",
       "      <td>...</td>\n",
       "      <td>...</td>\n",
       "      <td>...</td>\n",
       "      <td>...</td>\n",
       "      <td>...</td>\n",
       "      <td>...</td>\n",
       "      <td>...</td>\n",
       "    </tr>\n",
       "    <tr>\n",
       "      <th>10684</th>\n",
       "      <td>15563</td>\n",
       "      <td>61541</td>\n",
       "      <td>253</td>\n",
       "      <td>12</td>\n",
       "      <td>40</td>\n",
       "      <td>0</td>\n",
       "      <td>7</td>\n",
       "      <td>1214</td>\n",
       "    </tr>\n",
       "    <tr>\n",
       "      <th>10685</th>\n",
       "      <td>5259</td>\n",
       "      <td>61146</td>\n",
       "      <td>65</td>\n",
       "      <td>7</td>\n",
       "      <td>68</td>\n",
       "      <td>0</td>\n",
       "      <td>6</td>\n",
       "      <td>273</td>\n",
       "    </tr>\n",
       "    <tr>\n",
       "      <th>10686</th>\n",
       "      <td>23893</td>\n",
       "      <td>39837</td>\n",
       "      <td>201</td>\n",
       "      <td>11</td>\n",
       "      <td>63</td>\n",
       "      <td>0</td>\n",
       "      <td>2</td>\n",
       "      <td>381</td>\n",
       "    </tr>\n",
       "    <tr>\n",
       "      <th>10687</th>\n",
       "      <td>11971</td>\n",
       "      <td>64195</td>\n",
       "      <td>158</td>\n",
       "      <td>0</td>\n",
       "      <td>27</td>\n",
       "      <td>4</td>\n",
       "      <td>6</td>\n",
       "      <td>618</td>\n",
       "    </tr>\n",
       "    <tr>\n",
       "      <th>10688</th>\n",
       "      <td>6857</td>\n",
       "      <td>68942</td>\n",
       "      <td>101</td>\n",
       "      <td>31</td>\n",
       "      <td>1</td>\n",
       "      <td>0</td>\n",
       "      <td>3</td>\n",
       "      <td>1021</td>\n",
       "    </tr>\n",
       "  </tbody>\n",
       "</table>\n",
       "<p>10689 rows × 8 columns</p>\n",
       "</div>"
      ],
      "text/plain": [
       "       customer_lifetime_value  income  monthly_premium_auto  \\\n",
       "0                         4809   48029                    61   \n",
       "1                         2228   92260                    64   \n",
       "2                        14947   22139                   100   \n",
       "3                        22332   49078                    97   \n",
       "4                         9025   23675                   117   \n",
       "...                        ...     ...                   ...   \n",
       "10684                    15563   61541                   253   \n",
       "10685                     5259   61146                    65   \n",
       "10686                    23893   39837                   201   \n",
       "10687                    11971   64195                   158   \n",
       "10688                     6857   68942                   101   \n",
       "\n",
       "       months_since_last_claim  months_since_policy_inception  \\\n",
       "0                            7                             52   \n",
       "1                            3                             26   \n",
       "2                           34                             31   \n",
       "3                           10                              3   \n",
       "4                           33                             31   \n",
       "...                        ...                            ...   \n",
       "10684                       12                             40   \n",
       "10685                        7                             68   \n",
       "10686                       11                             63   \n",
       "10687                        0                             27   \n",
       "10688                       31                              1   \n",
       "\n",
       "       number_of_open_complaints  number_of_policies  total_claim_amount  \n",
       "0                              0                   9                 292  \n",
       "1                              0                   1                 744  \n",
       "2                              0                   2                 480  \n",
       "3                              0                   2                 484  \n",
       "4                              0                   7                 707  \n",
       "...                          ...                 ...                 ...  \n",
       "10684                          0                   7                1214  \n",
       "10685                          0                   6                 273  \n",
       "10686                          0                   2                 381  \n",
       "10687                          4                   6                 618  \n",
       "10688                          0                   3                1021  \n",
       "\n",
       "[10689 rows x 8 columns]"
      ]
     },
     "execution_count": 61,
     "metadata": {},
     "output_type": "execute_result"
    }
   ],
   "source": [
    "# creating numerical_df\n",
    "df = df.select_dtypes(include=['number'])"
   ]
  },
  {
   "cell_type": "markdown",
   "id": "d1c83967",
   "metadata": {},
   "source": [
    "### DATA WRANGLING"
   ]
  },
  {
   "cell_type": "code",
   "execution_count": 64,
   "id": "e18bd51a",
   "metadata": {
    "collapsed": true
   },
   "outputs": [
    {
     "name": "stdout",
     "output_type": "stream",
     "text": [
      "<class 'pandas.core.frame.DataFrame'>\n",
      "Index: 9082 entries, 0 to 10688\n",
      "Data columns (total 8 columns):\n",
      " #   Column                         Non-Null Count  Dtype\n",
      "---  ------                         --------------  -----\n",
      " 0   customer_lifetime_value        9082 non-null   int64\n",
      " 1   income                         9082 non-null   int64\n",
      " 2   monthly_premium_auto           9082 non-null   int64\n",
      " 3   months_since_last_claim        9082 non-null   int64\n",
      " 4   months_since_policy_inception  9082 non-null   int64\n",
      " 5   number_of_open_complaints      9082 non-null   int64\n",
      " 6   number_of_policies             9082 non-null   int64\n",
      " 7   total_claim_amount             9082 non-null   int64\n",
      "dtypes: int64(8)\n",
      "memory usage: 638.6 KB\n"
     ]
    }
   ],
   "source": [
    "df = df.dropna()\n",
    "df = df.drop_duplicates()\n",
    "df.info()"
   ]
  },
  {
   "cell_type": "markdown",
   "id": "35793498",
   "metadata": {},
   "source": [
    "### SPLIT"
   ]
  },
  {
   "cell_type": "code",
   "execution_count": 42,
   "id": "92c10a44",
   "metadata": {},
   "outputs": [],
   "source": [
    " # Defining x explanatory variables and 1x y traget variable"
   ]
  },
  {
   "cell_type": "code",
   "execution_count": 43,
   "id": "8188fd3c",
   "metadata": {},
   "outputs": [],
   "source": [
    "X = df[[\"customer_lifetime_value\",\"income\",\"monthly_premium_auto\",\"months_since_last_claim\",\"months_since_policy_inception\",\n",
    "        \"number_of_open_complaints\",\"number_of_policies\"]]\n",
    "y = df[[\"total_claim_amount\"]]"
   ]
  },
  {
   "cell_type": "code",
   "execution_count": 44,
   "id": "00cf2328",
   "metadata": {},
   "outputs": [],
   "source": [
    "from sklearn.model_selection import train_test_split"
   ]
  },
  {
   "cell_type": "code",
   "execution_count": 45,
   "id": "82528181",
   "metadata": {},
   "outputs": [],
   "source": [
    "X_train, X_test, y_train, y_test = train_test_split(X,y,random_state = 100)"
   ]
  },
  {
   "cell_type": "markdown",
   "id": "3c91168d",
   "metadata": {},
   "source": [
    "### SCALING"
   ]
  },
  {
   "cell_type": "code",
   "execution_count": 46,
   "id": "d40a9074",
   "metadata": {},
   "outputs": [],
   "source": [
    "# SCALE VARIABLES AFTER THE SPLIT (NOT TO MIX TEST AND TRAIN DATA)"
   ]
  },
  {
   "cell_type": "code",
   "execution_count": 47,
   "id": "8703a923",
   "metadata": {},
   "outputs": [],
   "source": [
    "import seaborn as sns"
   ]
  },
  {
   "cell_type": "code",
   "execution_count": 48,
   "id": "7196557e",
   "metadata": {},
   "outputs": [],
   "source": [
    "from sklearn.preprocessing import MinMaxScaler, StandardScaler, PowerTransformer\n",
    "import numpy as np"
   ]
  },
  {
   "cell_type": "code",
   "execution_count": 66,
   "id": "8d9187da",
   "metadata": {},
   "outputs": [],
   "source": [
    "from sklearn.preprocessing import PowerTransformer\n",
    "import numpy as np\n",
    "\n",
    "# Iniciated the PowerTransformer my my case\n",
    "power_transformer = PowerTransformer()\n",
    "\n",
    "# Fit the transformer to my X_train data \n",
    "X_train_transform = power_transformer.fit_transform(X_train)\n",
    "\n",
    "# Transform X_test using the fitted transformer\n",
    "X_test_fit = power_transformer.transform(X_test) \n",
    "\n",
    "# keeps them separately. It also ensures consistency in the transformation process between the two sets."
   ]
  },
  {
   "cell_type": "markdown",
   "id": "91f03b01",
   "metadata": {},
   "source": [
    "### Model training"
   ]
  },
  {
   "cell_type": "code",
   "execution_count": 67,
   "id": "878544c4",
   "metadata": {},
   "outputs": [],
   "source": [
    "from sklearn.linear_model import LinearRegression"
   ]
  },
  {
   "cell_type": "code",
   "execution_count": 68,
   "id": "4762ea12",
   "metadata": {},
   "outputs": [],
   "source": [
    "# i train the model with the training sets from exploring var x and answers/labels y\n",
    "lm = LinearRegression()\n",
    "model = lm.fit(X_train_transform,y_train) "
   ]
  },
  {
   "cell_type": "code",
   "execution_count": 69,
   "id": "230c7057",
   "metadata": {},
   "outputs": [
    {
     "data": {
      "text/plain": [
       "array([[ -4.15820054, -32.32550692, 163.98060775,   4.99014802,\n",
       "         -0.50043939,  -4.91536041,   0.4059141 ]])"
      ]
     },
     "execution_count": 69,
     "metadata": {},
     "output_type": "execute_result"
    }
   ],
   "source": [
    "model.coef_"
   ]
  },
  {
   "cell_type": "code",
   "execution_count": 70,
   "id": "2b4b5791",
   "metadata": {},
   "outputs": [
    {
     "data": {
      "text/plain": [
       "array([438.93716048])"
      ]
     },
     "execution_count": 70,
     "metadata": {},
     "output_type": "execute_result"
    }
   ],
   "source": [
    "model.intercept_"
   ]
  },
  {
   "cell_type": "markdown",
   "id": "19e8d923",
   "metadata": {},
   "source": [
    "### Model Interpretation"
   ]
  },
  {
   "cell_type": "code",
   "execution_count": 74,
   "id": "277d1ae5",
   "metadata": {},
   "outputs": [],
   "source": [
    "# -----  is this correct???? do i use the unscaled x_test? why? ----------\n",
    "random_test = X_test.sample()"
   ]
  },
  {
   "cell_type": "code",
   "execution_count": 57,
   "id": "7c20ecb0",
   "metadata": {},
   "outputs": [
    {
     "data": {
      "text/html": [
       "<div>\n",
       "<style scoped>\n",
       "    .dataframe tbody tr th:only-of-type {\n",
       "        vertical-align: middle;\n",
       "    }\n",
       "\n",
       "    .dataframe tbody tr th {\n",
       "        vertical-align: top;\n",
       "    }\n",
       "\n",
       "    .dataframe thead th {\n",
       "        text-align: right;\n",
       "    }\n",
       "</style>\n",
       "<table border=\"1\" class=\"dataframe\">\n",
       "  <thead>\n",
       "    <tr style=\"text-align: right;\">\n",
       "      <th></th>\n",
       "      <th>customer_lifetime_value</th>\n",
       "      <th>income</th>\n",
       "      <th>monthly_premium_auto</th>\n",
       "      <th>months_since_last_claim</th>\n",
       "      <th>months_since_policy_inception</th>\n",
       "      <th>number_of_open_complaints</th>\n",
       "      <th>number_of_policies</th>\n",
       "    </tr>\n",
       "  </thead>\n",
       "  <tbody>\n",
       "    <tr>\n",
       "      <th>1452</th>\n",
       "      <td>11073</td>\n",
       "      <td>82807</td>\n",
       "      <td>92</td>\n",
       "      <td>15</td>\n",
       "      <td>20</td>\n",
       "      <td>0</td>\n",
       "      <td>2</td>\n",
       "    </tr>\n",
       "  </tbody>\n",
       "</table>\n",
       "</div>"
      ],
      "text/plain": [
       "      customer_lifetime_value  income  monthly_premium_auto  \\\n",
       "1452                    11073   82807                    92   \n",
       "\n",
       "      months_since_last_claim  months_since_policy_inception  \\\n",
       "1452                       15                             20   \n",
       "\n",
       "      number_of_open_complaints  number_of_policies  \n",
       "1452                          0                   2  "
      ]
     },
     "execution_count": 57,
     "metadata": {},
     "output_type": "execute_result"
    }
   ],
   "source": [
    "random_test"
   ]
  },
  {
   "cell_type": "code",
   "execution_count": 19,
   "id": "f7679d5b",
   "metadata": {},
   "outputs": [
    {
     "name": "stderr",
     "output_type": "stream",
     "text": [
      "/Users/bart/anaconda3/lib/python3.11/site-packages/sklearn/base.py:457: UserWarning: X has feature names, but LinearRegression was fitted without feature names\n",
      "  warnings.warn(\n"
     ]
    },
    {
     "data": {
      "text/plain": [
       "array([[-553098.71256027]])"
      ]
     },
     "execution_count": 19,
     "metadata": {},
     "output_type": "execute_result"
    }
   ],
   "source": [
    "model.predict(random_test)"
   ]
  },
  {
   "cell_type": "markdown",
   "id": "2d80149d",
   "metadata": {},
   "source": [
    "### Create predictions for test set"
   ]
  },
  {
   "cell_type": "code",
   "execution_count": 20,
   "id": "85c88806",
   "metadata": {},
   "outputs": [
    {
     "name": "stderr",
     "output_type": "stream",
     "text": [
      "/Users/bart/anaconda3/lib/python3.11/site-packages/sklearn/base.py:457: UserWarning: X has feature names, but LinearRegression was fitted without feature names\n",
      "  warnings.warn(\n"
     ]
    }
   ],
   "source": [
    "y_pred = model.predict(X_test)"
   ]
  },
  {
   "cell_type": "code",
   "execution_count": 32,
   "id": "6e41e6f4",
   "metadata": {},
   "outputs": [],
   "source": [
    "y_pred = pd.DataFrame(y_pred)"
   ]
  },
  {
   "cell_type": "code",
   "execution_count": 33,
   "id": "f9fe886e",
   "metadata": {},
   "outputs": [],
   "source": [
    "y_test = y_test.reset_index(drop=True)"
   ]
  },
  {
   "cell_type": "code",
   "execution_count": 34,
   "id": "ae28a81e",
   "metadata": {},
   "outputs": [],
   "source": [
    "resiudals_df = pd.concat([y_test,y_pred],axis=1)"
   ]
  },
  {
   "cell_type": "code",
   "execution_count": 35,
   "id": "80ede0dd",
   "metadata": {},
   "outputs": [],
   "source": [
    "residuals_df = resiudals_df.rename(columns={\"total_claim_amount\":\"y_test\", 0:\"y_pred\"})"
   ]
  },
  {
   "cell_type": "code",
   "execution_count": 36,
   "id": "9431062a",
   "metadata": {},
   "outputs": [],
   "source": [
    "residuals_df[\"residual\"] = residuals_df[\"y_test\"]-residuals_df[\"y_pred\"]"
   ]
  },
  {
   "cell_type": "code",
   "execution_count": 58,
   "id": "527caa74",
   "metadata": {
    "scrolled": true
   },
   "outputs": [
    {
     "data": {
      "text/html": [
       "<div>\n",
       "<style scoped>\n",
       "    .dataframe tbody tr th:only-of-type {\n",
       "        vertical-align: middle;\n",
       "    }\n",
       "\n",
       "    .dataframe tbody tr th {\n",
       "        vertical-align: top;\n",
       "    }\n",
       "\n",
       "    .dataframe thead th {\n",
       "        text-align: right;\n",
       "    }\n",
       "</style>\n",
       "<table border=\"1\" class=\"dataframe\">\n",
       "  <thead>\n",
       "    <tr style=\"text-align: right;\">\n",
       "      <th></th>\n",
       "      <th>y_test</th>\n",
       "      <th>y_pred</th>\n",
       "      <th>residual</th>\n",
       "    </tr>\n",
       "  </thead>\n",
       "  <tbody>\n",
       "    <tr>\n",
       "      <th>0</th>\n",
       "      <td>585</td>\n",
       "      <td>-764527.96</td>\n",
       "      <td>765112.96</td>\n",
       "    </tr>\n",
       "    <tr>\n",
       "      <th>1</th>\n",
       "      <td>601</td>\n",
       "      <td>-1034800.20</td>\n",
       "      <td>1035401.20</td>\n",
       "    </tr>\n",
       "    <tr>\n",
       "      <th>2</th>\n",
       "      <td>62</td>\n",
       "      <td>-2946894.31</td>\n",
       "      <td>2946956.31</td>\n",
       "    </tr>\n",
       "    <tr>\n",
       "      <th>3</th>\n",
       "      <td>18</td>\n",
       "      <td>-1921833.07</td>\n",
       "      <td>1921851.07</td>\n",
       "    </tr>\n",
       "    <tr>\n",
       "      <th>4</th>\n",
       "      <td>404</td>\n",
       "      <td>-939061.38</td>\n",
       "      <td>939465.38</td>\n",
       "    </tr>\n",
       "    <tr>\n",
       "      <th>...</th>\n",
       "      <td>...</td>\n",
       "      <td>...</td>\n",
       "      <td>...</td>\n",
       "    </tr>\n",
       "    <tr>\n",
       "      <th>2266</th>\n",
       "      <td>231</td>\n",
       "      <td>-1348473.73</td>\n",
       "      <td>1348704.73</td>\n",
       "    </tr>\n",
       "    <tr>\n",
       "      <th>2267</th>\n",
       "      <td>297</td>\n",
       "      <td>-1837627.68</td>\n",
       "      <td>1837924.68</td>\n",
       "    </tr>\n",
       "    <tr>\n",
       "      <th>2268</th>\n",
       "      <td>494</td>\n",
       "      <td>-761955.72</td>\n",
       "      <td>762449.72</td>\n",
       "    </tr>\n",
       "    <tr>\n",
       "      <th>2269</th>\n",
       "      <td>307</td>\n",
       "      <td>-968217.34</td>\n",
       "      <td>968524.34</td>\n",
       "    </tr>\n",
       "    <tr>\n",
       "      <th>2270</th>\n",
       "      <td>582</td>\n",
       "      <td>-3051132.19</td>\n",
       "      <td>3051714.19</td>\n",
       "    </tr>\n",
       "  </tbody>\n",
       "</table>\n",
       "<p>2271 rows × 3 columns</p>\n",
       "</div>"
      ],
      "text/plain": [
       "      y_test      y_pred    residual\n",
       "0        585  -764527.96   765112.96\n",
       "1        601 -1034800.20  1035401.20\n",
       "2         62 -2946894.31  2946956.31\n",
       "3         18 -1921833.07  1921851.07\n",
       "4        404  -939061.38   939465.38\n",
       "...      ...         ...         ...\n",
       "2266     231 -1348473.73  1348704.73\n",
       "2267     297 -1837627.68  1837924.68\n",
       "2268     494  -761955.72   762449.72\n",
       "2269     307  -968217.34   968524.34\n",
       "2270     582 -3051132.19  3051714.19\n",
       "\n",
       "[2271 rows x 3 columns]"
      ]
     },
     "execution_count": 58,
     "metadata": {},
     "output_type": "execute_result"
    }
   ],
   "source": [
    "round(residuals_df,2)"
   ]
  },
  {
   "cell_type": "code",
   "execution_count": null,
   "id": "3bfd00d8",
   "metadata": {},
   "outputs": [],
   "source": []
  }
 ],
 "metadata": {
  "kernelspec": {
   "display_name": "Python 3 (ipykernel)",
   "language": "python",
   "name": "python3"
  },
  "language_info": {
   "codemirror_mode": {
    "name": "ipython",
    "version": 3
   },
   "file_extension": ".py",
   "mimetype": "text/x-python",
   "name": "python",
   "nbconvert_exporter": "python",
   "pygments_lexer": "ipython3",
   "version": "3.11.5"
  }
 },
 "nbformat": 4,
 "nbformat_minor": 5
}
