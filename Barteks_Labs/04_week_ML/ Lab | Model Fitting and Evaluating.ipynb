{
 "cells": [
  {
   "cell_type": "code",
   "execution_count": 75,
   "id": "362657fa",
   "metadata": {},
   "outputs": [],
   "source": [
    "import pandas as pd\n",
    "df = pd.read_csv(\"Data_Marketing_Customer_Analysis_Round3.csv\")"
   ]
  },
  {
   "cell_type": "code",
   "execution_count": 76,
   "id": "19e9582e",
   "metadata": {},
   "outputs": [],
   "source": [
    "# creating numerical_df\n",
    "df = df.select_dtypes(include=['number'])"
   ]
  },
  {
   "cell_type": "markdown",
   "id": "d1c83967",
   "metadata": {},
   "source": [
    "### DATA WRANGLING"
   ]
  },
  {
   "cell_type": "code",
   "execution_count": 77,
   "id": "e18bd51a",
   "metadata": {
    "collapsed": true
   },
   "outputs": [
    {
     "name": "stdout",
     "output_type": "stream",
     "text": [
      "<class 'pandas.core.frame.DataFrame'>\n",
      "Index: 9082 entries, 0 to 10688\n",
      "Data columns (total 8 columns):\n",
      " #   Column                         Non-Null Count  Dtype\n",
      "---  ------                         --------------  -----\n",
      " 0   customer_lifetime_value        9082 non-null   int64\n",
      " 1   income                         9082 non-null   int64\n",
      " 2   monthly_premium_auto           9082 non-null   int64\n",
      " 3   months_since_last_claim        9082 non-null   int64\n",
      " 4   months_since_policy_inception  9082 non-null   int64\n",
      " 5   number_of_open_complaints      9082 non-null   int64\n",
      " 6   number_of_policies             9082 non-null   int64\n",
      " 7   total_claim_amount             9082 non-null   int64\n",
      "dtypes: int64(8)\n",
      "memory usage: 638.6 KB\n"
     ]
    }
   ],
   "source": [
    "df = df.dropna()\n",
    "df = df.drop_duplicates()\n",
    "df.info()"
   ]
  },
  {
   "cell_type": "markdown",
   "id": "35793498",
   "metadata": {},
   "source": [
    "### SPLIT"
   ]
  },
  {
   "cell_type": "code",
   "execution_count": 78,
   "id": "92c10a44",
   "metadata": {},
   "outputs": [],
   "source": [
    " # Defining x explanatory variables and 1x y traget variable"
   ]
  },
  {
   "cell_type": "code",
   "execution_count": 79,
   "id": "8188fd3c",
   "metadata": {},
   "outputs": [],
   "source": [
    "X = df[[\"customer_lifetime_value\",\"income\",\"monthly_premium_auto\",\"months_since_last_claim\",\"months_since_policy_inception\",\n",
    "        \"number_of_open_complaints\",\"number_of_policies\"]]\n",
    "y = df[[\"total_claim_amount\"]]"
   ]
  },
  {
   "cell_type": "code",
   "execution_count": 80,
   "id": "00cf2328",
   "metadata": {},
   "outputs": [],
   "source": [
    "from sklearn.model_selection import train_test_split"
   ]
  },
  {
   "cell_type": "code",
   "execution_count": 122,
   "id": "82528181",
   "metadata": {},
   "outputs": [],
   "source": [
    "X_train, X_test, y_train, y_test = train_test_split(X,y,random_state = 100)"
   ]
  },
  {
   "cell_type": "markdown",
   "id": "3c91168d",
   "metadata": {},
   "source": [
    "### SCALING WITH PT (PowerTransformer)"
   ]
  },
  {
   "cell_type": "code",
   "execution_count": 46,
   "id": "d40a9074",
   "metadata": {},
   "outputs": [],
   "source": [
    "# SCALE VARIABLES AFTER THE SPLIT (NOT TO MIX TEST AND TRAIN DATA)"
   ]
  },
  {
   "cell_type": "code",
   "execution_count": 81,
   "id": "8703a923",
   "metadata": {},
   "outputs": [],
   "source": [
    "import seaborn as sns"
   ]
  },
  {
   "cell_type": "code",
   "execution_count": 102,
   "id": "7196557e",
   "metadata": {},
   "outputs": [],
   "source": [
    "from sklearn.preprocessing import MinMaxScaler, StandardScaler, PowerTransformer\n",
    "import numpy as np"
   ]
  },
  {
   "cell_type": "code",
   "execution_count": 103,
   "id": "8d9187da",
   "metadata": {},
   "outputs": [],
   "source": [
    "# Iniciated the PowerTransformer my my case # \"pt\" is the scaler \n",
    "pt = PowerTransformer()\n",
    "\n",
    "# Fit the transformer to my X_train data \n",
    "pt = pt.fit(X_train)\n",
    "\n",
    "# Transform X_train using the fitted transformer\n",
    "X_train_trans = pt.transform(X_train)\n",
    "\n",
    "# Transform X_test using the fitted transformer\n",
    "X_test_trans = pt.transform(X_test) \n",
    "\n",
    "# keeps them separately. It also ensures consistency in the transformation process, but only for X! \n",
    "\n",
    "# --------------------WHY DONT WE SCALE Y???? --------------------------------"
   ]
  },
  {
   "cell_type": "code",
   "execution_count": 119,
   "id": "7459f5d6",
   "metadata": {},
   "outputs": [
    {
     "data": {
      "text/plain": [
       "array([[<Axes: title={'center': 'total_claim_amount'}>]], dtype=object)"
      ]
     },
     "execution_count": 119,
     "metadata": {},
     "output_type": "execute_result"
    },
    {
     "data": {
      "image/png": "[encoded data removed]",
      "text/plain": [
       "<Figure size 640x480 with 1 Axes>"
      ]
     },
     "metadata": {},
     "output_type": "display_data"
    }
   ],
   "source": [
    "y_train.hist()"
   ]
  },
  {
   "cell_type": "markdown",
   "id": "512a8864",
   "metadata": {},
   "source": [
    "###  ALTERNATIVE: SCALING WITH STANDARD SCALER "
   ]
  },
  {
   "cell_type": "code",
   "execution_count": 124,
   "id": "e4f60eaa",
   "metadata": {},
   "outputs": [],
   "source": [
    "# calling the scaler and saving with scaler \n",
    "scaler = StandardScaler()\n",
    "\n",
    "# create the frame/fit\n",
    "scaler = scaler.fit(X_train)\n",
    "\n",
    "# populate with data/transform and save in new variables \n",
    "X_train_trans = scaler.transform(X_train)\n",
    "X_test_trans = scaler.transform(X_test)"
   ]
  },
  {
   "cell_type": "code",
   "execution_count": 125,
   "id": "fd635e69",
   "metadata": {},
   "outputs": [
    {
     "data": {
      "text/html": [
       "<style>#sk-container-id-1 {color: black;}#sk-container-id-1 pre{padding: 0;}#sk-container-id-1 div.sk-toggleable {background-color: white;}#sk-container-id-1 label.sk-toggleable__label {cursor: pointer;display: block;width: 100%;margin-bottom: 0;padding: 0.3em;box-sizing: border-box;text-align: center;}#sk-container-id-1 label.sk-toggleable__label-arrow:before {content: \"▸\";float: left;margin-right: 0.25em;color: #696969;}#sk-container-id-1 label.sk-toggleable__label-arrow:hover:before {color: black;}#sk-container-id-1 div.sk-estimator:hover label.sk-toggleable__label-arrow:before {color: black;}#sk-container-id-1 div.sk-toggleable__content {max-height: 0;max-width: 0;overflow: hidden;text-align: left;background-color: #f0f8ff;}#sk-container-id-1 div.sk-toggleable__content pre {margin: 0.2em;color: black;border-radius: 0.25em;background-color: #f0f8ff;}#sk-container-id-1 input.sk-toggleable__control:checked~div.sk-toggleable__content {max-height: 200px;max-width: 100%;overflow: auto;}#sk-container-id-1 input.sk-toggleable__control:checked~label.sk-toggleable__label-arrow:before {content: \"▾\";}#sk-container-id-1 div.sk-estimator input.sk-toggleable__control:checked~label.sk-toggleable__label {background-color: #d4ebff;}#sk-container-id-1 div.sk-label input.sk-toggleable__control:checked~label.sk-toggleable__label {background-color: #d4ebff;}#sk-container-id-1 input.sk-hidden--visually {border: 0;clip: rect(1px 1px 1px 1px);clip: rect(1px, 1px, 1px, 1px);height: 1px;margin: -1px;overflow: hidden;padding: 0;position: absolute;width: 1px;}#sk-container-id-1 div.sk-estimator {font-family: monospace;background-color: #f0f8ff;border: 1px dotted black;border-radius: 0.25em;box-sizing: border-box;margin-bottom: 0.5em;}#sk-container-id-1 div.sk-estimator:hover {background-color: #d4ebff;}#sk-container-id-1 div.sk-parallel-item::after {content: \"\";width: 100%;border-bottom: 1px solid gray;flex-grow: 1;}#sk-container-id-1 div.sk-label:hover label.sk-toggleable__label {background-color: #d4ebff;}#sk-container-id-1 div.sk-serial::before {content: \"\";position: absolute;border-left: 1px solid gray;box-sizing: border-box;top: 0;bottom: 0;left: 50%;z-index: 0;}#sk-container-id-1 div.sk-serial {display: flex;flex-direction: column;align-items: center;background-color: white;padding-right: 0.2em;padding-left: 0.2em;position: relative;}#sk-container-id-1 div.sk-item {position: relative;z-index: 1;}#sk-container-id-1 div.sk-parallel {display: flex;align-items: stretch;justify-content: center;background-color: white;position: relative;}#sk-container-id-1 div.sk-item::before, #sk-container-id-1 div.sk-parallel-item::before {content: \"\";position: absolute;border-left: 1px solid gray;box-sizing: border-box;top: 0;bottom: 0;left: 50%;z-index: -1;}#sk-container-id-1 div.sk-parallel-item {display: flex;flex-direction: column;z-index: 1;position: relative;background-color: white;}#sk-container-id-1 div.sk-parallel-item:first-child::after {align-self: flex-end;width: 50%;}#sk-container-id-1 div.sk-parallel-item:last-child::after {align-self: flex-start;width: 50%;}#sk-container-id-1 div.sk-parallel-item:only-child::after {width: 0;}#sk-container-id-1 div.sk-dashed-wrapped {border: 1px dashed gray;margin: 0 0.4em 0.5em 0.4em;box-sizing: border-box;padding-bottom: 0.4em;background-color: white;}#sk-container-id-1 div.sk-label label {font-family: monospace;font-weight: bold;display: inline-block;line-height: 1.2em;}#sk-container-id-1 div.sk-label-container {text-align: center;}#sk-container-id-1 div.sk-container {/* jupyter's `normalize.less` sets `[hidden] { display: none; }` but bootstrap.min.css set `[hidden] { display: none !important; }` so we also need the `!important` here to be able to override the default hidden behavior on the sphinx rendered scikit-learn.org. See: https://github.com/scikit-learn/scikit-learn/issues/21755 */display: inline-block !important;position: relative;}#sk-container-id-1 div.sk-text-repr-fallback {display: none;}</style><div id=\"sk-container-id-1\" class=\"sk-top-container\"><div class=\"sk-text-repr-fallback\"><pre>StandardScaler()</pre><b>In a Jupyter environment, please rerun this cell to show the HTML representation or trust the notebook. <br />On GitHub, the HTML representation is unable to render, please try loading this page with nbviewer.org.</b></div><div class=\"sk-container\" hidden><div class=\"sk-item\"><div class=\"sk-estimator sk-toggleable\"><input class=\"sk-toggleable__control sk-hidden--visually\" id=\"sk-estimator-id-1\" type=\"checkbox\" checked><label for=\"sk-estimator-id-1\" class=\"sk-toggleable__label sk-toggleable__label-arrow\">StandardScaler</label><div class=\"sk-toggleable__content\"><pre>StandardScaler()</pre></div></div></div></div></div>"
      ],
      "text/plain": [
       "StandardScaler()"
      ]
     },
     "execution_count": 125,
     "metadata": {},
     "output_type": "execute_result"
    }
   ],
   "source": [
    "X_train_fit"
   ]
  },
  {
   "cell_type": "markdown",
   "id": "91f03b01",
   "metadata": {},
   "source": [
    "### Model training"
   ]
  },
  {
   "cell_type": "code",
   "execution_count": 67,
   "id": "878544c4",
   "metadata": {},
   "outputs": [],
   "source": [
    "from sklearn.linear_model import LinearRegression"
   ]
  },
  {
   "cell_type": "code",
   "execution_count": 107,
   "id": "4762ea12",
   "metadata": {},
   "outputs": [],
   "source": [
    "# i train the model with the transformed training sets from exploring var x and **non-transformed** labels y\n",
    "lm = LinearRegression()\n",
    "model = lm.fit(X_train_trans,y_train) "
   ]
  },
  {
   "cell_type": "code",
   "execution_count": 108,
   "id": "230c7057",
   "metadata": {},
   "outputs": [
    {
     "data": {
      "text/plain": [
       "array([[-1.19519701e+01, -3.04144244e+01,  1.92214112e+02,\n",
       "         4.02244419e+00, -2.29588856e+00, -2.73817298e+00,\n",
       "        -8.76425690e-02]])"
      ]
     },
     "execution_count": 108,
     "metadata": {},
     "output_type": "execute_result"
    }
   ],
   "source": [
    "model.coef_"
   ]
  },
  {
   "cell_type": "code",
   "execution_count": 109,
   "id": "2b4b5791",
   "metadata": {},
   "outputs": [
    {
     "data": {
      "text/plain": [
       "array([438.93716048])"
      ]
     },
     "execution_count": 109,
     "metadata": {},
     "output_type": "execute_result"
    }
   ],
   "source": [
    "model.intercept_\n",
    "\n",
    "# --------- intercept for what? ----------------"
   ]
  },
  {
   "cell_type": "markdown",
   "id": "19e8d923",
   "metadata": {},
   "source": [
    "### Model Interpretation"
   ]
  },
  {
   "cell_type": "code",
   "execution_count": 110,
   "id": "c7fe112f",
   "metadata": {
    "collapsed": true
   },
   "outputs": [
    {
     "name": "stderr",
     "output_type": "stream",
     "text": [
      "/Users/bart/anaconda3/lib/python3.11/site-packages/sklearn/base.py:457: UserWarning: X has feature names, but LinearRegression was fitted without feature names\n",
      "  warnings.warn(\n"
     ]
    },
    {
     "data": {
      "text/plain": [
       "array([[ -751122.13934811],\n",
       "       [-1034822.83200524],\n",
       "       [-2819133.43486321],\n",
       "       ...,\n",
       "       [ -744999.53341195],\n",
       "       [ -949514.46243699],\n",
       "       [-2894525.84902844]])"
      ]
     },
     "execution_count": 110,
     "metadata": {},
     "output_type": "execute_result"
    }
   ],
   "source": [
    "predictions = model.predict(X_test)\n",
    "predictions"
   ]
  },
  {
   "cell_type": "code",
   "execution_count": 74,
   "id": "277d1ae5",
   "metadata": {},
   "outputs": [],
   "source": [
    "# -----  is this correct???? do i use the unscaled x_test? why? ----------\n",
    "random_test = X_test.sample()"
   ]
  },
  {
   "cell_type": "code",
   "execution_count": 57,
   "id": "7c20ecb0",
   "metadata": {},
   "outputs": [
    {
     "data": {
      "text/html": [
       "<div>\n",
       "<style scoped>\n",
       "    .dataframe tbody tr th:only-of-type {\n",
       "        vertical-align: middle;\n",
       "    }\n",
       "\n",
       "    .dataframe tbody tr th {\n",
       "        vertical-align: top;\n",
       "    }\n",
       "\n",
       "    .dataframe thead th {\n",
       "        text-align: right;\n",
       "    }\n",
       "</style>\n",
       "<table border=\"1\" class=\"dataframe\">\n",
       "  <thead>\n",
       "    <tr style=\"text-align: right;\">\n",
       "      <th></th>\n",
       "      <th>customer_lifetime_value</th>\n",
       "      <th>income</th>\n",
       "      <th>monthly_premium_auto</th>\n",
       "      <th>months_since_last_claim</th>\n",
       "      <th>months_since_policy_inception</th>\n",
       "      <th>number_of_open_complaints</th>\n",
       "      <th>number_of_policies</th>\n",
       "    </tr>\n",
       "  </thead>\n",
       "  <tbody>\n",
       "    <tr>\n",
       "      <th>1452</th>\n",
       "      <td>11073</td>\n",
       "      <td>82807</td>\n",
       "      <td>92</td>\n",
       "      <td>15</td>\n",
       "      <td>20</td>\n",
       "      <td>0</td>\n",
       "      <td>2</td>\n",
       "    </tr>\n",
       "  </tbody>\n",
       "</table>\n",
       "</div>"
      ],
      "text/plain": [
       "      customer_lifetime_value  income  monthly_premium_auto  \\\n",
       "1452                    11073   82807                    92   \n",
       "\n",
       "      months_since_last_claim  months_since_policy_inception  \\\n",
       "1452                       15                             20   \n",
       "\n",
       "      number_of_open_complaints  number_of_policies  \n",
       "1452                          0                   2  "
      ]
     },
     "execution_count": 57,
     "metadata": {},
     "output_type": "execute_result"
    }
   ],
   "source": [
    "random_test"
   ]
  },
  {
   "cell_type": "code",
   "execution_count": 19,
   "id": "f7679d5b",
   "metadata": {},
   "outputs": [
    {
     "name": "stderr",
     "output_type": "stream",
     "text": [
      "/Users/bart/anaconda3/lib/python3.11/site-packages/sklearn/base.py:457: UserWarning: X has feature names, but LinearRegression was fitted without feature names\n",
      "  warnings.warn(\n"
     ]
    },
    {
     "data": {
      "text/plain": [
       "array([[-553098.71256027]])"
      ]
     },
     "execution_count": 19,
     "metadata": {},
     "output_type": "execute_result"
    }
   ],
   "source": [
    "model.predict(random_test)"
   ]
  },
  {
   "cell_type": "markdown",
   "id": "2d80149d",
   "metadata": {},
   "source": [
    "### Create predictions for test set"
   ]
  },
  {
   "cell_type": "code",
   "execution_count": 112,
   "id": "85c88806",
   "metadata": {},
   "outputs": [],
   "source": [
    "y_pred = model.predict(X_test_trans)"
   ]
  },
  {
   "cell_type": "code",
   "execution_count": 113,
   "id": "6e41e6f4",
   "metadata": {},
   "outputs": [],
   "source": [
    "y_pred = pd.DataFrame(y_pred)"
   ]
  },
  {
   "cell_type": "code",
   "execution_count": 114,
   "id": "f9fe886e",
   "metadata": {},
   "outputs": [],
   "source": [
    "y_test = y_test.reset_index(drop=True)"
   ]
  },
  {
   "cell_type": "code",
   "execution_count": 115,
   "id": "ae28a81e",
   "metadata": {},
   "outputs": [],
   "source": [
    "resiudals_df = pd.concat([y_test,y_pred],axis=1)"
   ]
  },
  {
   "cell_type": "code",
   "execution_count": 116,
   "id": "80ede0dd",
   "metadata": {},
   "outputs": [],
   "source": [
    "residuals_df = resiudals_df.rename(columns={\"total_claim_amount\":\"y_test\", 0:\"y_pred\"})\n",
    "\n",
    "# -------- WHAT IS HAPPENING HERE? --------  NOT ENTIERLY CLEAR ----------"
   ]
  },
  {
   "cell_type": "code",
   "execution_count": 117,
   "id": "9431062a",
   "metadata": {},
   "outputs": [],
   "source": [
    "residuals_df[\"residual\"] = residuals_df[\"y_test\"]-residuals_df[\"y_pred\"]"
   ]
  },
  {
   "cell_type": "code",
   "execution_count": 118,
   "id": "527caa74",
   "metadata": {
    "scrolled": true
   },
   "outputs": [
    {
     "data": {
      "text/html": [
       "<div>\n",
       "<style scoped>\n",
       "    .dataframe tbody tr th:only-of-type {\n",
       "        vertical-align: middle;\n",
       "    }\n",
       "\n",
       "    .dataframe tbody tr th {\n",
       "        vertical-align: top;\n",
       "    }\n",
       "\n",
       "    .dataframe thead th {\n",
       "        text-align: right;\n",
       "    }\n",
       "</style>\n",
       "<table border=\"1\" class=\"dataframe\">\n",
       "  <thead>\n",
       "    <tr style=\"text-align: right;\">\n",
       "      <th></th>\n",
       "      <th>y_test</th>\n",
       "      <th>y_pred</th>\n",
       "      <th>residual</th>\n",
       "    </tr>\n",
       "  </thead>\n",
       "  <tbody>\n",
       "    <tr>\n",
       "      <th>0</th>\n",
       "      <td>585</td>\n",
       "      <td>642.70</td>\n",
       "      <td>-57.70</td>\n",
       "    </tr>\n",
       "    <tr>\n",
       "      <th>1</th>\n",
       "      <td>601</td>\n",
       "      <td>518.33</td>\n",
       "      <td>82.67</td>\n",
       "    </tr>\n",
       "    <tr>\n",
       "      <th>2</th>\n",
       "      <td>62</td>\n",
       "      <td>307.72</td>\n",
       "      <td>-245.72</td>\n",
       "    </tr>\n",
       "    <tr>\n",
       "      <th>3</th>\n",
       "      <td>18</td>\n",
       "      <td>260.82</td>\n",
       "      <td>-242.82</td>\n",
       "    </tr>\n",
       "    <tr>\n",
       "      <th>4</th>\n",
       "      <td>404</td>\n",
       "      <td>970.42</td>\n",
       "      <td>-566.42</td>\n",
       "    </tr>\n",
       "    <tr>\n",
       "      <th>...</th>\n",
       "      <td>...</td>\n",
       "      <td>...</td>\n",
       "      <td>...</td>\n",
       "    </tr>\n",
       "    <tr>\n",
       "      <th>2266</th>\n",
       "      <td>231</td>\n",
       "      <td>533.17</td>\n",
       "      <td>-302.17</td>\n",
       "    </tr>\n",
       "    <tr>\n",
       "      <th>2267</th>\n",
       "      <td>297</td>\n",
       "      <td>252.52</td>\n",
       "      <td>44.48</td>\n",
       "    </tr>\n",
       "    <tr>\n",
       "      <th>2268</th>\n",
       "      <td>494</td>\n",
       "      <td>540.18</td>\n",
       "      <td>-46.18</td>\n",
       "    </tr>\n",
       "    <tr>\n",
       "      <th>2269</th>\n",
       "      <td>307</td>\n",
       "      <td>313.82</td>\n",
       "      <td>-6.82</td>\n",
       "    </tr>\n",
       "    <tr>\n",
       "      <th>2270</th>\n",
       "      <td>582</td>\n",
       "      <td>346.66</td>\n",
       "      <td>235.34</td>\n",
       "    </tr>\n",
       "  </tbody>\n",
       "</table>\n",
       "<p>2271 rows × 3 columns</p>\n",
       "</div>"
      ],
      "text/plain": [
       "      y_test  y_pred  residual\n",
       "0        585  642.70    -57.70\n",
       "1        601  518.33     82.67\n",
       "2         62  307.72   -245.72\n",
       "3         18  260.82   -242.82\n",
       "4        404  970.42   -566.42\n",
       "...      ...     ...       ...\n",
       "2266     231  533.17   -302.17\n",
       "2267     297  252.52     44.48\n",
       "2268     494  540.18    -46.18\n",
       "2269     307  313.82     -6.82\n",
       "2270     582  346.66    235.34\n",
       "\n",
       "[2271 rows x 3 columns]"
      ]
     },
     "execution_count": 118,
     "metadata": {},
     "output_type": "execute_result"
    }
   ],
   "source": [
    "round(residuals_df,2)"
   ]
  },
  {
   "cell_type": "code",
   "execution_count": null,
   "id": "3bfd00d8",
   "metadata": {},
   "outputs": [],
   "source": []
  }
 ],
 "metadata": {
  "kernelspec": {
   "display_name": "Python 3 (ipykernel)",
   "language": "python",
   "name": "python3"
  },
  "language_info": {
   "codemirror_mode": {
    "name": "ipython",
    "version": 3
   },
   "file_extension": ".py",
   "mimetype": "text/x-python",
   "name": "python",
   "nbconvert_exporter": "python",
   "pygments_lexer": "ipython3",
   "version": "3.11.5"
  }
 },
 "nbformat": 4,
 "nbformat_minor": 5
}
