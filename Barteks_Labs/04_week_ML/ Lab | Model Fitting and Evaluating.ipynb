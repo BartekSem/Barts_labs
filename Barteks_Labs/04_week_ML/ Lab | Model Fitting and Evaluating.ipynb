{
 "cells": [
  {
   "cell_type": "code",
   "execution_count": 1,
   "id": "22221d54",
   "metadata": {},
   "outputs": [
    {
     "data": {
      "text/html": [
       "<div>\n",
       "<style scoped>\n",
       "    .dataframe tbody tr th:only-of-type {\n",
       "        vertical-align: middle;\n",
       "    }\n",
       "\n",
       "    .dataframe tbody tr th {\n",
       "        vertical-align: top;\n",
       "    }\n",
       "\n",
       "    .dataframe thead th {\n",
       "        text-align: right;\n",
       "    }\n",
       "</style>\n",
       "<table border=\"1\" class=\"dataframe\">\n",
       "  <thead>\n",
       "    <tr style=\"text-align: right;\">\n",
       "      <th></th>\n",
       "      <th>region</th>\n",
       "      <th>customer_lifetime_value</th>\n",
       "      <th>response</th>\n",
       "      <th>coverage</th>\n",
       "      <th>education</th>\n",
       "      <th>effective_to_date</th>\n",
       "      <th>month</th>\n",
       "      <th>employment_status</th>\n",
       "      <th>gender</th>\n",
       "      <th>income</th>\n",
       "      <th>...</th>\n",
       "      <th>months_since_policy_inception</th>\n",
       "      <th>number_of_open_complaints</th>\n",
       "      <th>number_of_policies</th>\n",
       "      <th>policy_type</th>\n",
       "      <th>policy</th>\n",
       "      <th>renew_offer_type</th>\n",
       "      <th>sales_channel</th>\n",
       "      <th>total_claim_amount</th>\n",
       "      <th>vehicle_class</th>\n",
       "      <th>vehicle_size</th>\n",
       "    </tr>\n",
       "  </thead>\n",
       "  <tbody>\n",
       "    <tr>\n",
       "      <th>0</th>\n",
       "      <td>central</td>\n",
       "      <td>4809</td>\n",
       "      <td>no</td>\n",
       "      <td>basic</td>\n",
       "      <td>college</td>\n",
       "      <td>2/18/11</td>\n",
       "      <td>feb</td>\n",
       "      <td>employed</td>\n",
       "      <td>m</td>\n",
       "      <td>48029</td>\n",
       "      <td>...</td>\n",
       "      <td>52</td>\n",
       "      <td>0</td>\n",
       "      <td>9</td>\n",
       "      <td>corporate auto</td>\n",
       "      <td>corporate l3</td>\n",
       "      <td>offer3</td>\n",
       "      <td>agent</td>\n",
       "      <td>292</td>\n",
       "      <td>four-door car</td>\n",
       "      <td>medsize</td>\n",
       "    </tr>\n",
       "    <tr>\n",
       "      <th>1</th>\n",
       "      <td>west region</td>\n",
       "      <td>2228</td>\n",
       "      <td>no</td>\n",
       "      <td>basic</td>\n",
       "      <td>college</td>\n",
       "      <td>1/18/11</td>\n",
       "      <td>jan</td>\n",
       "      <td>unemployed</td>\n",
       "      <td>f</td>\n",
       "      <td>92260</td>\n",
       "      <td>...</td>\n",
       "      <td>26</td>\n",
       "      <td>0</td>\n",
       "      <td>1</td>\n",
       "      <td>personal auto</td>\n",
       "      <td>personal l3</td>\n",
       "      <td>offer4</td>\n",
       "      <td>call center</td>\n",
       "      <td>744</td>\n",
       "      <td>four-door car</td>\n",
       "      <td>medsize</td>\n",
       "    </tr>\n",
       "    <tr>\n",
       "      <th>2</th>\n",
       "      <td>east</td>\n",
       "      <td>14947</td>\n",
       "      <td>no</td>\n",
       "      <td>basic</td>\n",
       "      <td>bachelor</td>\n",
       "      <td>2/10/11</td>\n",
       "      <td>feb</td>\n",
       "      <td>employed</td>\n",
       "      <td>m</td>\n",
       "      <td>22139</td>\n",
       "      <td>...</td>\n",
       "      <td>31</td>\n",
       "      <td>0</td>\n",
       "      <td>2</td>\n",
       "      <td>personal auto</td>\n",
       "      <td>personal l3</td>\n",
       "      <td>offer3</td>\n",
       "      <td>call center</td>\n",
       "      <td>480</td>\n",
       "      <td>suv</td>\n",
       "      <td>medsize</td>\n",
       "    </tr>\n",
       "    <tr>\n",
       "      <th>3</th>\n",
       "      <td>north west</td>\n",
       "      <td>22332</td>\n",
       "      <td>yes</td>\n",
       "      <td>extended</td>\n",
       "      <td>college</td>\n",
       "      <td>1/11/11</td>\n",
       "      <td>jan</td>\n",
       "      <td>employed</td>\n",
       "      <td>m</td>\n",
       "      <td>49078</td>\n",
       "      <td>...</td>\n",
       "      <td>3</td>\n",
       "      <td>0</td>\n",
       "      <td>2</td>\n",
       "      <td>corporate auto</td>\n",
       "      <td>corporate l3</td>\n",
       "      <td>offer2</td>\n",
       "      <td>branch</td>\n",
       "      <td>484</td>\n",
       "      <td>four-door car</td>\n",
       "      <td>medsize</td>\n",
       "    </tr>\n",
       "    <tr>\n",
       "      <th>4</th>\n",
       "      <td>north west</td>\n",
       "      <td>9025</td>\n",
       "      <td>no</td>\n",
       "      <td>premium</td>\n",
       "      <td>bachelor</td>\n",
       "      <td>1/17/11</td>\n",
       "      <td>jan</td>\n",
       "      <td>medical leave</td>\n",
       "      <td>f</td>\n",
       "      <td>23675</td>\n",
       "      <td>...</td>\n",
       "      <td>31</td>\n",
       "      <td>0</td>\n",
       "      <td>7</td>\n",
       "      <td>personal auto</td>\n",
       "      <td>personal l2</td>\n",
       "      <td>offer1</td>\n",
       "      <td>branch</td>\n",
       "      <td>707</td>\n",
       "      <td>four-door car</td>\n",
       "      <td>medsize</td>\n",
       "    </tr>\n",
       "  </tbody>\n",
       "</table>\n",
       "<p>5 rows × 24 columns</p>\n",
       "</div>"
      ],
      "text/plain": [
       "        region  customer_lifetime_value response  coverage education  \\\n",
       "0      central                     4809       no     basic   college   \n",
       "1  west region                     2228       no     basic   college   \n",
       "2         east                    14947       no     basic  bachelor   \n",
       "3   north west                    22332      yes  extended   college   \n",
       "4   north west                     9025       no   premium  bachelor   \n",
       "\n",
       "  effective_to_date month employment_status gender  income  ...  \\\n",
       "0           2/18/11   feb          employed      m   48029  ...   \n",
       "1           1/18/11   jan        unemployed      f   92260  ...   \n",
       "2           2/10/11   feb          employed      m   22139  ...   \n",
       "3           1/11/11   jan          employed      m   49078  ...   \n",
       "4           1/17/11   jan     medical leave      f   23675  ...   \n",
       "\n",
       "  months_since_policy_inception number_of_open_complaints  number_of_policies  \\\n",
       "0                            52                         0                   9   \n",
       "1                            26                         0                   1   \n",
       "2                            31                         0                   2   \n",
       "3                             3                         0                   2   \n",
       "4                            31                         0                   7   \n",
       "\n",
       "      policy_type        policy  renew_offer_type  sales_channel  \\\n",
       "0  corporate auto  corporate l3            offer3          agent   \n",
       "1   personal auto   personal l3            offer4    call center   \n",
       "2   personal auto   personal l3            offer3    call center   \n",
       "3  corporate auto  corporate l3            offer2         branch   \n",
       "4   personal auto   personal l2            offer1         branch   \n",
       "\n",
       "  total_claim_amount  vehicle_class vehicle_size  \n",
       "0                292  four-door car      medsize  \n",
       "1                744  four-door car      medsize  \n",
       "2                480            suv      medsize  \n",
       "3                484  four-door car      medsize  \n",
       "4                707  four-door car      medsize  \n",
       "\n",
       "[5 rows x 24 columns]"
      ]
     },
     "execution_count": 1,
     "metadata": {},
     "output_type": "execute_result"
    }
   ],
   "source": [
    "import pandas as pd\n",
    "df = pd.read_csv(\"Data_Marketing_Customer_Analysis_Round3.csv\")\n",
    "df.head()"
   ]
  },
  {
   "cell_type": "code",
   "execution_count": 4,
   "id": "05a1ef58",
   "metadata": {},
   "outputs": [
    {
     "data": {
      "text/html": [
       "<div>\n",
       "<style scoped>\n",
       "    .dataframe tbody tr th:only-of-type {\n",
       "        vertical-align: middle;\n",
       "    }\n",
       "\n",
       "    .dataframe tbody tr th {\n",
       "        vertical-align: top;\n",
       "    }\n",
       "\n",
       "    .dataframe thead th {\n",
       "        text-align: right;\n",
       "    }\n",
       "</style>\n",
       "<table border=\"1\" class=\"dataframe\">\n",
       "  <thead>\n",
       "    <tr style=\"text-align: right;\">\n",
       "      <th></th>\n",
       "      <th>customer_lifetime_value</th>\n",
       "      <th>income</th>\n",
       "      <th>monthly_premium_auto</th>\n",
       "      <th>months_since_last_claim</th>\n",
       "      <th>months_since_policy_inception</th>\n",
       "      <th>number_of_open_complaints</th>\n",
       "      <th>number_of_policies</th>\n",
       "      <th>total_claim_amount</th>\n",
       "    </tr>\n",
       "  </thead>\n",
       "  <tbody>\n",
       "    <tr>\n",
       "      <th>0</th>\n",
       "      <td>4809</td>\n",
       "      <td>48029</td>\n",
       "      <td>61</td>\n",
       "      <td>7</td>\n",
       "      <td>52</td>\n",
       "      <td>0</td>\n",
       "      <td>9</td>\n",
       "      <td>292</td>\n",
       "    </tr>\n",
       "    <tr>\n",
       "      <th>1</th>\n",
       "      <td>2228</td>\n",
       "      <td>92260</td>\n",
       "      <td>64</td>\n",
       "      <td>3</td>\n",
       "      <td>26</td>\n",
       "      <td>0</td>\n",
       "      <td>1</td>\n",
       "      <td>744</td>\n",
       "    </tr>\n",
       "    <tr>\n",
       "      <th>2</th>\n",
       "      <td>14947</td>\n",
       "      <td>22139</td>\n",
       "      <td>100</td>\n",
       "      <td>34</td>\n",
       "      <td>31</td>\n",
       "      <td>0</td>\n",
       "      <td>2</td>\n",
       "      <td>480</td>\n",
       "    </tr>\n",
       "    <tr>\n",
       "      <th>3</th>\n",
       "      <td>22332</td>\n",
       "      <td>49078</td>\n",
       "      <td>97</td>\n",
       "      <td>10</td>\n",
       "      <td>3</td>\n",
       "      <td>0</td>\n",
       "      <td>2</td>\n",
       "      <td>484</td>\n",
       "    </tr>\n",
       "    <tr>\n",
       "      <th>4</th>\n",
       "      <td>9025</td>\n",
       "      <td>23675</td>\n",
       "      <td>117</td>\n",
       "      <td>33</td>\n",
       "      <td>31</td>\n",
       "      <td>0</td>\n",
       "      <td>7</td>\n",
       "      <td>707</td>\n",
       "    </tr>\n",
       "    <tr>\n",
       "      <th>...</th>\n",
       "      <td>...</td>\n",
       "      <td>...</td>\n",
       "      <td>...</td>\n",
       "      <td>...</td>\n",
       "      <td>...</td>\n",
       "      <td>...</td>\n",
       "      <td>...</td>\n",
       "      <td>...</td>\n",
       "    </tr>\n",
       "    <tr>\n",
       "      <th>10684</th>\n",
       "      <td>15563</td>\n",
       "      <td>61541</td>\n",
       "      <td>253</td>\n",
       "      <td>12</td>\n",
       "      <td>40</td>\n",
       "      <td>0</td>\n",
       "      <td>7</td>\n",
       "      <td>1214</td>\n",
       "    </tr>\n",
       "    <tr>\n",
       "      <th>10685</th>\n",
       "      <td>5259</td>\n",
       "      <td>61146</td>\n",
       "      <td>65</td>\n",
       "      <td>7</td>\n",
       "      <td>68</td>\n",
       "      <td>0</td>\n",
       "      <td>6</td>\n",
       "      <td>273</td>\n",
       "    </tr>\n",
       "    <tr>\n",
       "      <th>10686</th>\n",
       "      <td>23893</td>\n",
       "      <td>39837</td>\n",
       "      <td>201</td>\n",
       "      <td>11</td>\n",
       "      <td>63</td>\n",
       "      <td>0</td>\n",
       "      <td>2</td>\n",
       "      <td>381</td>\n",
       "    </tr>\n",
       "    <tr>\n",
       "      <th>10687</th>\n",
       "      <td>11971</td>\n",
       "      <td>64195</td>\n",
       "      <td>158</td>\n",
       "      <td>0</td>\n",
       "      <td>27</td>\n",
       "      <td>4</td>\n",
       "      <td>6</td>\n",
       "      <td>618</td>\n",
       "    </tr>\n",
       "    <tr>\n",
       "      <th>10688</th>\n",
       "      <td>6857</td>\n",
       "      <td>68942</td>\n",
       "      <td>101</td>\n",
       "      <td>31</td>\n",
       "      <td>1</td>\n",
       "      <td>0</td>\n",
       "      <td>3</td>\n",
       "      <td>1021</td>\n",
       "    </tr>\n",
       "  </tbody>\n",
       "</table>\n",
       "<p>10689 rows × 8 columns</p>\n",
       "</div>"
      ],
      "text/plain": [
       "       customer_lifetime_value  income  monthly_premium_auto  \\\n",
       "0                         4809   48029                    61   \n",
       "1                         2228   92260                    64   \n",
       "2                        14947   22139                   100   \n",
       "3                        22332   49078                    97   \n",
       "4                         9025   23675                   117   \n",
       "...                        ...     ...                   ...   \n",
       "10684                    15563   61541                   253   \n",
       "10685                     5259   61146                    65   \n",
       "10686                    23893   39837                   201   \n",
       "10687                    11971   64195                   158   \n",
       "10688                     6857   68942                   101   \n",
       "\n",
       "       months_since_last_claim  months_since_policy_inception  \\\n",
       "0                            7                             52   \n",
       "1                            3                             26   \n",
       "2                           34                             31   \n",
       "3                           10                              3   \n",
       "4                           33                             31   \n",
       "...                        ...                            ...   \n",
       "10684                       12                             40   \n",
       "10685                        7                             68   \n",
       "10686                       11                             63   \n",
       "10687                        0                             27   \n",
       "10688                       31                              1   \n",
       "\n",
       "       number_of_open_complaints  number_of_policies  total_claim_amount  \n",
       "0                              0                   9                 292  \n",
       "1                              0                   1                 744  \n",
       "2                              0                   2                 480  \n",
       "3                              0                   2                 484  \n",
       "4                              0                   7                 707  \n",
       "...                          ...                 ...                 ...  \n",
       "10684                          0                   7                1214  \n",
       "10685                          0                   6                 273  \n",
       "10686                          0                   2                 381  \n",
       "10687                          4                   6                 618  \n",
       "10688                          0                   3                1021  \n",
       "\n",
       "[10689 rows x 8 columns]"
      ]
     },
     "execution_count": 4,
     "metadata": {},
     "output_type": "execute_result"
    }
   ],
   "source": [
    "# creating numerical_df\n",
    "numerical_df = df.select_dtypes(include=['number'])\n",
    "numerical_df"
   ]
  },
  {
   "cell_type": "markdown",
   "id": "7ad70114",
   "metadata": {},
   "source": [
    "### DATA WRANGLING"
   ]
  },
  {
   "cell_type": "code",
   "execution_count": 6,
   "id": "f2229110",
   "metadata": {},
   "outputs": [],
   "source": [
    "numerical_df = numerical_df.dropna()\n",
    "numerical_df = numerical_df.drop_duplicates()"
   ]
  },
  {
   "cell_type": "code",
   "execution_count": 8,
   "id": "9689f140",
   "metadata": {},
   "outputs": [],
   "source": [
    "df = numerical_df"
   ]
  },
  {
   "cell_type": "markdown",
   "id": "baacc0d7",
   "metadata": {},
   "source": [
    "### SPLIT"
   ]
  },
  {
   "cell_type": "code",
   "execution_count": null,
   "id": "31dded97",
   "metadata": {},
   "outputs": [],
   "source": [
    " # Defining x explanatory variables and 1x y traget variable"
   ]
  },
  {
   "cell_type": "code",
   "execution_count": 9,
   "id": "366a9cfd",
   "metadata": {},
   "outputs": [],
   "source": [
    "X = df[[\"customer_lifetime_value\",\"income\",\"monthly_premium_auto\",\"months_since_last_claim\",\"months_since_policy_inception\",\n",
    "        \"number_of_open_complaints\",\"number_of_policies\"]]\n",
    "y = df[[\"total_claim_amount\"]]"
   ]
  },
  {
   "cell_type": "code",
   "execution_count": 10,
   "id": "2dc54278",
   "metadata": {},
   "outputs": [],
   "source": [
    "from sklearn.model_selection import train_test_split"
   ]
  },
  {
   "cell_type": "code",
   "execution_count": 11,
   "id": "157a7867",
   "metadata": {},
   "outputs": [],
   "source": [
    "X_train, X_test, y_train, y_test = train_test_split(X,y,random_state = 100)"
   ]
  },
  {
   "cell_type": "markdown",
   "id": "cec0a619",
   "metadata": {},
   "source": [
    "### SCALING"
   ]
  },
  {
   "cell_type": "code",
   "execution_count": null,
   "id": "07bc08e3",
   "metadata": {},
   "outputs": [],
   "source": [
    "# SCALE VARIABLES AFTER THE SPLIT (NOT TO MIX TEST AND TRAIN DATA)"
   ]
  },
  {
   "cell_type": "code",
   "execution_count": 12,
   "id": "f3e0a818",
   "metadata": {},
   "outputs": [],
   "source": [
    "import seaborn as sns"
   ]
  },
  {
   "cell_type": "code",
   "execution_count": 14,
   "id": "adb71b03",
   "metadata": {},
   "outputs": [],
   "source": [
    "from sklearn.preprocessing import MinMaxScaler, StandardScaler, PowerTransformer\n",
    "import numpy as np"
   ]
  },
  {
   "cell_type": "code",
   "execution_count": 44,
   "id": "14034251",
   "metadata": {},
   "outputs": [],
   "source": [
    "from sklearn.preprocessing import PowerTransformer\n",
    "import numpy as np\n",
    "\n",
    "# Iniciated the PowerTransformer my my case\n",
    "#power_transformer = PowerTransformer(method='yeo-johnson', standardize=True)\n",
    "power_transformer = PowerTransformer()\n",
    "\n",
    "# Fit the transformer to my X_train data \n",
    "X_train_transform = power_transformer.fit_transform(X_train)\n",
    "\n",
    "X_test_fit = power_transformer.transform(X_test) # keeps them separately "
   ]
  },
  {
   "cell_type": "markdown",
   "id": "da6ee426",
   "metadata": {},
   "source": [
    "### Model training"
   ]
  },
  {
   "cell_type": "code",
   "execution_count": 29,
   "id": "ee7e8fd4",
   "metadata": {},
   "outputs": [],
   "source": [
    "from sklearn.linear_model import LinearRegression"
   ]
  },
  {
   "cell_type": "code",
   "execution_count": 45,
   "id": "fec50a76",
   "metadata": {},
   "outputs": [],
   "source": [
    "lm = LinearRegression()\n",
    "model = lm.fit(X_train_transform,y_train)"
   ]
  },
  {
   "cell_type": "code",
   "execution_count": 46,
   "id": "3db0868e",
   "metadata": {},
   "outputs": [
    {
     "data": {
      "text/plain": [
       "array([[ -4.15820054, -32.32550692, 163.98060775,   4.99014802,\n",
       "         -0.50043939,  -4.91536041,   0.4059141 ]])"
      ]
     },
     "execution_count": 46,
     "metadata": {},
     "output_type": "execute_result"
    }
   ],
   "source": [
    "model.coef_"
   ]
  },
  {
   "cell_type": "code",
   "execution_count": 47,
   "id": "caacc614",
   "metadata": {},
   "outputs": [
    {
     "data": {
      "text/plain": [
       "array([438.93716048])"
      ]
     },
     "execution_count": 47,
     "metadata": {},
     "output_type": "execute_result"
    }
   ],
   "source": [
    "model.intercept_"
   ]
  },
  {
   "cell_type": "markdown",
   "id": "42c24627",
   "metadata": {},
   "source": [
    "### Model Interpretation"
   ]
  },
  {
   "cell_type": "code",
   "execution_count": null,
   "id": "b470ca34",
   "metadata": {},
   "outputs": [],
   "source": [
    "random_penguin = X_test.sample()"
   ]
  },
  {
   "cell_type": "code",
   "execution_count": null,
   "id": "807c666c",
   "metadata": {},
   "outputs": [],
   "source": []
  },
  {
   "cell_type": "code",
   "execution_count": null,
   "id": "d3470cc1",
   "metadata": {},
   "outputs": [],
   "source": [
    "model.predict(random_penguin)"
   ]
  }
 ],
 "metadata": {
  "kernelspec": {
   "display_name": "Python 3 (ipykernel)",
   "language": "python",
   "name": "python3"
  },
  "language_info": {
   "codemirror_mode": {
    "name": "ipython",
    "version": 3
   },
   "file_extension": ".py",
   "mimetype": "text/x-python",
   "name": "python",
   "nbconvert_exporter": "python",
   "pygments_lexer": "ipython3",
   "version": "3.11.5"
  }
 },
 "nbformat": 4,
 "nbformat_minor": 5
}
