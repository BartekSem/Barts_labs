{
 "cells": [
  {
   "cell_type": "markdown",
   "id": "d3bfc191-8885-42ee-b0a0-bbab867c6f9f",
   "metadata": {
    "tags": []
   },
   "source": [
    "# Lab | Flow Control"
   ]
  },
  {
   "cell_type": "markdown",
   "id": "3851fcd1-cf98-4653-9c89-e003b7ec9400",
   "metadata": {},
   "source": [
    "## Exercise: Managing Customer Orders Optimized\n",
    "\n",
    "In the last lab, you were starting an online store that sells various products. To ensure smooth operations, you developed a program that manages customer orders and inventory.\n",
    "\n",
    "You did so without using flow control. Let's go a step further and improve this code.\n",
    "\n",
    "Follow the steps below to complete the exercise:\n",
    "\n",
    "1. Look at your code from the lab data structures, and improve repeated code with loops.\n",
    "\n",
    "2. Instead of asking the user to input the name of three products that a customer wants to order, do the following:\n",
    "    \n",
    "    a. Prompt the user to enter the name of a product that a customer wants to order.\n",
    "    \n",
    "    b. Add the product name to the \"customer_orders\" set.\n",
    "    \n",
    "    c. Ask the user if they want to add another product (yes/no).\n",
    "    \n",
    "    d. Continue the loop until the user does not want to add another product.\n",
    "\n",
    "3. Instead of updating the inventory by subtracting 1 from the quantity of each product, only do it for  the products that were ordered (those in \"customer_orders\")."
   ]
  },
  {
   "cell_type": "code",
   "execution_count": 2,
   "id": "95c64c10",
   "metadata": {},
   "outputs": [
    {
     "name": "stdout",
     "output_type": "stream",
     "text": [
      "['t-shirt', 'mug']\n"
     ]
    }
   ],
   "source": [
    "# base product list to initiate inventory \n",
    "products = [\"t-shirt\", \"mug\"]\n",
    "print(products)"
   ]
  },
  {
   "cell_type": "code",
   "execution_count": 3,
   "id": "9c0f486e",
   "metadata": {
    "scrolled": true
   },
   "outputs": [
    {
     "name": "stdout",
     "output_type": "stream",
     "text": [
      "Enter the quantity of t-shirt: 2\n",
      "Enter the quantity of mug: 2\n",
      "('t-shirt', 2)\n",
      "('mug', 2)\n"
     ]
    }
   ],
   "source": [
    "# creating a inventory dictionary. \n",
    "# connecting product names and numbers and adding them to the dictionary\n",
    "inventory_dict = {}\n",
    "\n",
    "for product in products:\n",
    "    quantity = int(input(f\"Enter the quantity of {product}: \"))\n",
    "    # no list for needed here for quantity as input gives quantity directly to dictionary\n",
    "    inventory_dict[product] = quantity\n",
    "    \n",
    "for each_key in inventory_dict.items():\n",
    "    print(each_key) #alternatively just to print the dictionary print(inventory_dict)"
   ]
  },
  {
   "cell_type": "code",
   "execution_count": 5,
   "id": "c3de389a",
   "metadata": {
    "scrolled": true
   },
   "outputs": [
    {
     "name": "stdout",
     "output_type": "stream",
     "text": [
      "{'t-shirt': 2, 'mug': 2}\n",
      "Do you want to entre a product from the above list? answer yes or noyes\n",
      "entre ordered productmug\n",
      "Do you want to entre a product from the above list? answer yes or noyes\n",
      "entre ordered productt-shirt\n",
      "Do you want to entre a product from the above list? answer yes or nono\n",
      "entre ordered productmug\n",
      "{'mug', 't-shirt'}\n"
     ]
    }
   ],
   "source": [
    "# Collecting customer orders \n",
    "\n",
    "customer_orders = set()\n",
    "\n",
    "order_input = \"yes\"\n",
    "print(inventory_dict)\n",
    "\n",
    "while order_input == \"yes\":\n",
    "    order_input = input(f\"Do you want to entre a product from the above list? answer yes or no\")\n",
    "    if order_input == \"no\" and order_input == None:\n",
    "        break\n",
    "    customer_orders.add(input(\"entre ordered product\"))\n",
    "    \n",
    "print(customer_orders)"
   ]
  },
  {
   "cell_type": "markdown",
   "id": "48aa8a99",
   "metadata": {},
   "source": [
    "3. Instead of updating the inventory by subtracting 1 from the quantity of each product, only do it for the products that were ordered (those in \"customer_orders\")."
   ]
  },
  {
   "cell_type": "code",
   "execution_count": 6,
   "id": "df51d19b",
   "metadata": {},
   "outputs": [
    {
     "name": "stdout",
     "output_type": "stream",
     "text": [
      "Updated inventory after orders: {'t-shirt': 0}\n",
      "Original inventory before orders: {'t-shirt': 1, 'mug': 2}\n"
     ]
    }
   ],
   "source": [
    "updated_inventory = {}\n",
    "\n",
    "for product in customer_orders:\n",
    "    if product in inventory_dict:\n",
    "        updated_inventory[product] = inventory_dict[product] - 1\n",
    "\n",
    "print(\"Updated inventory after orders:\", updated_inventory)\n",
    "print(\"Original inventory before orders:\", inventory_dict)"
   ]
  },
  {
   "cell_type": "code",
   "execution_count": null,
   "id": "8cbb3dd1",
   "metadata": {},
   "outputs": [],
   "source": []
  }
 ],
 "metadata": {
  "kernelspec": {
   "display_name": "Python 3 (ipykernel)",
   "language": "python",
   "name": "python3"
  },
  "language_info": {
   "codemirror_mode": {
    "name": "ipython",
    "version": 3
   },
   "file_extension": ".py",
   "mimetype": "text/x-python",
   "name": "python",
   "nbconvert_exporter": "python",
   "pygments_lexer": "ipython3",
   "version": "3.11.5"
  }
 },
 "nbformat": 4,
 "nbformat_minor": 5
}
