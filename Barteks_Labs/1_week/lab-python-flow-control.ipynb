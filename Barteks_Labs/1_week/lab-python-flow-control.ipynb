{
 "cells": [
  {
   "cell_type": "markdown",
   "id": "d3bfc191-8885-42ee-b0a0-bbab867c6f9f",
   "metadata": {
    "tags": []
   },
   "source": [
    "# Lab | Flow Control"
   ]
  },
  {
   "cell_type": "markdown",
   "id": "3851fcd1-cf98-4653-9c89-e003b7ec9400",
   "metadata": {},
   "source": [
    "## Exercise: Managing Customer Orders Optimized\n",
    "\n",
    "In the last lab, you were starting an online store that sells various products. To ensure smooth operations, you developed a program that manages customer orders and inventory.\n",
    "\n",
    "You did so without using flow control. Let's go a step further and improve this code.\n",
    "\n",
    "Follow the steps below to complete the exercise:\n",
    "\n",
    "1. Look at your code from the lab data structures, and improve repeated code with loops.\n",
    "\n",
    "2. Instead of asking the user to input the name of three products that a customer wants to order, do the following:\n",
    "    \n",
    "    a. Prompt the user to enter the name of a product that a customer wants to order.\n",
    "    \n",
    "    b. Add the product name to the \"customer_orders\" set.\n",
    "    \n",
    "    c. Ask the user if they want to add another product (yes/no).\n",
    "    \n",
    "    d. Continue the loop until the user does not want to add another product.\n",
    "\n",
    "3. Instead of updating the inventory by subtracting 1 from the quantity of each product, only do it for  the products that were ordered (those in \"customer_orders\")."
   ]
  },
  {
   "cell_type": "code",
   "execution_count": null,
   "id": "95c64c10",
   "metadata": {},
   "outputs": [
    {
     "name": "stdout",
     "output_type": "stream",
     "text": [
      "['t-shirt', 'mug', 'hat', 'book', 'keychain']\n"
     ]
    }
   ],
   "source": [
    "# improved code for inputing quantity of products with a for loop. \n",
    "# we iterate through the list and add quantity\n",
    "\n",
    "quantity = []\n",
    "products = [\"t-shirt\", \"mug\", \"hat\", \"book\", \"keychain\"]\n",
    "print(products)\n",
    "for product in products:\n",
    "    customer_input = int(input(f\"Enter the quantity of {product}: \"))\n",
    "    quantity.append(customer_input)"
   ]
  },
  {
   "cell_type": "code",
   "execution_count": null,
   "id": "c3de389a",
   "metadata": {},
   "outputs": [],
   "source": [
    "# improved code for inputing the name of a product that a customer wants to order.\n",
    "\n",
    "product_names = []\n",
    "inventory = {} \n",
    "while True:\n",
    "    customer_input = input(\"Entre a product: \")\n",
    "    product_names.append(customer_input)\n",
    "    print(\"do you want to add more? Entre product name to continue or no to exit\")\n",
    "    if customer_input == \"no\":\n",
    "        break \n",
    "        print(\"order completed\")"
   ]
  },
  {
   "cell_type": "code",
   "execution_count": null,
   "id": "09749577",
   "metadata": {},
   "outputs": [],
   "source": [
    "for product in product_names:\n",
    "    \n",
    "    customer_input = int(input(\"add quantity to products:\"))\n",
    "    quantity.append(customer_input)    \n",
    "\n",
    "for items[items] in customer_input:\n",
    "    quantity.append(customer_input)\n",
    "    \n"
   ]
  },
  {
   "cell_type": "code",
   "execution_count": null,
   "id": "ec9993d0",
   "metadata": {},
   "outputs": [],
   "source": []
  }
 ],
 "metadata": {
  "kernelspec": {
   "display_name": "Python 3 (ipykernel)",
   "language": "python",
   "name": "python3"
  },
  "language_info": {
   "codemirror_mode": {
    "name": "ipython",
    "version": 3
   },
   "file_extension": ".py",
   "mimetype": "text/x-python",
   "name": "python",
   "nbconvert_exporter": "python",
   "pygments_lexer": "ipython3",
   "version": "3.11.5"
  }
 },
 "nbformat": 4,
 "nbformat_minor": 5
}
