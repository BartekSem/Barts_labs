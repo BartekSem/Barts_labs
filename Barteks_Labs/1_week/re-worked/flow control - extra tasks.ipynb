{
 "cells": [
  {
   "cell_type": "markdown",
   "id": "35bcf311",
   "metadata": {},
   "source": [
    "Aufgabe 1: Summe der geraden Zahlen\n",
    "\n",
    "Schreibe ein Python-Programm, das die Summe aller geraden Zahlen von 1 bis zu einer vom Benutzer eingegebenen Zahl berechnet. Verwende eine Schleife und eine Bedingung, um nur gerade Zahlen zu berücksichtigen."
   ]
  },
  {
   "cell_type": "code",
   "execution_count": null,
   "id": "35998930",
   "metadata": {},
   "outputs": [],
   "source": [
    "user_number = int(input(\"trage eine Zahl ein und der Rechner gibt die Summe aller geraden Zahlen: \"))\n",
    "\n",
    "even_list = []\n",
    "                    \n",
    "for number in range(0,user_number):\n",
    "    if number % 2 == 0:\n",
    "        even_list.append(number)\n",
    "\n",
    "sum(even_list)"
   ]
  },
  {
   "cell_type": "markdown",
   "id": "8dd727e6",
   "metadata": {},
   "source": [
    "Aufgabe 2: FizzBuzz\n",
    "\n",
    "Implementiere das FizzBuzz-Programm. Gehe von 1 bis 100 und gib \"Fizz\" aus, wenn die Zahl durch 3 teilbar ist, \"Buzz\" aus, wenn sie durch 5 teilbar ist, und \"FizzBuzz\" aus, wenn sie durch 3 und 5 teilbar ist. Andernfalls gib die Zahl selbst aus."
   ]
  },
  {
   "cell_type": "code",
   "execution_count": null,
   "id": "8c7c2b39",
   "metadata": {},
   "outputs": [],
   "source": [
    "for number in range(0,50):\n",
    "    if number % 3 == 0:\n",
    "        print(\"Buzz\")\n",
    "        \n",
    "    elif number % 5 == 0:\n",
    "        print(\"Fizz for {number}\")\n",
    "    else:\n",
    "        print(f\"BuzzFizz for {number}\")"
   ]
  },
  {
   "cell_type": "markdown",
   "id": "28111a67",
   "metadata": {},
   "source": [
    "Übung 1: Notenberechnung und Durchschnitt:\n",
    "Schreibe ein Programm, das den Benutzer nach der Anzahl der Fächer fragt und dann nach jeder Note für jedes Fach. Das Programm sollte dann den Durchschnitt aller Noten berechnen und dem Benutzer mitteilen, ob er/sie bestanden oder durchgefallen ist. Eine Note unter 5,0 wird als Durchfallen betrachtet."
   ]
  },
  {
   "cell_type": "code",
   "execution_count": 5,
   "id": "af922f0d",
   "metadata": {},
   "outputs": [
    {
     "name": "stdout",
     "output_type": "stream",
     "text": [
      "Entre the name of your subject: mathe\n",
      "do you want to entre one more subject? Y/Ny\n",
      "Entre the name of your subject: bio\n",
      "do you want to entre one more subject? Y/Ny\n",
      "Entre the name of your subject: kunst\n",
      "do you want to entre one more subject? Y/Nchemie\n",
      "Entre the name of your subject: chemie\n",
      "do you want to entre one more subject? Y/Nn\n",
      "Those are the subjects your entered {'Kunst', 'Chemie', 'Bio', 'Mathe'}\n"
     ]
    }
   ],
   "source": [
    "# collect subject from user input\n",
    "set_with_subjects = set()\n",
    "ask_for_more_postiv = \"y\"\n",
    "ask_for_more_negativ = \"n\"\n",
    "\n",
    "while ask_for_more_postiv.lower() == \"y\":\n",
    "    subject_input = input(\"Entre the name of your subject: \")\n",
    "    set_with_subjects.add(subject_input.capitalize())\n",
    "    \n",
    "    ask_for_more = input(\"do you want to entre one more subject? Y/N\")\n",
    "    \n",
    "    if ask_for_more == ask_for_more_negativ:\n",
    "        print(f\"Those are the subjects your entered {set_with_subjects}\")\n",
    "        break\n",
    "        \n",
    "# save subjects in a clean set          \n",
    "set_clean_subjects = {subject for subject in set_with_subjects if isinstance(subject, str)}"
   ]
  },
  {
   "cell_type": "code",
   "execution_count": 6,
   "id": "58839728",
   "metadata": {},
   "outputs": [
    {
     "name": "stdout",
     "output_type": "stream",
     "text": [
      "entre grade for Kunst here: 5\n",
      "entre grade for Chemie here: 3\n",
      "entre grade for Bio here: 3\n",
      "entre grade for Mathe here: 2\n"
     ]
    },
    {
     "data": {
      "text/plain": [
       "{'Kunst': 5, 'Chemie': 3, 'Bio': 3, 'Mathe': 2}"
      ]
     },
     "execution_count": 6,
     "metadata": {},
     "output_type": "execute_result"
    }
   ],
   "source": [
    "# save subjects and grade in a dictionary\n",
    "dict_subjects_grades = {}\n",
    "\n",
    "for subject in set_clean_subjects:\n",
    "    \n",
    "    dict_subjects_grades[subject] = int(input(f\"entre grade for {subject} here: \"))\n",
    "\n",
    "dict_subjects_grades"
   ]
  },
  {
   "cell_type": "code",
   "execution_count": 27,
   "id": "b59077e7",
   "metadata": {},
   "outputs": [
    {
     "name": "stdout",
     "output_type": "stream",
     "text": [
      "Your average for all subject is 3.25. given this you have you have passed\n"
     ]
    }
   ],
   "source": [
    "# calcuate average and print result \n",
    "\n",
    "total_grade_sum = sum(dict_subjects_grades.values())\n",
    "average = total_grade_sum/len(dict_subjects_grades)\n",
    "\n",
    "if average <= 5:\n",
    "    result = \"you have passed\"\n",
    "else:\n",
    "    result = \"you have failed\"\n",
    "\n",
    "print(f\"Your average for all subject is {average}. given this you have {result}\")"
   ]
  },
  {
   "cell_type": "code",
   "execution_count": 12,
   "id": "c568e025",
   "metadata": {},
   "outputs": [
    {
     "data": {
      "text/plain": [
       "{'Kunst': 5, 'Chemie': 3, 'Bio': 3, 'Mathe': 2}"
      ]
     },
     "execution_count": 12,
     "metadata": {},
     "output_type": "execute_result"
    }
   ],
   "source": [
    "dict_subjects_grades"
   ]
  },
  {
   "cell_type": "markdown",
   "id": "e7a5ccaa",
   "metadata": {},
   "source": [
    "Übung 2: To-Do-Liste mit Prioritäten:\n",
    "Erstelle ein einfaches To-Do-Listenprogramm. Der Benutzer sollte in der Lage sein, Aufgaben hinzuzufügen und zu entfernen. Jede Aufgabe sollte außerdem eine Priorität haben (zum Beispiel niedrig, mittel, hoch). Das Programm sollte dann die Aufgaben in absteigender Reihenfolge der Prioritäten anzeigen."
   ]
  },
  {
   "cell_type": "code",
   "execution_count": 39,
   "id": "493149d0",
   "metadata": {},
   "outputs": [
    {
     "name": "stdout",
     "output_type": "stream",
     "text": [
      "Entre the task or write 'done' to stopp: hoover\n",
      "Entre priority from 1 to 5:   3\n",
      "Entre the task or write 'done' to stopp: shop\n",
      "Entre priority from 1 to 5:   3\n",
      "Entre the task or write 'done' to stopp: learn\n",
      "Entre priority from 1 to 5:   1\n",
      "Entre the task or write 'done' to stopp: done\n"
     ]
    },
    {
     "ename": "ValueError",
     "evalue": "too many values to unpack (expected 2)",
     "output_type": "error",
     "traceback": [
      "\u001b[0;31m---------------------------------------------------------------------------\u001b[0m",
      "\u001b[0;31mValueError\u001b[0m                                Traceback (most recent call last)",
      "Cell \u001b[0;32mIn[39], line 13\u001b[0m\n\u001b[1;32m      9\u001b[0m     priority \u001b[38;5;241m=\u001b[39m \u001b[38;5;28mint\u001b[39m(\u001b[38;5;28minput\u001b[39m(\u001b[38;5;124m\"\u001b[39m\u001b[38;5;124mEntre priority from 1 to 5:   \u001b[39m\u001b[38;5;124m\"\u001b[39m))\n\u001b[1;32m     11\u001b[0m     dict_wip[task] \u001b[38;5;241m=\u001b[39m priority  \n\u001b[0;32m---> 13\u001b[0m dict_clean \u001b[38;5;241m=\u001b[39m {task\u001b[38;5;241m.\u001b[39mcapitalize(): task \u001b[38;5;28;01mfor\u001b[39;00m task, priority \u001b[38;5;129;01min\u001b[39;00m dict_wip}\n",
      "Cell \u001b[0;32mIn[39], line 13\u001b[0m, in \u001b[0;36m<dictcomp>\u001b[0;34m(.0)\u001b[0m\n\u001b[1;32m      9\u001b[0m     priority \u001b[38;5;241m=\u001b[39m \u001b[38;5;28mint\u001b[39m(\u001b[38;5;28minput\u001b[39m(\u001b[38;5;124m\"\u001b[39m\u001b[38;5;124mEntre priority from 1 to 5:   \u001b[39m\u001b[38;5;124m\"\u001b[39m))\n\u001b[1;32m     11\u001b[0m     dict_wip[task] \u001b[38;5;241m=\u001b[39m priority  \n\u001b[0;32m---> 13\u001b[0m dict_clean \u001b[38;5;241m=\u001b[39m {task\u001b[38;5;241m.\u001b[39mcapitalize(): task \u001b[38;5;28;01mfor\u001b[39;00m task, priority \u001b[38;5;129;01min\u001b[39;00m dict_wip}\n",
      "\u001b[0;31mValueError\u001b[0m: too many values to unpack (expected 2)"
     ]
    }
   ],
   "source": [
    "dict_wip = {}\n",
    "\n",
    "while True:\n",
    "    task = input(\"Entre the task or write 'done' to stopp: \")\n",
    "    \n",
    "    if task.lower() == \"done\":\n",
    "        break \n",
    "    \n",
    "    priority = int(input(\"Entre priority from 1 to 5:   \"))\n",
    "    \n",
    "    dict_wip[task] = priority  \n",
    "        \n",
    "dict_clean = {task.capitalize(): task for task, priority in dict_wip}"
   ]
  },
  {
   "cell_type": "code",
   "execution_count": 61,
   "id": "9994af68",
   "metadata": {},
   "outputs": [
    {
     "name": "stdout",
     "output_type": "stream",
     "text": [
      "1: entre a task, 2: remove a task, 3: leave\n",
      "entre your choice: 1\n",
      "Entre task to add: task 1\n",
      "Entre priority, 1 to 3:3\n",
      "1: entre a task, 2: remove a task, 3: leave\n",
      "entre your choice: 1\n",
      "Entre task to add: task 3\n",
      "Entre priority, 1 to 3:2\n",
      "1: entre a task, 2: remove a task, 3: leave\n",
      "entre your choice: 1\n",
      "Entre task to add: task 4\n",
      "Entre priority, 1 to 3:2\n",
      "1: entre a task, 2: remove a task, 3: leave\n",
      "entre your choice: 3\n"
     ]
    }
   ],
   "source": [
    "to_do_dict = {}\n",
    "\n",
    "# my functions \n",
    "def add_task():\n",
    "    # i need to inputs: key and value\n",
    "    key = input(\"Entre task to add: \")\n",
    "    value = input(\"Entre priority, 1 to 3:\")\n",
    "    to_do_dict[key] = value\n",
    "\n",
    "def remove_task():\n",
    "    # to remove from existing dic\n",
    "    if key in to_do_dict:\n",
    "        del to_do_dict[key]\n",
    "        print(f\"{key} deleted\")\n",
    "    else:\n",
    "        print(f\"{key} not found\")\n",
    "        \n",
    "#my loops\n",
    "\n",
    "while True:\n",
    "    print(\"1: entre a task, 2: remove a task, 3: leave\")\n",
    "    choice = input(\"entre your choice: \")\n",
    "    if choice == \"1\":\n",
    "        add_task()\n",
    "    elif choice == \"2\":\n",
    "        remove_task()\n",
    "    elif choice == \"3\":\n",
    "        break \n",
    "        \n",
    "    else: \n",
    "        choice == \"Entre valid number to progress\" # we stay in the loop here"
   ]
  },
  {
   "cell_type": "code",
   "execution_count": 62,
   "id": "0ff3f808",
   "metadata": {},
   "outputs": [
    {
     "data": {
      "text/plain": [
       "{'task 1': '3', 'task 3': '2', 'task 4': '2'}"
      ]
     },
     "execution_count": 62,
     "metadata": {},
     "output_type": "execute_result"
    }
   ],
   "source": [
    "to_do_dict"
   ]
  },
  {
   "cell_type": "code",
   "execution_count": 59,
   "id": "27d59d76",
   "metadata": {},
   "outputs": [
    {
     "name": "stdout",
     "output_type": "stream",
     "text": [
      "None\n"
     ]
    }
   ],
   "source": [
    "print(my_list)"
   ]
  },
  {
   "cell_type": "code",
   "execution_count": null,
   "id": "81e2d903",
   "metadata": {},
   "outputs": [
    {
     "name": "stdout",
     "output_type": "stream",
     "text": [
      "input password here: asf\n",
      "try again\n",
      "input password here: safsa\n",
      "try again\n",
      "input password here: fs\n",
      "try again\n",
      "input password here: fas\n",
      "try again\n",
      "input password here: f\n",
      "try again\n",
      "input password here: sa\n",
      "try again\n",
      "input password here: f\n",
      "try again\n",
      "input password here: saf\n",
      "try again\n",
      "input password here: sa\n",
      "try again\n",
      "input password here: fsa\n",
      "try again\n",
      "input password here: \n",
      "try again\n",
      "input password here: sf\n",
      "try again\n"
     ]
    }
   ],
   "source": [
    "password = \"aaa\"\n",
    "\n",
    "while password:\n",
    "    input_password = input(\"input password here: \")\n",
    "    if password != input_password:\n",
    "        print(\"try again\")\n",
    "    else:\n",
    "        break \n"
   ]
  },
  {
   "cell_type": "code",
   "execution_count": null,
   "id": "6ddab4d7",
   "metadata": {},
   "outputs": [],
   "source": []
  },
  {
   "cell_type": "code",
   "execution_count": null,
   "id": "a09b3d71",
   "metadata": {},
   "outputs": [],
   "source": []
  }
 ],
 "metadata": {
  "kernelspec": {
   "display_name": "Python 3 (ipykernel)",
   "language": "python",
   "name": "python3"
  },
  "language_info": {
   "codemirror_mode": {
    "name": "ipython",
    "version": 3
   },
   "file_extension": ".py",
   "mimetype": "text/x-python",
   "name": "python",
   "nbconvert_exporter": "python",
   "pygments_lexer": "ipython3",
   "version": "3.11.5"
  }
 },
 "nbformat": 4,
 "nbformat_minor": 5
}
