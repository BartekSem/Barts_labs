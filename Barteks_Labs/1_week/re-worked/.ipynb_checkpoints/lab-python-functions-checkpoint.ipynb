{
 "cells": [
  {
   "cell_type": "markdown",
   "id": "25d7736c-ba17-4aff-b6bb-66eba20fbf4e",
   "metadata": {},
   "source": [
    "# Lab | Functions"
   ]
  },
  {
   "cell_type": "markdown",
   "id": "0c581062-8967-4d93-b06e-62833222f930",
   "metadata": {
    "tags": []
   },
   "source": [
    "## Exercise: Managing Customer Orders with Functions\n",
    "\n",
    "In the previous exercise, you improved the code for managing customer orders by using loops and flow control. Now, let's take it a step further and refactor the code by introducing functions.\n",
    "\n",
    "Follow the steps below to complete the exercise:\n",
    "\n",
    "1. Define a function named `initialize_inventory` that takes `products` as a parameter. Inside the function, implement the code for initializing the inventory dictionary using a loop and user input.\n",
    "\n",
    "2. Define a function named `get_customer_orders` that takes no parameters. Inside the function, implement the code for prompting the user to enter the product names using a loop. The function should return the `customer_orders` set.\n",
    "\n",
    "3. Define a function named `update_inventory` that takes `customer_orders` and `inventory` as parameters. Inside the function, implement the code for updating the inventory dictionary based on the customer orders.\n",
    "\n",
    "4. Define a function named `calculate_order_statistics` that takes `customer_orders` and `products` as parameters. Inside the function, implement the code for calculating the order statistics (total products ordered, and percentage of unique products ordered). The function should return these values.\n",
    "\n",
    "5. Define a function named `print_order_statistics` that takes `order_statistics` as a parameter. Inside the function, implement the code for printing the order statistics.\n",
    "\n",
    "6. Define a function named `print_updated_inventory` that takes `inventory` as a parameter. Inside the function, implement the code for printing the updated inventory.\n",
    "\n",
    "7. Call the functions in the appropriate sequence to execute the program and manage customer orders.\n",
    "\n",
    "Hints for functions:\n",
    "\n",
    "- Consider the input parameters required for each function and their return values.\n",
    "- Utilize function parameters and return values to transfer data between functions.\n",
    "- Test your functions individually to ensure they work correctly.\n",
    "\n",
    "\n"
   ]
  },
  {
   "cell_type": "code",
   "execution_count": 19,
   "id": "74a4a8aa",
   "metadata": {},
   "outputs": [
    {
     "name": "stdout",
     "output_type": "stream",
     "text": [
      "Entre: 1 to add a product, 2 to leave\n",
      "Entre your choice: mug\n",
      "Invalid entry. Entre 1 or 2\n",
      "Entre: 1 to add a product, 2 to leave\n",
      "Entre your choice: 1\n",
      "Entre the name of the product: mug\n",
      "Entre the quantity: 34\n",
      "Entre: 1 to add a product, 2 to leave\n",
      "Entre your choice: hat\n",
      "Invalid entry. Entre 1 or 2\n",
      "Entre: 1 to add a product, 2 to leave\n",
      "Entre your choice: 43\n",
      "Invalid entry. Entre 1 or 2\n",
      "Entre: 1 to add a product, 2 to leave\n",
      "Entre your choice: 3\n",
      "Invalid entry. Entre 1 or 2\n",
      "Entre: 1 to add a product, 2 to leave\n",
      "Entre your choice: 2\n",
      "{'mug': 34}\n"
     ]
    }
   ],
   "source": [
    "inventory = {}\n",
    "\n",
    "while True:\n",
    "    print(\"Entre: 1 to add a product, 2 to leave\")\n",
    "    choice = input(\"Entre your choice: \")\n",
    "    if choice == \"1\":\n",
    "        key = input(\"Entre the name of the product: \")\n",
    "        value = int(input(\"Entre the quantity: \"))\n",
    "        inventory[key] = value\n",
    "    elif choice == \"2\":\n",
    "        break \n",
    "    else:\n",
    "        print(\"Invalid entry. Entre 1 or 2\")"
   ]
  },
  {
   "cell_type": "code",
   "execution_count": 20,
   "id": "bc50a684",
   "metadata": {},
   "outputs": [
    {
     "name": "stdout",
     "output_type": "stream",
     "text": [
      "{'mug': 34}\n"
     ]
    }
   ],
   "source": [
    "print(inventory)"
   ]
  },
  {
   "cell_type": "code",
   "execution_count": 5,
   "id": "32096dd1",
   "metadata": {},
   "outputs": [],
   "source": [
    "products = [\"mug\", \"hat\"]"
   ]
  },
  {
   "cell_type": "code",
   "execution_count": 12,
   "id": "284d4b25",
   "metadata": {},
   "outputs": [
    {
     "name": "stdout",
     "output_type": "stream",
     "text": [
      "Add quantity for mug here: 3\n",
      "Add quantity for hat here: 2\n",
      "thank you for placing the quantity\n",
      "{'mug': 3, 'hat': 2}\n"
     ]
    }
   ],
   "source": [
    "def initialize_inventory_func(product):        \n",
    "        \n",
    "    inventory_dict = {}\n",
    "    for product in products:\n",
    "        inventory_dict[product] = int(input(f\"Add quantity for {product} here: \"))\n",
    "    print(f\"thank you for placing the quantity\")\n",
    "    return inventory_dict\n",
    "\n",
    "inventory = initialize_inventory_func(products)\n",
    "print (inventory)"
   ]
  },
  {
   "cell_type": "code",
   "execution_count": null,
   "id": "1e25731a",
   "metadata": {},
   "outputs": [],
   "source": []
  },
  {
   "cell_type": "code",
   "execution_count": null,
   "id": "cb03ca74",
   "metadata": {},
   "outputs": [],
   "source": []
  }
 ],
 "metadata": {
  "kernelspec": {
   "display_name": "Python 3 (ipykernel)",
   "language": "python",
   "name": "python3"
  },
  "language_info": {
   "codemirror_mode": {
    "name": "ipython",
    "version": 3
   },
   "file_extension": ".py",
   "mimetype": "text/x-python",
   "name": "python",
   "nbconvert_exporter": "python",
   "pygments_lexer": "ipython3",
   "version": "3.11.5"
  }
 },
 "nbformat": 4,
 "nbformat_minor": 5
}
