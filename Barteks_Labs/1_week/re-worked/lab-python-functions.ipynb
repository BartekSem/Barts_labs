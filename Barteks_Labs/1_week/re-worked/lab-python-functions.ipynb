{
 "cells": [
  {
   "cell_type": "markdown",
   "id": "25d7736c-ba17-4aff-b6bb-66eba20fbf4e",
   "metadata": {},
   "source": [
    "# Lab | Functions"
   ]
  },
  {
   "cell_type": "markdown",
   "id": "0c581062-8967-4d93-b06e-62833222f930",
   "metadata": {
    "tags": []
   },
   "source": [
    "## Exercise: Managing Customer Orders with Functions\n",
    "\n",
    "In the previous exercise, you improved the code for managing customer orders by using loops and flow control. Now, let's take it a step further and refactor the code by introducing functions.\n",
    "\n",
    "Follow the steps below to complete the exercise:\n",
    "\n",
    "1. Define a function named `initialize_inventory` that takes `products` as a parameter. Inside the function, implement the code for initializing the inventory dictionary using a loop and user input.\n",
    "\n",
    "2. Define a function named `get_customer_orders` that takes no parameters. Inside the function, implement the code for prompting the user to enter the product names using a loop. The function should return the `customer_orders` set.\n",
    "\n",
    "3. Define a function named `update_inventory` that takes `customer_orders` and `inventory` as parameters. Inside the function, implement the code for updating the inventory dictionary based on the customer orders.\n",
    "\n",
    "4. Define a function named `calculate_order_statistics` that takes `customer_orders` and `products` as parameters. Inside the function, implement the code for calculating the order statistics (total products ordered, and percentage of unique products ordered). The function should return these values.\n",
    "\n",
    "5. Define a function named `print_order_statistics` that takes `order_statistics` as a parameter. Inside the function, implement the code for printing the order statistics.\n",
    "\n",
    "6. Define a function named `print_updated_inventory` that takes `inventory` as a parameter. Inside the function, implement the code for printing the updated inventory.\n",
    "\n",
    "7. Call the functions in the appropriate sequence to execute the program and manage customer orders.\n",
    "\n",
    "Hints for functions:\n",
    "\n",
    "- Consider the input parameters required for each function and their return values.\n",
    "- Utilize function parameters and return values to transfer data between functions.\n",
    "- Test your functions individually to ensure they work correctly.\n",
    "\n",
    "\n"
   ]
  },
  {
   "cell_type": "code",
   "execution_count": 10,
   "id": "f98b8ca8",
   "metadata": {},
   "outputs": [
    {
     "name": "stdout",
     "output_type": "stream",
     "text": [
      "entre below 1 or 2\n",
      "Entre choice:1\n",
      "entre namemug\n",
      "entre quantity10\n",
      "entre below 1 or 2\n",
      "Entre choice:2\n"
     ]
    }
   ],
   "source": [
    "inventory_dic = {}\n",
    "\n",
    "def inventory():\n",
    "    while True:\n",
    "        print(\"entre below 1 or 2\")\n",
    "        choice = input(\"Entre choice:\")\n",
    "        if choice == \"1\":\n",
    "            name = input(\"entre name\")\n",
    "            quantity = int(input(\"entre quantity\"))\n",
    "            inventory_dic[name] = quantity\n",
    "        elif choice == \"2\":\n",
    "            break \n",
    "        else:\n",
    "            print(\"Invalid input, try again\")\n",
    "# call function inventory dictionary \n",
    "inventory = inventory()"
   ]
  },
  {
   "cell_type": "code",
   "execution_count": 11,
   "id": "d3d0fcf4",
   "metadata": {},
   "outputs": [
    {
     "name": "stdout",
     "output_type": "stream",
     "text": [
      "Enter quantity of mug: 9\n",
      "Done\n",
      "Those are your orders: {'mug': 9}\n",
      "This is the inventory dict: {'mug': 10}\n"
     ]
    }
   ],
   "source": [
    "customer_orders_dict = {}\n",
    "\n",
    "def customer_orders():\n",
    "    for item in inventory_dic:\n",
    "        value_input = int(input(f\"Enter quantity of {item}: \"))\n",
    "        customer_orders_dict[item] = value_input\n",
    "    print(\"Done\")\n",
    "    \n",
    "# Call the function\n",
    "customer_orders()  \n",
    "\n",
    " # Print the resulting customer_orders_dict\n",
    "print(f\"Those are your orders: {customer_orders_dict}\") \n",
    "print(f\"This is the inventory dict: {inventory_dic}\")"
   ]
  },
  {
   "cell_type": "code",
   "execution_count": 12,
   "id": "fc12ec4f",
   "metadata": {},
   "outputs": [
    {
     "ename": "TypeError",
     "evalue": "list indices must be integers or slices, not str",
     "output_type": "error",
     "traceback": [
      "\u001b[0;31m---------------------------------------------------------------------------\u001b[0m",
      "\u001b[0;31mTypeError\u001b[0m                                 Traceback (most recent call last)",
      "Cell \u001b[0;32mIn[12], line 9\u001b[0m\n\u001b[1;32m      6\u001b[0m             updated_quantity \u001b[38;5;241m=\u001b[39m quantity \u001b[38;5;241m-\u001b[39m customer_orders_dict[product]\n\u001b[1;32m      7\u001b[0m             updated_inventory_dict[product] \u001b[38;5;241m=\u001b[39m updated_quantity\n\u001b[0;32m----> 9\u001b[0m update_inventory(customer_orders_dict, inventory_dic)\n\u001b[1;32m     11\u001b[0m \u001b[38;5;28mprint\u001b[39m(\u001b[38;5;124m\"\u001b[39m\u001b[38;5;124mUpdated Inventory Dictionary:\u001b[39m\u001b[38;5;124m\"\u001b[39m, updated_inventory_dict)\n",
      "Cell \u001b[0;32mIn[12], line 7\u001b[0m, in \u001b[0;36mupdate_inventory\u001b[0;34m(customer_orders_dict, inventory_dic)\u001b[0m\n\u001b[1;32m      5\u001b[0m \u001b[38;5;28;01mif\u001b[39;00m product \u001b[38;5;129;01min\u001b[39;00m customer_orders_dict:\n\u001b[1;32m      6\u001b[0m     updated_quantity \u001b[38;5;241m=\u001b[39m quantity \u001b[38;5;241m-\u001b[39m customer_orders_dict[product]\n\u001b[0;32m----> 7\u001b[0m     updated_inventory_dict[product] \u001b[38;5;241m=\u001b[39m updated_quantity\n",
      "\u001b[0;31mTypeError\u001b[0m: list indices must be integers or slices, not str"
     ]
    }
   ],
   "source": [
    "updated_inventory_dict = []\n",
    "            \n",
    "def update_inventory(customer_orders_dict, inventory_dic):\n",
    "    for product, quantity in inventory_dic.items():\n",
    "        if product in customer_orders_dict:\n",
    "            updated_quantity = quantity - customer_orders_dict[product]\n",
    "            updated_inventory_dict[product] = updated_quantity\n",
    "\n",
    "update_inventory(customer_orders_dict, inventory_dic)\n",
    "\n",
    "print(\"Updated Inventory Dictionary:\", updated_inventory_dict)"
   ]
  },
  {
   "cell_type": "code",
   "execution_count": null,
   "id": "76e7fcf8",
   "metadata": {},
   "outputs": [
    {
     "name": "stdout",
     "output_type": "stream",
     "text": [
      "Enter 1 to add a product, 2 to leave\n",
      "Enter your choice: 1\n"
     ]
    }
   ],
   "source": [
    "inventory_dic = {}\n",
    "\n",
    "def inventory():\n",
    "    while True:\n",
    "        print(\"Enter 1 to add a product, 2 to leave\")\n",
    "        choice = input(\"Enter your choice: \")\n",
    "        if choice == \"1\":\n",
    "            name = input(\"Enter name: \")\n",
    "            quantity = int(input(\"Enter quantity: \"))\n",
    "            inventory_dic[name] = quantity\n",
    "        elif choice == \"2\":\n",
    "            break\n",
    "        else:\n",
    "            print(\"Invalid input, try again\")\n",
    "\n",
    "# Call function to populate inventory dictionary\n",
    "inventory()\n",
    "\n",
    "customer_orders_dict = {}\n",
    "\n",
    "def customer_orders():\n",
    "    for item in inventory_dic:\n",
    "        value_input = int(input(f\"Enter quantity of {item}: \"))\n",
    "        customer_orders_dict[item] = value_input\n",
    "    print(\"Done\")\n",
    "\n",
    "# Call the function\n",
    "customer_orders()\n",
    "\n",
    "# Use a dictionary to store the updated inventory\n",
    "updated_inventory_dict = {}\n",
    "\n",
    "def update_inventory(customer_orders_dict, inventory_dic):\n",
    "    for product, quantity in inventory_dic.items():\n",
    "        if product in customer_orders_dict:\n",
    "            updated_quantity = quantity - customer_orders_dict[product]\n",
    "            updated_inventory_dict[product] = updated_quantity\n",
    "\n",
    "# Call the function to update the inventory\n",
    "update_inventory(customer_orders_dict, inventory_dic)\n",
    "\n",
    "print(\"Updated Inventory Dictionary:\", updated_inventory_dict)\n"
   ]
  }
 ],
 "metadata": {
  "kernelspec": {
   "display_name": "Python 3 (ipykernel)",
   "language": "python",
   "name": "python3"
  },
  "language_info": {
   "codemirror_mode": {
    "name": "ipython",
    "version": 3
   },
   "file_extension": ".py",
   "mimetype": "text/x-python",
   "name": "python",
   "nbconvert_exporter": "python",
   "pygments_lexer": "ipython3",
   "version": "3.11.5"
  }
 },
 "nbformat": 4,
 "nbformat_minor": 5
}
