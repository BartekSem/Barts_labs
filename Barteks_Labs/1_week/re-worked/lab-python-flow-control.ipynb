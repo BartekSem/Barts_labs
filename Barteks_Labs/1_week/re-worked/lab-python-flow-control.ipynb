{
 "cells": [
  {
   "cell_type": "markdown",
   "id": "d3bfc191-8885-42ee-b0a0-bbab867c6f9f",
   "metadata": {
    "tags": []
   },
   "source": [
    "# Lab | Flow Control"
   ]
  },
  {
   "cell_type": "markdown",
   "id": "3851fcd1-cf98-4653-9c89-e003b7ec9400",
   "metadata": {},
   "source": [
    "## Exercise: Managing Customer Orders Optimized\n",
    "\n",
    "In the last lab, you were starting an online store that sells various products. To ensure smooth operations, you developed a program that manages customer orders and inventory.\n",
    "\n",
    "You did so without using flow control. Let's go a step further and improve this code.\n",
    "\n",
    "Follow the steps below to complete the exercise:\n",
    "\n",
    "1. Look at your code from the lab data structures, and improve repeated code with loops.\n",
    "\n",
    "2. Instead of asking the user to input the name of three products that a customer wants to order, do the following:\n",
    "    \n",
    "    a. Prompt the user to enter the name of a product that a customer wants to order.\n",
    "    \n",
    "    b. Add the product name to the \"customer_orders\" set.\n",
    "    \n",
    "    c. Ask the user if they want to add another product (yes/no).\n",
    "    \n",
    "    d. Continue the loop until the user does not want to add another product.\n",
    "\n",
    "3. Instead of updating the inventory by subtracting 1 from the quantity of each product, only do it for  the products that were ordered (those in \"customer_orders\")."
   ]
  },
  {
   "cell_type": "code",
   "execution_count": 60,
   "id": "0c7e54f0",
   "metadata": {},
   "outputs": [
    {
     "name": "stdout",
     "output_type": "stream",
     "text": [
      "Enter a product name: mug\n",
      "Do you want to enter another product? (yes/no): yes\n",
      "Enter a product name: hat\n",
      "Do you want to enter another product? (yes/no): no\n",
      "Thank you for placing the products.\n"
     ]
    }
   ],
   "source": [
    "# creating product list with user input\n",
    "products = []\n",
    "check_question = \"Yes\"\n",
    "\n",
    "while check_question.lower() == \"yes\":\n",
    "    product = input(\"Enter a product name: \")\n",
    "    products.append(product)\n",
    "    # ich verstehe die logik hier nicht. warum ist \"entre a product so weit oben?\"\n",
    "    check_question = input(\"Do you want to enter another product? (yes/no): \").lower()\n",
    "\n",
    "    if check_question != \"yes\" and check_question != \"no\":\n",
    "        print(\"Invalid input. Please enter 'yes' or 'no'.\")\n",
    "        check_question = input(\"Do you want to enter another product? (yes/no): \").lower()\n",
    "\n",
    "print(\"Thank you for placing the products.\")"
   ]
  },
  {
   "cell_type": "code",
   "execution_count": 44,
   "id": "4ed3e9a8",
   "metadata": {},
   "outputs": [
    {
     "name": "stdout",
     "output_type": "stream",
     "text": [
      "Products: ['mug', 'hat']\n"
     ]
    }
   ],
   "source": [
    "print(\"Products:\", products)"
   ]
  },
  {
   "cell_type": "code",
   "execution_count": 32,
   "id": "3b3a4995",
   "metadata": {},
   "outputs": [],
   "source": []
  },
  {
   "cell_type": "code",
   "execution_count": 54,
   "id": "8b8e7498",
   "metadata": {},
   "outputs": [
    {
     "name": "stdout",
     "output_type": "stream",
     "text": [
      "Add quantity for mug here: 5\n",
      "Add quantity for hat here: 5\n",
      "thank you for placing the quantity\n",
      "{'mug': 5, 'hat': 5}\n"
     ]
    }
   ],
   "source": [
    "# creating inventory dictionary with user inpout\n",
    "inventory_dict = {}\n",
    "for product in products:\n",
    "    inventory_dict[product] = int(input(f\"Add quantity for {product} here: \"))\n",
    "print(f\"thank you for placing the quantity\")\n",
    "print(inventory_dict)"
   ]
  },
  {
   "cell_type": "code",
   "execution_count": 55,
   "id": "a6b4a8fd",
   "metadata": {},
   "outputs": [
    {
     "name": "stdout",
     "output_type": "stream",
     "text": [
      "repeat product name - mug - to add to the listmug\n",
      "repeat product name - hat - to add to the list\n",
      "Thank you for your orders\n",
      "{'', 'mug'}\n"
     ]
    }
   ],
   "source": [
    "# creating cutomer orders set with unique values/product names \n",
    "\n",
    "get_customer_orders = set()\n",
    "\n",
    "for product in products:\n",
    "        input_product = input(f\"repeat product name - {product} - to add to the list\")\n",
    "        get_customer_orders.add(input_product)\n",
    "        \n",
    "print(\"Thank you for your orders\")\n",
    "print(get_customer_orders)"
   ]
  },
  {
   "cell_type": "code",
   "execution_count": 59,
   "id": "d47d1d3b",
   "metadata": {},
   "outputs": [
    {
     "name": "stdout",
     "output_type": "stream",
     "text": [
      "Original inventory before orders: {'mug': -1, 'hat': 5} after orders: {'mug': -2}\n",
      "Original inventory before orders: {'mug': -1, 'hat': 5} after orders: {'mug': -2}\n"
     ]
    }
   ],
   "source": [
    "# creating updated inventory dict\n",
    "# subtracting 1 from the quantity of each product in inventory dict\n",
    "\n",
    "updated_inventory = {}\n",
    "\n",
    "for product in get_customer_orders: # only interested in orders therefore i loop through those \n",
    "    if product in inventory_dict:\n",
    "        updated_inventory[product] = inventory_dict[product] - 1 \n",
    "        \n",
    "for product in inventory_dict:\n",
    "    print(f\"Original inventory before orders: {inventory_dict} after orders: {updated_inventory}\")"
   ]
  },
  {
   "cell_type": "code",
   "execution_count": null,
   "id": "9a9efcab",
   "metadata": {},
   "outputs": [],
   "source": []
  },
  {
   "cell_type": "code",
   "execution_count": null,
   "id": "69a46008",
   "metadata": {},
   "outputs": [],
   "source": []
  }
 ],
 "metadata": {
  "kernelspec": {
   "display_name": "Python 3 (ipykernel)",
   "language": "python",
   "name": "python3"
  },
  "language_info": {
   "codemirror_mode": {
    "name": "ipython",
    "version": 3
   },
   "file_extension": ".py",
   "mimetype": "text/x-python",
   "name": "python",
   "nbconvert_exporter": "python",
   "pygments_lexer": "ipython3",
   "version": "3.11.5"
  }
 },
 "nbformat": 4,
 "nbformat_minor": 5
}
