{
 "cells": [
  {
   "cell_type": "markdown",
   "id": "d3f56991",
   "metadata": {},
   "source": [
    "Task: String Split and Refinement\n",
    "\n",
    "Given a string containing names and ages in the format \"Name_Age\", create a list of dictionaries where each dictionary represents a person with keys \"Name\" and \"Age\". Use list comprehension to achieve this.\n",
    "\n",
    "Example string: \"John_25,Anna_30,Mike_22\""
   ]
  },
  {
   "cell_type": "code",
   "execution_count": null,
   "id": "83be30cf",
   "metadata": {},
   "outputs": [],
   "source": [
    "name_string = \"John_25,Anna_30,Mike_22\"\n",
    "\n",
    "# Step 1: Split the name_string into individual name and age pairs using \",\" as the delimiter\n",
    "name_age_pairs = name_string.split(\",\")\n",
    "\n",
    "name_age_pairs \n"
   ]
  },
  {
   "cell_type": "code",
   "execution_count": null,
   "id": "319b785b",
   "metadata": {},
   "outputs": [],
   "source": [
    "# Step 2: Use a list comprehension to create a list of dictionaries for each name and age pair\n",
    "\n",
    "names_dict_list = [{pair.split(\"_\")[0], int(pair.split(\"_\")[1])} for pair in name_age_pairs]\n",
    "names_dict_list"
   ]
  },
  {
   "cell_type": "code",
   "execution_count": null,
   "id": "ce00f436",
   "metadata": {},
   "outputs": [],
   "source": [
    "print(names_dict_list)"
   ]
  },
  {
   "cell_type": "code",
   "execution_count": null,
   "id": "27fd59ae",
   "metadata": {
    "scrolled": true
   },
   "outputs": [],
   "source": [
    "names_dict_list = [{\"Name\": pair.split(\"_\")[0], \"Age\": int(pair.split(\"_\")[1])} for pair in name_age_pairs]\n",
    "names_dict_list"
   ]
  },
  {
   "cell_type": "code",
   "execution_count": null,
   "id": "c86a3529",
   "metadata": {},
   "outputs": [],
   "source": [
    "code_dict = {\"country\": string_in_list.split(\"-\")[0], \"number\": int(string_in_list.split(\"-\")[1]) for string_in_list in data_strings}\n",
    "\n",
    "\n",
    "code_dict = {\"country\": string_in_list.split(\"-\")[1], \"number\":int(string_in_list) for string_in_list in data_strings}\n",
    "code_dict\n"
   ]
  },
  {
   "cell_type": "code",
   "execution_count": null,
   "id": "37da242b",
   "metadata": {},
   "outputs": [],
   "source": [
    "data_strings = [\"us-123\", \"ca-456\", \"uk-789\", \"es-321\", \"fr-555\"]\n",
    "\n",
    "code_dict = {\"country\": string_in_list.split(\"-\")[0], \"number\": int(string_in_list.split(\"-\")[1]) for string_in_list in data_strings}\n"
   ]
  },
  {
   "cell_type": "code",
   "execution_count": 1,
   "id": "562a0002",
   "metadata": {},
   "outputs": [
    {
     "ename": "SyntaxError",
     "evalue": "invalid syntax (3608830681.py, line 3)",
     "output_type": "error",
     "traceback": [
      "\u001b[0;36m  Cell \u001b[0;32mIn[1], line 3\u001b[0;36m\u001b[0m\n\u001b[0;31m    code_dict = {\"country\": string_in_list.split(\"-\")[0], \"number\": int(string_in_list.split(\"-\")[1]) for string_in_list in data_strings}\u001b[0m\n\u001b[0m                                                                                                      ^\u001b[0m\n\u001b[0;31mSyntaxError\u001b[0m\u001b[0;31m:\u001b[0m invalid syntax\n"
     ]
    }
   ],
   "source": [
    "data_strings = [\"us-123\", \"ca-456\", \"uk-789\", \"es-321\", \"fr-555\"]\n",
    "\n",
    "code_dict = {\"country\": string_in_list.split(\"-\")[0], \"number\": int(string_in_list.split(\"-\")[1]) for string_in_list in data_strings}\n",
    "\n",
    "print(code_dict)\n"
   ]
  },
  {
   "cell_type": "code",
   "execution_count": 6,
   "id": "a84023c2",
   "metadata": {},
   "outputs": [
    {
     "name": "stdout",
     "output_type": "stream",
     "text": [
      "{'us': '123', 'ca': '456', 'uk': '789', 'es': '321', 'fr': '555'}\n"
     ]
    }
   ],
   "source": [
    "data_strings = [\"us-123\", \"ca-456\", \"uk-789\", \"es-321\", \"fr-555\"]\n",
    "\n",
    "new_codes_dict = {}\n",
    "\n",
    "for strings in data_strings:\n",
    "    key, value = strings.split(\"-\")\n",
    "    new_codes_dict[key] = value\n",
    "\n",
    "print(new_codes_dict)"
   ]
  },
  {
   "cell_type": "code",
   "execution_count": 7,
   "id": "56ac0b53",
   "metadata": {},
   "outputs": [
    {
     "name": "stdout",
     "output_type": "stream",
     "text": [
      "{'us': '123', 'ca': '456', 'uk': '789', 'es': '321', 'fr': '555'}\n"
     ]
    }
   ],
   "source": [
    "data_strings = [\"us-123\", \"ca-456\", \"uk-789\", \"es-321\", \"fr-555\"]\n",
    "\n",
    "new_codes_dict = {key: value for strings in data_strings for key, value in [strings.split(\"-\")]}\n",
    "\n",
    "print(new_codes_dict)\n"
   ]
  },
  {
   "cell_type": "markdown",
   "id": "1575ab1f",
   "metadata": {},
   "source": [
    "Task: Extracting Names and Ages\n",
    "\n",
    "Given a list of strings in the format \"name-age,\" create a dictionary where the keys are the names (the part before the \"-\") and the values are the corresponding ages (the part after the \"-\")."
   ]
  },
  {
   "cell_type": "code",
   "execution_count": 8,
   "id": "39e2c5f1",
   "metadata": {},
   "outputs": [
    {
     "name": "stdout",
     "output_type": "stream",
     "text": [
      "{'John': '25', 'Anna': '30', 'Mike': '22'}\n"
     ]
    }
   ],
   "source": [
    "data_strings = [\"John-25\", \"Anna-30\", \"Mike-22\"]\n",
    "\n",
    "\n",
    "split_dict = {}\n",
    "\n",
    "for string in data_strings:\n",
    "    key, value = string.split(\"-\")\n",
    "    split_dict[key] = value\n",
    "    \n",
    "print(split_dict)"
   ]
  },
  {
   "cell_type": "markdown",
   "id": "7819c20e",
   "metadata": {},
   "source": [
    "Task: Categorizing Numbers\n",
    "\n",
    "Given a list of numbers, create a dictionary where the keys represent different categories (e.g., \"even\" and \"odd\"), and the values are lists containing the numbers that fall into each category."
   ]
  },
  {
   "cell_type": "code",
   "execution_count": 10,
   "id": "885d9ac8",
   "metadata": {},
   "outputs": [
    {
     "name": "stdout",
     "output_type": "stream",
     "text": [
      "[2, 4, 6, 8, 10]\n"
     ]
    }
   ],
   "source": [
    "numbers = [1, 2, 3, 4, 5]\n",
    "\n",
    "new_list = []\n",
    "\n",
    "for number in numbers:\n",
    "    each_number = number*2\n",
    "    new_list.append(each_number)\n",
    "    \n",
    "print(new_list)"
   ]
  },
  {
   "cell_type": "code",
   "execution_count": null,
   "id": "39f057b1",
   "metadata": {},
   "outputs": [],
   "source": []
  },
  {
   "cell_type": "code",
   "execution_count": null,
   "id": "ae2ea2fe",
   "metadata": {},
   "outputs": [],
   "source": []
  },
  {
   "cell_type": "code",
   "execution_count": null,
   "id": "a4c2b0a3",
   "metadata": {},
   "outputs": [],
   "source": []
  },
  {
   "cell_type": "code",
   "execution_count": null,
   "id": "734bc025",
   "metadata": {},
   "outputs": [],
   "source": []
  },
  {
   "cell_type": "code",
   "execution_count": null,
   "id": "75d2588d",
   "metadata": {},
   "outputs": [],
   "source": []
  },
  {
   "cell_type": "code",
   "execution_count": null,
   "id": "7eea5d1e",
   "metadata": {},
   "outputs": [],
   "source": []
  },
  {
   "cell_type": "code",
   "execution_count": null,
   "id": "f9841474",
   "metadata": {},
   "outputs": [],
   "source": []
  },
  {
   "cell_type": "code",
   "execution_count": null,
   "id": "bb9e55c3",
   "metadata": {},
   "outputs": [],
   "source": []
  },
  {
   "cell_type": "code",
   "execution_count": null,
   "id": "33f007d6",
   "metadata": {},
   "outputs": [],
   "source": []
  }
 ],
 "metadata": {
  "kernelspec": {
   "display_name": "Python 3 (ipykernel)",
   "language": "python",
   "name": "python3"
  },
  "language_info": {
   "codemirror_mode": {
    "name": "ipython",
    "version": 3
   },
   "file_extension": ".py",
   "mimetype": "text/x-python",
   "name": "python",
   "nbconvert_exporter": "python",
   "pygments_lexer": "ipython3",
   "version": "3.11.5"
  }
 },
 "nbformat": 4,
 "nbformat_minor": 5
}
