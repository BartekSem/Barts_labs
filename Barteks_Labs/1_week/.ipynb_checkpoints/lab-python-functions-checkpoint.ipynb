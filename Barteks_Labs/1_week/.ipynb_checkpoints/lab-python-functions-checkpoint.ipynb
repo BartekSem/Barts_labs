{
 "cells": [
  {
   "cell_type": "markdown",
   "id": "25d7736c-ba17-4aff-b6bb-66eba20fbf4e",
   "metadata": {},
   "source": [
    "# Lab | Functions"
   ]
  },
  {
   "cell_type": "markdown",
   "id": "0c581062-8967-4d93-b06e-62833222f930",
   "metadata": {
    "tags": []
   },
   "source": [
    "## Exercise: Managing Customer Orders with Functions\n",
    "\n",
    "In the previous exercise, you improved the code for managing customer orders by using loops and flow control. Now, let's take it a step further and refactor the code by introducing functions.\n",
    "\n",
    "Follow the steps below to complete the exercise:\n",
    "\n",
    "1. Define a function named `initialize_inventory` that takes `products` as a parameter. Inside the function, implement the code for initializing the inventory dictionary using a loop and user input.\n",
    "\n",
    "2. Define a function named `get_customer_orders` that takes no parameters. Inside the function, implement the code for prompting the user to enter the product names using a loop. The function should return the `customer_orders` set.\n",
    "\n",
    "3. Define a function named `update_inventory` that takes `customer_orders` and `inventory` as parameters. Inside the function, implement the code for updating the inventory dictionary based on the customer orders.\n",
    "\n",
    "4. Define a function named `calculate_order_statistics` that takes `customer_orders` and `products` as parameters. Inside the function, implement the code for calculating the order statistics (total products ordered, and percentage of unique products ordered). The function should return these values.\n",
    "\n",
    "5. Define a function named `print_order_statistics` that takes `order_statistics` as a parameter. Inside the function, implement the code for printing the order statistics.\n",
    "\n",
    "6. Define a function named `print_updated_inventory` that takes `inventory` as a parameter. Inside the function, implement the code for printing the updated inventory.\n",
    "\n",
    "7. Call the functions in the appropriate sequence to execute the program and manage customer orders.\n",
    "\n",
    "Hints for functions:\n",
    "\n",
    "- Consider the input parameters required for each function and their return values.\n",
    "- Utilize function parameters and return values to transfer data between functions.\n",
    "- Test your functions individually to ensure they work correctly."
   ]
  },
  {
   "cell_type": "code",
   "execution_count": 24,
   "id": "afb537e3",
   "metadata": {},
   "outputs": [
    {
     "name": "stdout",
     "output_type": "stream",
     "text": [
      "['mug', 'hat', 'book', 'TV']\n"
     ]
    }
   ],
   "source": [
    "# initial product list \n",
    "products = [\"mug\", \"hat\", \"book\", \"TV\"]\n",
    "print(products)"
   ]
  },
  {
   "cell_type": "markdown",
   "id": "8460293c",
   "metadata": {},
   "source": [
    "1. Define a function named initialize_inventory that takes products as a parameter. Inside the function, implement the code for initializing the inventory dictionary using a loop and user input."
   ]
  },
  {
   "cell_type": "code",
   "execution_count": 25,
   "id": "847d6653",
   "metadata": {
    "scrolled": true
   },
   "outputs": [
    {
     "name": "stdout",
     "output_type": "stream",
     "text": [
      "Enter the quantity of mug: 5\n",
      "Enter the quantity of hat: 5\n",
      "Enter the quantity of book: 5\n",
      "Enter the quantity of TV: 5\n",
      "the current inventory for each item is: {'mug': 5, 'hat': 5, 'book': 5, 'TV': 5}\n"
     ]
    }
   ],
   "source": [
    "# creating inventory function \n",
    "\n",
    "def initialize_inventory(products): #creating a function with customer input as parameter \n",
    "    \n",
    "    inventory = {}  # Create inventory dictionary\n",
    "    \n",
    "    for product in products: # Go through each item/product in products list  \n",
    "        quantity_input = int(input(f\"Enter the quantity of {product}: \"))  # Input quantity for the looped items as ints\n",
    "        inventory[product] = quantity_input\n",
    "    return inventory\n",
    "      \n",
    "inventory = initialize_inventory(products)\n",
    "print(f\"the current inventory for each item is: {inventory}\")"
   ]
  },
  {
   "cell_type": "markdown",
   "id": "f3c9f77b",
   "metadata": {},
   "source": [
    "2. Define a function named get_customer_orders that takes no parameters. Inside the function, implement the code for prompting the user to enter the product names using a loop. The function should return the customer_orders set."
   ]
  },
  {
   "cell_type": "code",
   "execution_count": 26,
   "id": "706a68bc",
   "metadata": {},
   "outputs": [
    {
     "name": "stdout",
     "output_type": "stream",
     "text": [
      "{'mug': 5, 'hat': 5, 'book': 5, 'TV': 5}\n",
      "Entre the product you want to order: mug\n",
      "Entre the product you want to order: \n",
      "Entre the product you want to order: book\n",
      "Entre the product you want to order: \n",
      "{'', 'book', 'mug'}\n"
     ]
    }
   ],
   "source": [
    "#optimazing this function.\n",
    "print(inventory)\n",
    "\n",
    "def get_cutomer_orders():\n",
    "\n",
    "    customer_orders = set()\n",
    "    for product_order in products:\n",
    "        product_input = input(f\"Entre the product you want to order: \")\n",
    "        customer_orders.add(product_input)\n",
    "    return customer_orders\n",
    "customer_orders = get_cutomer_orders()\n",
    "\n",
    "print(customer_orders)\n",
    "            \n",
    "# goal is to have a set of customer orders based on the initial inventory "
   ]
  },
  {
   "cell_type": "markdown",
   "id": "b082c7fa",
   "metadata": {},
   "source": [
    "##### extra information\n",
    "list() []\n",
    "\n",
    "dict() {}\n",
    "\n",
    "set() ()\n",
    "\n",
    "tuple() ()"
   ]
  },
  {
   "cell_type": "code",
   "execution_count": null,
   "id": "db499727",
   "metadata": {},
   "outputs": [],
   "source": [
    "#this is now a tuple becuase it expects a second value\n",
    "my_tuple = (5,)  \n",
    "type(my_tuple)"
   ]
  },
  {
   "cell_type": "markdown",
   "id": "36be2240",
   "metadata": {},
   "source": [
    "3. Define a function named update_inventory that takes customer_orders and inventory as parameters. Inside the function, implement the code for updating the inventory dictionary based on the customer orders."
   ]
  },
  {
   "cell_type": "code",
   "execution_count": 27,
   "id": "9acefd26",
   "metadata": {},
   "outputs": [
    {
     "name": "stdout",
     "output_type": "stream",
     "text": [
      "{'mug': 4, 'hat': 5, 'book': 4, 'TV': 5}\n"
     ]
    }
   ],
   "source": [
    "def update_inventory(customer_orders, inventory): \n",
    "    for product in customer_orders:\n",
    "        if product in inventory:\n",
    "            inventory[product] = inventory[product]-1 # every product in dictionary minus one\n",
    "    return inventory\n",
    "\n",
    "updated_inventory = update_inventory(customer_orders, inventory) # here i save it as a variable in the memory \n",
    "# if i only name/call the function it will not be saved in the memory \n",
    "print(updated_inventory)"
   ]
  },
  {
   "cell_type": "markdown",
   "id": "f8442896",
   "metadata": {},
   "source": [
    "4. Define a function named calculate_order_statistics that takes customer_orders and products as parameters. Inside the function, implement the code for calculating the order statistics (total products ordered, and percentage of unique products ordered). The function should return these values."
   ]
  },
  {
   "cell_type": "code",
   "execution_count": 20,
   "id": "7160c3bf",
   "metadata": {
    "scrolled": true
   },
   "outputs": [
    {
     "name": "stdout",
     "output_type": "stream",
     "text": [
      "Help on built-in function sum in module builtins:\n",
      "\n",
      "sum(iterable, /, start=0)\n",
      "    Return the sum of a 'start' value (default: 0) plus an iterable of numbers\n",
      "    \n",
      "    When the iterable is empty, return the start value.\n",
      "    This function is intended specifically for use with numeric values and may\n",
      "    reject non-numeric types.\n",
      "\n"
     ]
    }
   ],
   "source": [
    "help(sum)"
   ]
  },
  {
   "cell_type": "code",
   "execution_count": 32,
   "id": "363288bc",
   "metadata": {},
   "outputs": [
    {
     "data": {
      "text/plain": [
       "3"
      ]
     },
     "execution_count": 32,
     "metadata": {},
     "output_type": "execute_result"
    }
   ],
   "source": [
    "len(customer_orders)"
   ]
  },
  {
   "cell_type": "code",
   "execution_count": 36,
   "id": "ccd80ab2",
   "metadata": {},
   "outputs": [
    {
     "name": "stdout",
     "output_type": "stream",
     "text": [
      "{'', 'book', 'mug'}\n"
     ]
    }
   ],
   "source": [
    "# NEEDED\n",
    "# all products in inventory is a dictionary incl. values in numbers print(inventory)\n",
    "# cutomer orders is a set with product names print(customer_orders)\n",
    "# NOT NEEDED\n",
    "# product list with only names print(products)\n",
    "\n",
    "#GOAL 1: total product ordered \n",
    "#GOAL 2: percantage of unique products ordered\n",
    "\n",
    "def calculate_order_statistics(customer_orders):\n",
    "    for items in customer_orders:\n",
    "        len(customer_orders) # for loop iteration through all items. missing the part tell \n",
    "        return customer_orders\n",
    "\n",
    "total_products = calculate_order_statistics(customer_orders)\n",
    "print(total_products)"
   ]
  },
  {
   "cell_type": "code",
   "execution_count": null,
   "id": "9334d590",
   "metadata": {},
   "outputs": [],
   "source": [
    "            \n",
    "    percentage = (total_products * customer_orders)/100\n",
    "    \n",
    "    return total_orders, percentage"
   ]
  },
  {
   "cell_type": "markdown",
   "id": "b59b7b74",
   "metadata": {},
   "source": [
    "5. Define a function named print_order_statistics that takes order_statistics as a parameter. Inside the function, implement the code for printing the order statistics."
   ]
  },
  {
   "cell_type": "code",
   "execution_count": null,
   "id": "95457485",
   "metadata": {},
   "outputs": [],
   "source": [
    "\n",
    "\n",
    "\n",
    "\n",
    "def print_order_statistic(order_statistics):\n",
    "    print(\"These are the order statistics\")\n",
    "    print(f\"Total Products Ordered {total_orders}\")\n",
    "    print(f\"Percentage of Products Ordered {percentage}\")\n",
    "          "
   ]
  },
  {
   "cell_type": "code",
   "execution_count": null,
   "id": "b116334b",
   "metadata": {},
   "outputs": [],
   "source": []
  }
 ],
 "metadata": {
  "kernelspec": {
   "display_name": "Python 3 (ipykernel)",
   "language": "python",
   "name": "python3"
  },
  "language_info": {
   "codemirror_mode": {
    "name": "ipython",
    "version": 3
   },
   "file_extension": ".py",
   "mimetype": "text/x-python",
   "name": "python",
   "nbconvert_exporter": "python",
   "pygments_lexer": "ipython3",
   "version": "3.11.5"
  }
 },
 "nbformat": 4,
 "nbformat_minor": 5
}
