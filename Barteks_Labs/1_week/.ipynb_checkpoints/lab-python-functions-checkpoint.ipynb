{
 "cells": [
  {
   "cell_type": "markdown",
   "id": "25d7736c-ba17-4aff-b6bb-66eba20fbf4e",
   "metadata": {},
   "source": [
    "# Lab | Functions"
   ]
  },
  {
   "cell_type": "markdown",
   "id": "0c581062-8967-4d93-b06e-62833222f930",
   "metadata": {
    "tags": []
   },
   "source": [
    "## Exercise: Managing Customer Orders with Functions\n",
    "\n",
    "In the previous exercise, you improved the code for managing customer orders by using loops and flow control. Now, let's take it a step further and refactor the code by introducing functions.\n",
    "\n",
    "Follow the steps below to complete the exercise:\n",
    "\n",
    "1. Define a function named `initialize_inventory` that takes `products` as a parameter. Inside the function, implement the code for initializing the inventory dictionary using a loop and user input.\n",
    "\n",
    "2. Define a function named `get_customer_orders` that takes no parameters. Inside the function, implement the code for prompting the user to enter the product names using a loop. The function should return the `customer_orders` set.\n",
    "\n",
    "3. Define a function named `update_inventory` that takes `customer_orders` and `inventory` as parameters. Inside the function, implement the code for updating the inventory dictionary based on the customer orders.\n",
    "\n",
    "4. Define a function named `calculate_order_statistics` that takes `customer_orders` and `products` as parameters. Inside the function, implement the code for calculating the order statistics (total products ordered, and percentage of unique products ordered). The function should return these values.\n",
    "\n",
    "5. Define a function named `print_order_statistics` that takes `order_statistics` as a parameter. Inside the function, implement the code for printing the order statistics.\n",
    "\n",
    "6. Define a function named `print_updated_inventory` that takes `inventory` as a parameter. Inside the function, implement the code for printing the updated inventory.\n",
    "\n",
    "7. Call the functions in the appropriate sequence to execute the program and manage customer orders.\n",
    "\n",
    "Hints for functions:\n",
    "\n",
    "- Consider the input parameters required for each function and their return values.\n",
    "- Utilize function parameters and return values to transfer data between functions.\n",
    "- Test your functions individually to ensure they work correctly."
   ]
  },
  {
   "cell_type": "code",
   "execution_count": null,
   "id": "50049c9c",
   "metadata": {},
   "outputs": [],
   "source": []
  },
  {
   "cell_type": "code",
   "execution_count": null,
   "id": "c853ccb6",
   "metadata": {},
   "outputs": [],
   "source": []
  },
  {
   "cell_type": "code",
   "execution_count": 2,
   "id": "afb537e3",
   "metadata": {},
   "outputs": [
    {
     "name": "stdout",
     "output_type": "stream",
     "text": [
      "Entre a product: mug\n",
      "do you want to add more? Entre product name to continue or no to exit\n",
      "Entre a product: hat\n",
      "do you want to add more? Entre product name to continue or no to exit\n",
      "Entre a product: ball\n",
      "do you want to add more? Entre product name to continue or no to exit\n",
      "Entre a product: glasses\n",
      "do you want to add more? Entre product name to continue or no to exit\n",
      "Entre a product: no\n",
      "do you want to add more? Entre product name to continue or no to exit\n",
      "order completed\n",
      "['mug', 'hat', 'ball', 'glasses', 'no']\n"
     ]
    }
   ],
   "source": [
    "# Loop for creating listproduct inventory with product names from user input \n",
    "products = []\n",
    "while True:\n",
    "    product_input = input(\"Entre a product: \")\n",
    "    products.append(product_input)\n",
    "    print(\"do you want to add more? Entre product name to continue or no to exit\")\n",
    "    if product_input == \"no\": \n",
    "        print(\"order completed\")\n",
    "        break\n",
    "\n",
    "print(products)"
   ]
  },
  {
   "cell_type": "markdown",
   "id": "8460293c",
   "metadata": {},
   "source": [
    "1. Define a function named initialize_inventory that takes products as a parameter. Inside the function, implement the code for initializing the inventory dictionary using a loop and user input."
   ]
  },
  {
   "cell_type": "code",
   "execution_count": 3,
   "id": "847d6653",
   "metadata": {},
   "outputs": [
    {
     "name": "stdout",
     "output_type": "stream",
     "text": [
      "Enter the quantity of mug: 2\n",
      "Enter the quantity of hat: 3\n",
      "Enter the quantity of ball: 4\n",
      "Enter the quantity of glasses: 5\n",
      "Enter the quantity of no: 4\n",
      "the current inventory for each item is: {'mug': 2, 'hat': 3, 'ball': 4, 'glasses': 5, 'no': 4}\n"
     ]
    }
   ],
   "source": [
    "# creating inventory function \n",
    "\n",
    "def initialize_inventory(products): #creating a function with customer input as parameter \n",
    "    \n",
    "    inventory = {}  # Create inventory dictionary\n",
    "    \n",
    "    for product in products: # Go through each item/product in products list  \n",
    "        quantity = int(input(f\"Enter the quantity of {product}: \"))  # Input quantity for the looped items as ints\n",
    "        inventory[product] = quantity \n",
    "    return inventory\n",
    "      \n",
    "inventory = initialize_inventory(products)\n",
    "print(f\"the current inventory for each item is: {inventory}\")"
   ]
  },
  {
   "cell_type": "markdown",
   "id": "f3c9f77b",
   "metadata": {},
   "source": [
    "2. Define a function named get_customer_orders that takes no parameters. Inside the function, implement the code for prompting the user to enter the product names using a loop. The function should return the customer_orders set."
   ]
  },
  {
   "cell_type": "code",
   "execution_count": 19,
   "id": "d52cbf08",
   "metadata": {},
   "outputs": [],
   "source": [
    "def get_customer_orders(): #function takes no parameters\n",
    "    customer_orders = set() #this will store the product orders in a set. only unique products are stored here.\n",
    "    while True:\n",
    "        product_order_input = input(\"Entre here the ordered product: \")\n",
    "        customer_orders.add(product_order_input) # add the input each time to the list \n",
    "        print(\"do you want to add more? Entre product name to continue or no to exit\")\n",
    "        if product_order_input == \"no\": \n",
    "            print(\"order completed\")\n",
    "            break"
   ]
  },
  {
   "cell_type": "code",
   "execution_count": null,
   "id": "920d3914",
   "metadata": {},
   "outputs": [],
   "source": [
    "# how do i call this fuction and print the orders?\n",
    "customer_orders = get_customer_orders() \n",
    "print(customer_orders)"
   ]
  },
  {
   "cell_type": "markdown",
   "id": "36be2240",
   "metadata": {},
   "source": [
    "3. Define a function named update_inventory that takes customer_orders and inventory as parameters. Inside the function, implement the code for updating the inventory dictionary based on the customer orders."
   ]
  },
  {
   "cell_type": "code",
   "execution_count": null,
   "id": "9acefd26",
   "metadata": {},
   "outputs": [],
   "source": [
    "def update_inventory(customer_orders, inventory):\n",
    "    for product, quantity in customer_orders.items():  #.items(): Returns a view object containing all the key-value pairs in the dictionary as tuples.\n",
    "        \n",
    "    "
   ]
  },
  {
   "cell_type": "markdown",
   "id": "f8442896",
   "metadata": {},
   "source": [
    "4. Define a function named calculate_order_statistics that takes customer_orders and products as parameters. Inside the function, implement the code for calculating the order statistics (total products ordered, and percentage of unique products ordered). The function should return these values."
   ]
  },
  {
   "cell_type": "code",
   "execution_count": null,
   "id": "ccd80ab2",
   "metadata": {},
   "outputs": [],
   "source": [
    "def calculate_order_statistics(customer_orders, total_products)\n",
    "    \n",
    "    total_orders = 0 # starts with 0 and then adds\n",
    "    \n",
    "    for product in customer_orders: # for loop iteration through all items. missing the part tell \n",
    "        total_orders += product  \n",
    "            \n",
    "    percentage = (total_products * customer_orders)/100\n",
    "    \n",
    "    return total_orders, percentage"
   ]
  },
  {
   "cell_type": "markdown",
   "id": "b59b7b74",
   "metadata": {},
   "source": [
    "5. Define a function named print_order_statistics that takes order_statistics as a parameter. Inside the function, implement the code for printing the order statistics."
   ]
  },
  {
   "cell_type": "code",
   "execution_count": null,
   "id": "95457485",
   "metadata": {},
   "outputs": [],
   "source": [
    "def print_order_statistic(order_statistics):\n",
    "    print(\"These are the order statistics\")\n",
    "    print(f\"Total Products Ordered {total_orders}\")\n",
    "    print(f\"Percentage of Products Ordered {percentage}\")\n",
    "          "
   ]
  },
  {
   "cell_type": "code",
   "execution_count": null,
   "id": "b116334b",
   "metadata": {},
   "outputs": [],
   "source": []
  }
 ],
 "metadata": {
  "kernelspec": {
   "display_name": "Python 3 (ipykernel)",
   "language": "python",
   "name": "python3"
  },
  "language_info": {
   "codemirror_mode": {
    "name": "ipython",
    "version": 3
   },
   "file_extension": ".py",
   "mimetype": "text/x-python",
   "name": "python",
   "nbconvert_exporter": "python",
   "pygments_lexer": "ipython3",
   "version": "3.11.5"
  }
 },
 "nbformat": 4,
 "nbformat_minor": 5
}
