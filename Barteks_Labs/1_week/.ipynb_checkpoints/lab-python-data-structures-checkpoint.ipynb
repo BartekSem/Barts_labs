{
 "cells": [
  {
   "cell_type": "markdown",
   "metadata": {
    "tags": []
   },
   "source": [
    "# Lab | Data Structures "
   ]
  },
  {
   "cell_type": "markdown",
   "metadata": {},
   "source": [
    "## Exercise: Managing Customer Orders\n",
    "\n",
    "As part of a business venture, you are starting an online store that sells various products. To ensure smooth operations, you need to develop a program that manages customer orders and inventory.\n",
    "\n",
    "Follow the steps below to complete the exercise:\n",
    "\n",
    "1. Define a list called `products` that contains the following items: \"t-shirt\", \"mug\", \"hat\", \"book\", \"keychain\".\n",
    "\n",
    "2. Create an empty dictionary called `inventory`.\n",
    "\n",
    "3. Ask the user to input the quantity of each product available in the inventory. Use the product names from the `products` list as keys in the `inventory` dictionary and assign the respective quantities as values.\n",
    "\n",
    "4. Create an empty set called `customer_orders`.\n",
    "\n",
    "5. Ask the user to input the name of three products that a customer wants to order (from those in the products list, meaning three products out of \"t-shirt\", \"mug\", \"hat\", \"book\" or \"keychain\". Add each product name to the `customer_orders` set.\n",
    "\n",
    "6. Print the products in the `customer_orders` set.\n",
    "\n",
    "7. Calculate the following order statistics:\n",
    "   - Total Products Ordered: The total number of products in the `customer_orders` set.\n",
    "   - Percentage of Products Ordered: The percentage of products ordered compared to the total available products.\n",
    "   \n",
    "   Store these statistics in a tuple called `order_status`.\n",
    "\n",
    "8. Print the order statistics using the following format:\n",
    "   ```\n",
    "   Order Statistics:\n",
    "   Total Products Ordered: <total_products_ordered>\n",
    "   Percentage of Products Ordered: <percentage_ordered>% \n",
    "   ```\n",
    "\n",
    "9. Update the inventory by subtracting 1 from the quantity of each product. Modify the `inventory` dictionary accordingly.\n",
    "\n",
    "10. Print the updated inventory, displaying the quantity of each product on separate lines.\n",
    "\n",
    "Solve the exercise by implementing the steps using the Python concepts of lists, dictionaries, sets, and basic input/output operations. "
   ]
  },
  {
   "cell_type": "code",
   "execution_count": 15,
   "metadata": {},
   "outputs": [
    {
     "name": "stdout",
     "output_type": "stream",
     "text": [
      "Enter the quantity: 2\n",
      "Enter the quantity: 3\n",
      "Enter the quantity: 2\n",
      "Enter the quantity: 1\n",
      "Enter the quantity: 2\n"
     ]
    }
   ],
   "source": [
    "# code without loops\n",
    "\n",
    "products = [\"t-shirt\", \"mug\", \"hat\", \"book\", \"keychain\"] # not needed for the code\n",
    "inventory = {} # empty dictionary to be populated with user input. Product names from the products list as keys\n",
    "\n",
    "inventory['t-shirt'] = int(input(\"Enter the quantity: \"))\n",
    "inventory['mug'] = int(input(\"Enter the quantity: \"))\n",
    "inventory['hat'] = int(input(\"Enter the quantity: \"))\n",
    "inventory['book'] = int(input(\"Enter the quantity: \"))\n",
    "inventory['keychain'] = int(input(\"Enter the quantity: \"))"
   ]
  },
  {
   "cell_type": "code",
   "execution_count": 16,
   "metadata": {},
   "outputs": [
    {
     "name": "stdout",
     "output_type": "stream",
     "text": [
      "{'t-shirt': 2, 'mug': 3, 'hat': 2, 'book': 1, 'keychain': 2}\n"
     ]
    }
   ],
   "source": [
    "print(inventory)"
   ]
  },
  {
   "cell_type": "code",
   "execution_count": 19,
   "metadata": {},
   "outputs": [
    {
     "name": "stdout",
     "output_type": "stream",
     "text": [
      "Enter ordered product: mug\n",
      "Enter ordered product: hat\n",
      "Enter ordered product: book\n",
      "{'hat', 'mug', 'book'}\n"
     ]
    }
   ],
   "source": [
    "customer_orders = set() # create a set \n",
    "\n",
    "customer_orders.add(input(\"Enter ordered product: \"))\n",
    "customer_orders.add(input(\"Enter ordered product: \"))\n",
    "customer_orders.add(input(\"Enter ordered product: \"))\n",
    "\n",
    "print(customer_orders)"
   ]
  },
  {
   "cell_type": "code",
   "execution_count": 31,
   "metadata": {},
   "outputs": [
    {
     "name": "stdout",
     "output_type": "stream",
     "text": [
      "The total number of products in current customer orders is 3\n",
      "the total inventory before any orders: 10\n",
      "The percentage of products ordered compared to the total available products:  30.0\n"
     ]
    }
   ],
   "source": [
    "#Total Products Ordered: The total number of products in customer_orders set.\n",
    "total_products_ordered = len(customer_orders)\n",
    "print(\"The total number of products in current customer orders is\", total_products_ordered)\n",
    "\n",
    "#Percentage of Products Ordered: The percentage of products ordered compared to the total available products.\n",
    "\n",
    "total_inventory = sum(inventory.values())\n",
    "print(\"the total inventory before any orders:\", total_inventory)\n",
    "\n",
    "percentage_products_ordered = (total_products_ordered*100)/ total_inventory\n",
    "\n",
    "print(\"The percentage of products ordered compared to the total available products: \", percentage_products_ordered)\n"
   ]
  },
  {
   "cell_type": "code",
   "execution_count": 34,
   "metadata": {
    "scrolled": true
   },
   "outputs": [
    {
     "name": "stdout",
     "output_type": "stream",
     "text": [
      "number of products: 3, and percentage of products ordered 30.0\n"
     ]
    }
   ],
   "source": [
    "order_status = (f\"number of products: {total_products_ordered}, and percentage of products ordered {percentage_products_ordered}\")\n",
    "print(order_status)\n"
   ]
  },
  {
   "cell_type": "markdown",
   "metadata": {},
   "source": [
    "#### TBC Update the inventory by subtracting 1 from the quantity of each product. \n",
    "Modify the inventory dictionary accordingly.\n",
    "\n",
    "#### TBC Print the updated inventory, displaying the quantity of each product on separate lines."
   ]
  },
  {
   "cell_type": "code",
   "execution_count": null,
   "metadata": {},
   "outputs": [],
   "source": []
  }
 ],
 "metadata": {
  "kernelspec": {
   "display_name": "Python 3 (ipykernel)",
   "language": "python",
   "name": "python3"
  },
  "language_info": {
   "codemirror_mode": {
    "name": "ipython",
    "version": 3
   },
   "file_extension": ".py",
   "mimetype": "text/x-python",
   "name": "python",
   "nbconvert_exporter": "python",
   "pygments_lexer": "ipython3",
   "version": "3.11.5"
  }
 },
 "nbformat": 4,
 "nbformat_minor": 4
}
