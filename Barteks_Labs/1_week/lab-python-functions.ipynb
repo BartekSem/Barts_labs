{
 "cells": [
  {
   "cell_type": "markdown",
   "id": "25d7736c-ba17-4aff-b6bb-66eba20fbf4e",
   "metadata": {},
   "source": [
    "# Lab | Functions"
   ]
  },
  {
   "cell_type": "markdown",
   "id": "0c581062-8967-4d93-b06e-62833222f930",
   "metadata": {
    "tags": []
   },
   "source": [
    "## Exercise: Managing Customer Orders with Functions\n",
    "\n",
    "In the previous exercise, you improved the code for managing customer orders by using loops and flow control. Now, let's take it a step further and refactor the code by introducing functions.\n",
    "\n",
    "Follow the steps below to complete the exercise:\n",
    "\n",
    "1. Define a function named `initialize_inventory` that takes `products` as a parameter. Inside the function, implement the code for initializing the inventory dictionary using a loop and user input.\n",
    "\n",
    "2. Define a function named `get_customer_orders` that takes no parameters. Inside the function, implement the code for prompting the user to enter the product names using a loop. The function should return the `customer_orders` set.\n",
    "\n",
    "3. Define a function named `update_inventory` that takes `customer_orders` and `inventory` as parameters. Inside the function, implement the code for updating the inventory dictionary based on the customer orders.\n",
    "\n",
    "4. Define a function named `calculate_order_statistics` that takes `customer_orders` and `products` as parameters. Inside the function, implement the code for calculating the order statistics (total products ordered, and percentage of unique products ordered). The function should return these values.\n",
    "\n",
    "5. Define a function named `print_order_statistics` that takes `order_statistics` as a parameter. Inside the function, implement the code for printing the order statistics.\n",
    "\n",
    "6. Define a function named `print_updated_inventory` that takes `inventory` as a parameter. Inside the function, implement the code for printing the updated inventory.\n",
    "\n",
    "7. Call the functions in the appropriate sequence to execute the program and manage customer orders.\n",
    "\n",
    "Hints for functions:\n",
    "\n",
    "- Consider the input parameters required for each function and their return values.\n",
    "- Utilize function parameters and return values to transfer data between functions.\n",
    "- Test your functions individually to ensure they work correctly."
   ]
  },
  {
   "cell_type": "code",
   "execution_count": 9,
   "id": "afb537e3",
   "metadata": {},
   "outputs": [
    {
     "name": "stdout",
     "output_type": "stream",
     "text": [
      "['mug', 'hat', 'book', 'TV']\n"
     ]
    }
   ],
   "source": [
    "# initial product list \n",
    "products = [\"mug\", \"hat\", \"book\", \"TV\"]\n",
    "print(products)"
   ]
  },
  {
   "cell_type": "markdown",
   "id": "8460293c",
   "metadata": {},
   "source": [
    "1. Define a function named initialize_inventory that takes products as a parameter. Inside the function, implement the code for initializing the inventory dictionary using a loop and user input."
   ]
  },
  {
   "cell_type": "code",
   "execution_count": 10,
   "id": "847d6653",
   "metadata": {},
   "outputs": [
    {
     "name": "stdout",
     "output_type": "stream",
     "text": [
      "Enter the quantity of mug: 3\n",
      "Enter the quantity of hat: 3\n",
      "Enter the quantity of book: 2\n",
      "Enter the quantity of TV: 1\n",
      "the current inventory for each item is: {'mug': 3, 'hat': 3, 'book': 2, 'TV': 1}\n"
     ]
    }
   ],
   "source": [
    "# creating inventory function \n",
    "\n",
    "def initialize_inventory(products): #creating a function with customer input as parameter \n",
    "    \n",
    "    inventory = {}  # Create inventory dictionary\n",
    "    \n",
    "    for product in products: # Go through each item/product in products list  \n",
    "        quantity = int(input(f\"Enter the quantity of {product}: \"))  # Input quantity for the looped items as ints\n",
    "        inventory[product] = quantity \n",
    "    return inventory\n",
    "      \n",
    "inventory = initialize_inventory(products)\n",
    "print(f\"the current inventory for each item is: {inventory}\")"
   ]
  },
  {
   "cell_type": "markdown",
   "id": "f3c9f77b",
   "metadata": {},
   "source": [
    "2. Define a function named get_customer_orders that takes no parameters. Inside the function, implement the code for prompting the user to enter the product names using a loop. The function should return the customer_orders set."
   ]
  },
  {
   "cell_type": "code",
   "execution_count": null,
   "id": "2647be32",
   "metadata": {},
   "outputs": [],
   "source": [
    "def get_cutomer_orders():\n",
    "    \n",
    "    customer_orders = set()\n",
    "    if product in inventory:\n",
    "        for product in customer_orders:\n",
    "            product_input = input(\"\")\n",
    "            \n",
    "            \n",
    "# goal is to have a set of customer orders based on the initial inventory \n",
    "            "
   ]
  },
  {
   "cell_type": "code",
   "execution_count": 11,
   "id": "d52cbf08",
   "metadata": {},
   "outputs": [
    {
     "name": "stdout",
     "output_type": "stream",
     "text": [
      "Entre here the ordered product: mug\n",
      "do you want to add more? Entre product name to continue or no to exit\n",
      "Entre here the ordered product: mug\n",
      "do you want to add more? Entre product name to continue or no to exit\n",
      "Entre here the ordered product: mug\n",
      "do you want to add more? Entre product name to continue or no to exit\n",
      "Entre here the ordered product: no\n",
      "do you want to add more? Entre product name to continue or no to exit\n",
      "order completed\n"
     ]
    }
   ],
   "source": [
    "# !!!AMEND THIS!!!! i can also use if product in inventory only be able to entre then. without the while loop.\n",
    "# i can only order from the stock. so no while loop needed. \n",
    "# remove while loop replace with for in \n",
    "\n",
    "def get_customer_orders(): #function takes no parameters\n",
    "    customer_orders = set() #this will store the product orders in a set. only unique products are stored here.\n",
    "    while True:\n",
    "        product_order_input = input(\"Entre here the ordered product: \")\n",
    "        customer_orders.add(product_order_input) # add the input each time to the list \n",
    "        print(\"do you want to add more? Entre product name to continue or no to exit\")\n",
    "        if product_order_input == \"no\": \n",
    "            print(\"order completed\")\n",
    "            break\n",
    "                  \n",
    "customer_orders = get_customer_orders()"
   ]
  },
  {
   "cell_type": "markdown",
   "id": "b082c7fa",
   "metadata": {},
   "source": [
    "##### extra information\n",
    "list() []\n",
    "\n",
    "dict() {}\n",
    "\n",
    "set() ()\n",
    "\n",
    "tuple() ()"
   ]
  },
  {
   "cell_type": "code",
   "execution_count": 6,
   "id": "db499727",
   "metadata": {},
   "outputs": [
    {
     "data": {
      "text/plain": [
       "tuple"
      ]
     },
     "execution_count": 6,
     "metadata": {},
     "output_type": "execute_result"
    }
   ],
   "source": [
    "#this is now a tuple becuase it expects a second value\n",
    "my_tuple = (5,)  \n",
    "type(my_tuple)"
   ]
  },
  {
   "cell_type": "markdown",
   "id": "36be2240",
   "metadata": {},
   "source": [
    "3. Define a function named update_inventory that takes customer_orders and inventory as parameters. Inside the function, implement the code for updating the inventory dictionary based on the customer orders."
   ]
  },
  {
   "cell_type": "code",
   "execution_count": 12,
   "id": "9acefd26",
   "metadata": {},
   "outputs": [
    {
     "ename": "TypeError",
     "evalue": "'NoneType' object is not iterable",
     "output_type": "error",
     "traceback": [
      "\u001b[0;31m---------------------------------------------------------------------------\u001b[0m",
      "\u001b[0;31mTypeError\u001b[0m                                 Traceback (most recent call last)",
      "Cell \u001b[0;32mIn[12], line 7\u001b[0m\n\u001b[1;32m      4\u001b[0m             inventory[product] \u001b[38;5;241m=\u001b[39m inventory[product]\u001b[38;5;241m-\u001b[39m\u001b[38;5;241m1\u001b[39m \u001b[38;5;66;03m# every product in dictionary minus one\u001b[39;00m\n\u001b[1;32m      5\u001b[0m     \u001b[38;5;28;01mreturn\u001b[39;00m inventory\n\u001b[0;32m----> 7\u001b[0m updated_inventory \u001b[38;5;241m=\u001b[39m update_inventory(customer_orders, inventory)\n\u001b[1;32m      8\u001b[0m \u001b[38;5;28mprint\u001b[39m(updated_inventory)\n",
      "Cell \u001b[0;32mIn[12], line 2\u001b[0m, in \u001b[0;36mupdate_inventory\u001b[0;34m(customer_orders, inventory)\u001b[0m\n\u001b[1;32m      1\u001b[0m \u001b[38;5;28;01mdef\u001b[39;00m \u001b[38;5;21mupdate_inventory\u001b[39m(customer_orders, inventory): \n\u001b[0;32m----> 2\u001b[0m     \u001b[38;5;28;01mfor\u001b[39;00m product \u001b[38;5;129;01min\u001b[39;00m customer_orders:\n\u001b[1;32m      3\u001b[0m         \u001b[38;5;28;01mif\u001b[39;00m product \u001b[38;5;129;01min\u001b[39;00m inventory:\n\u001b[1;32m      4\u001b[0m             inventory[product] \u001b[38;5;241m=\u001b[39m inventory[product]\u001b[38;5;241m-\u001b[39m\u001b[38;5;241m1\u001b[39m \u001b[38;5;66;03m# every product in dictionary minus one\u001b[39;00m\n",
      "\u001b[0;31mTypeError\u001b[0m: 'NoneType' object is not iterable"
     ]
    }
   ],
   "source": [
    "def update_inventory(customer_orders, inventory): \n",
    "    for product in customer_orders:\n",
    "        if product in inventory:\n",
    "            inventory[product] = inventory[product]-1 # every product in dictionary minus one\n",
    "    return inventory\n",
    "\n",
    "\n",
    "\n",
    "updated_inventory = update_inventory(customer_orders, inventory) # here i save it as a variable in the memory \n",
    "# if i only name/call the function it will not be saved in the memory \n",
    "print(updated_inventory)"
   ]
  },
  {
   "cell_type": "markdown",
   "id": "f8442896",
   "metadata": {},
   "source": [
    "4. Define a function named calculate_order_statistics that takes customer_orders and products as parameters. Inside the function, implement the code for calculating the order statistics (total products ordered, and percentage of unique products ordered). The function should return these values."
   ]
  },
  {
   "cell_type": "code",
   "execution_count": 19,
   "id": "ccd80ab2",
   "metadata": {},
   "outputs": [
    {
     "ename": "TypeError",
     "evalue": "'NoneType' object is not iterable",
     "output_type": "error",
     "traceback": [
      "\u001b[0;31m---------------------------------------------------------------------------\u001b[0m",
      "\u001b[0;31mTypeError\u001b[0m                                 Traceback (most recent call last)",
      "Cell \u001b[0;32mIn[19], line 12\u001b[0m\n\u001b[1;32m      8\u001b[0m     percentage \u001b[38;5;241m=\u001b[39m (total_products \u001b[38;5;241m*\u001b[39m customer_orders)\u001b[38;5;241m/\u001b[39m\u001b[38;5;241m100\u001b[39m\n\u001b[1;32m     10\u001b[0m     \u001b[38;5;28;01mreturn\u001b[39;00m total_orders, percentage\n\u001b[0;32m---> 12\u001b[0m order_statistics \u001b[38;5;241m=\u001b[39m calculate_order_statistics(customer_orders, inventory)\n",
      "Cell \u001b[0;32mIn[19], line 5\u001b[0m, in \u001b[0;36mcalculate_order_statistics\u001b[0;34m(customer_orders, total_products)\u001b[0m\n\u001b[1;32m      1\u001b[0m \u001b[38;5;28;01mdef\u001b[39;00m \u001b[38;5;21mcalculate_order_statistics\u001b[39m(customer_orders, total_products):\n\u001b[1;32m      3\u001b[0m     total_orders \u001b[38;5;241m=\u001b[39m \u001b[38;5;241m0\u001b[39m \u001b[38;5;66;03m# starts with 0 and then adds\u001b[39;00m\n\u001b[0;32m----> 5\u001b[0m     \u001b[38;5;28;01mfor\u001b[39;00m product \u001b[38;5;129;01min\u001b[39;00m customer_orders: \u001b[38;5;66;03m# for loop iteration through all items. missing the part tell \u001b[39;00m\n\u001b[1;32m      6\u001b[0m         total_orders \u001b[38;5;241m+\u001b[39m\u001b[38;5;241m=\u001b[39m product  \n\u001b[1;32m      8\u001b[0m     percentage \u001b[38;5;241m=\u001b[39m (total_products \u001b[38;5;241m*\u001b[39m customer_orders)\u001b[38;5;241m/\u001b[39m\u001b[38;5;241m100\u001b[39m\n",
      "\u001b[0;31mTypeError\u001b[0m: 'NoneType' object is not iterable"
     ]
    }
   ],
   "source": [
    "def calculate_order_statistics(customer_orders, total_products):\n",
    "    \n",
    "    total_orders = 0 # starts with 0 and then adds\n",
    "    \n",
    "    for product in customer_orders: # for loop iteration through all items. missing the part tell \n",
    "        total_orders += product  \n",
    "            \n",
    "    percentage = (total_products * customer_orders)/100\n",
    "    \n",
    "    return total_orders, percentage\n",
    "\n",
    "order_statistics = calculate_order_statistics(customer_orders, inventory)"
   ]
  },
  {
   "cell_type": "markdown",
   "id": "b59b7b74",
   "metadata": {},
   "source": [
    "5. Define a function named print_order_statistics that takes order_statistics as a parameter. Inside the function, implement the code for printing the order statistics."
   ]
  },
  {
   "cell_type": "code",
   "execution_count": 16,
   "id": "95457485",
   "metadata": {},
   "outputs": [],
   "source": [
    "\n",
    "\n",
    "\n",
    "\n",
    "def print_order_statistic(order_statistics):\n",
    "    print(\"These are the order statistics\")\n",
    "    print(f\"Total Products Ordered {total_orders}\")\n",
    "    print(f\"Percentage of Products Ordered {percentage}\")\n",
    "          "
   ]
  },
  {
   "cell_type": "code",
   "execution_count": null,
   "id": "b116334b",
   "metadata": {},
   "outputs": [],
   "source": []
  }
 ],
 "metadata": {
  "kernelspec": {
   "display_name": "Python 3 (ipykernel)",
   "language": "python",
   "name": "python3"
  },
  "language_info": {
   "codemirror_mode": {
    "name": "ipython",
    "version": 3
   },
   "file_extension": ".py",
   "mimetype": "text/x-python",
   "name": "python",
   "nbconvert_exporter": "python",
   "pygments_lexer": "ipython3",
   "version": "3.11.5"
  }
 },
 "nbformat": 4,
 "nbformat_minor": 5
}
