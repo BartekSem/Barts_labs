{
 "cells": [
  {
   "cell_type": "code",
   "execution_count": 13,
   "id": "44f6431a",
   "metadata": {
    "scrolled": true
   },
   "outputs": [],
   "source": [
    "import pandas as pd"
   ]
  },
  {
   "cell_type": "code",
   "execution_count": 14,
   "id": "253ba93b",
   "metadata": {},
   "outputs": [
    {
     "name": "stdout",
     "output_type": "stream",
     "text": [
      "Requirement already satisfied: xlrd in /Users/bart/anaconda3/lib/python3.11/site-packages (2.0.1)\n",
      "Note: you may need to restart the kernel to use updated packages.\n"
     ]
    }
   ],
   "source": [
    "pip install xlrd\n"
   ]
  },
  {
   "cell_type": "code",
   "execution_count": 15,
   "id": "f4769c89",
   "metadata": {},
   "outputs": [],
   "source": [
    "shark_attacks = pd.read_excel('https://www.sharkattackfile.net/spreadsheets/GSAF5.xls')"
   ]
  },
  {
   "cell_type": "code",
   "execution_count": 6,
   "id": "bc393307",
   "metadata": {
    "scrolled": true
   },
   "outputs": [
    {
     "data": {
      "text/html": [
       "<div>\n",
       "<style scoped>\n",
       "    .dataframe tbody tr th:only-of-type {\n",
       "        vertical-align: middle;\n",
       "    }\n",
       "\n",
       "    .dataframe tbody tr th {\n",
       "        vertical-align: top;\n",
       "    }\n",
       "\n",
       "    .dataframe thead th {\n",
       "        text-align: right;\n",
       "    }\n",
       "</style>\n",
       "<table border=\"1\" class=\"dataframe\">\n",
       "  <thead>\n",
       "    <tr style=\"text-align: right;\">\n",
       "      <th></th>\n",
       "      <th>Date</th>\n",
       "      <th>Year</th>\n",
       "      <th>Type</th>\n",
       "      <th>Country</th>\n",
       "      <th>State</th>\n",
       "      <th>Location</th>\n",
       "      <th>Activity</th>\n",
       "      <th>Name</th>\n",
       "      <th>Sex</th>\n",
       "      <th>Age</th>\n",
       "      <th>...</th>\n",
       "      <th>Species</th>\n",
       "      <th>Source</th>\n",
       "      <th>pdf</th>\n",
       "      <th>href formula</th>\n",
       "      <th>href</th>\n",
       "      <th>Case Number</th>\n",
       "      <th>Case Number.1</th>\n",
       "      <th>original order</th>\n",
       "      <th>Unnamed: 21</th>\n",
       "      <th>Unnamed: 22</th>\n",
       "    </tr>\n",
       "  </thead>\n",
       "  <tbody>\n",
       "  </tbody>\n",
       "</table>\n",
       "<p>0 rows × 23 columns</p>\n",
       "</div>"
      ],
      "text/plain": [
       "Empty DataFrame\n",
       "Columns: [Date, Year, Type, Country, State, Location, Activity, Name, Sex, Age, Injury, Unnamed: 11, Time, Species , Source, pdf, href formula, href, Case Number, Case Number.1, original order, Unnamed: 21, Unnamed: 22]\n",
       "Index: []\n",
       "\n",
       "[0 rows x 23 columns]"
      ]
     },
     "execution_count": 6,
     "metadata": {},
     "output_type": "execute_result"
    }
   ],
   "source": [
    "shark_attacks['Date'] = shark_attacks['Date'].fillna('not provided')\n",
    "null_values = shark_attacks[shark_attacks['Date'].isnull()]\n",
    "null_values"
   ]
  },
  {
   "cell_type": "code",
   "execution_count": 20,
   "id": "5b330613",
   "metadata": {},
   "outputs": [],
   "source": [
    "shark_attacks['Date'] = pd.to_datetime(shark_attacks['Date'], format='%d-%b-%Y', errors='coerce')\n",
    "filtered_df = shark_attacks[shark_attacks['Date'].notnull()]\n",
    "shark_attacks = shark_attacks[shark_attacks['Date'].notnull()]\n",
    "\n"
   ]
  },
  {
   "cell_type": "code",
   "execution_count": 19,
   "id": "b4c19259",
   "metadata": {},
   "outputs": [
    {
     "name": "stdout",
     "output_type": "stream",
     "text": [
      "           Date  Month\n",
      "0    2024-01-09    1.0\n",
      "1    2024-01-05    1.0\n",
      "2    2023-12-30   12.0\n",
      "3    2023-12-29   12.0\n",
      "4    2023-12-28   12.0\n",
      "...         ...    ...\n",
      "6952        NaT    NaN\n",
      "6953        NaT    NaN\n",
      "6954        NaT    NaN\n",
      "6955        NaT    NaN\n",
      "6956        NaT    NaN\n",
      "\n",
      "[6957 rows x 2 columns]\n"
     ]
    }
   ],
   "source": [
    "shark_attacks = pd.read_excel('https://www.sharkattackfile.net/spreadsheets/GSAF5.xls')\n",
    "\n",
    "def custom_date_parser(date_str):\n",
    "    try:\n",
    "        return pd.to_datetime(date_str, format='%d %b-%Y')\n",
    "    except ValueError:\n",
    "        return pd.to_datetime(date_str, errors='coerce')\n",
    "\n",
    "# Apply the custom date parser to the \"Date\" column in the shark_attacks DataFrame\n",
    "shark_attacks['Date'] = shark_attacks['Date'].apply(custom_date_parser)\n",
    "\n",
    "# Extract the month from the \"Date\" column\n",
    "shark_attacks['Month'] = shark_attacks['Date'].dt.month\n",
    "\n",
    "# Display the DataFrame with the extracted month\n",
    "print(shark_attacks[['Date', 'Month']])"
   ]
  },
  {
   "cell_type": "code",
   "execution_count": 23,
   "id": "4fd1060d",
   "metadata": {},
   "outputs": [
    {
     "data": {
      "text/plain": [
       "array([ 1., 12., 11., 10.,  9.,  8.,  7.,  6.,  5.,  4.,  3.,  2.])"
      ]
     },
     "execution_count": 23,
     "metadata": {},
     "output_type": "execute_result"
    }
   ],
   "source": [
    "unique_values = shark_attacks['Month'].unique()\n",
    "unique_values"
   ]
  }
 ],
 "metadata": {
  "kernelspec": {
   "display_name": "Python 3 (ipykernel)",
   "language": "python",
   "name": "python3"
  },
  "language_info": {
   "codemirror_mode": {
    "name": "ipython",
    "version": 3
   },
   "file_extension": ".py",
   "mimetype": "text/x-python",
   "name": "python",
   "nbconvert_exporter": "python",
   "pygments_lexer": "ipython3",
   "version": "3.11.5"
  }
 },
 "nbformat": 4,
 "nbformat_minor": 5
}
