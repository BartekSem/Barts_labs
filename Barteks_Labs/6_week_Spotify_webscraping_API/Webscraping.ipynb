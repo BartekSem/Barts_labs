{
 "cells": [
  {
   "cell_type": "code",
   "execution_count": 179,
   "id": "b7efa217",
   "metadata": {},
   "outputs": [],
   "source": [
    "from bs4 import BeautifulSoup\n",
    "import requests\n",
    "import pandas as pd"
   ]
  },
  {
   "cell_type": "markdown",
   "id": "37fa2970",
   "metadata": {},
   "source": [
    "### Billboard - top100"
   ]
  },
  {
   "cell_type": "code",
   "execution_count": 180,
   "id": "860d51fa",
   "metadata": {},
   "outputs": [],
   "source": [
    "# scraping from billboard \n",
    "url = \"https://www.billboard.com/charts/hot-100/\"\n",
    "response = requests.get(url)\n",
    "soup = BeautifulSoup(response.content)"
   ]
  },
  {
   "cell_type": "code",
   "execution_count": 187,
   "id": "a5309c92",
   "metadata": {
    "collapsed": true,
    "jupyter": {
     "outputs_hidden": true
    }
   },
   "outputs": [
    {
     "data": {
      "text/plain": [
       "['Lovin On Me',\n",
       " 'Lose Control',\n",
       " 'Beautiful Things',\n",
       " 'Cruel Summer',\n",
       " 'Snooze',\n",
       " 'I Remember Everything',\n",
       " 'Greedy',\n",
       " 'Fast Car',\n",
       " 'Agora Hills',\n",
       " 'Flowers',\n",
       " 'Stick Season',\n",
       " 'Water',\n",
       " 'Hiss',\n",
       " 'Redrum',\n",
       " 'Last Night',\n",
       " \"Thinkin' Bout Me\",\n",
       " 'Paint The Town Red',\n",
       " \"Is It Over Now? (Taylor's Version) [From The Vault]\",\n",
       " 'Never Lose Me',\n",
       " 'What Was I Made For?',\n",
       " 'Yes, And?',\n",
       " 'Houdini',\n",
       " 'Selfish',\n",
       " 'Pretty Little Poison',\n",
       " 'La Diabla',\n",
       " 'Where The Wild Things Are',\n",
       " 'Everybody',\n",
       " 'Made For Me',\n",
       " 'Vampire',\n",
       " 'The Painter',\n",
       " 'White Horse',\n",
       " 'Rich Baby Daddy',\n",
       " 'On My Mama',\n",
       " 'Exes',\n",
       " 'Wild Ones',\n",
       " 'Feather',\n",
       " 'Dance The Night',\n",
       " 'Bandit',\n",
       " 'Need A Favor',\n",
       " 'Save Me',\n",
       " 'Fukumean',\n",
       " 'Fast Car',\n",
       " 'Lil Boo Thang',\n",
       " 'World On Fire',\n",
       " 'Good Good',\n",
       " 'Truck Bed',\n",
       " 'First Person Shooter',\n",
       " 'Surround Sound',\n",
       " 'Strangers',\n",
       " 'My Love Mine All Mine',\n",
       " 'Spin You Around (1/24)',\n",
       " 'Think U The Shit (Fart)',\n",
       " 'Igual Que Un Angel',\n",
       " 'FTCU',\n",
       " 'Burn It Down',\n",
       " 'La Victima',\n",
       " 'One Of The Girls',\n",
       " 'Nee-nah',\n",
       " 'Murder On The Dancefloor',\n",
       " 'Praise Jah In The Moonlight',\n",
       " 'Act II: Date @ 8',\n",
       " 'Turn The Lights Back On',\n",
       " 'Man Made A Bar',\n",
       " 'One Call',\n",
       " 'You Broke My Heart',\n",
       " \"Different 'Round Here\",\n",
       " 'Harley Quinn',\n",
       " 'Get In With Me',\n",
       " 'FE!N',\n",
       " 'Bellakeo',\n",
       " '500lbs',\n",
       " 'IDGAF',\n",
       " 'I Can Feel It',\n",
       " '23',\n",
       " 'Prove It',\n",
       " 'Soak City',\n",
       " 'Monaco',\n",
       " \"Mamaw's House\",\n",
       " \"We Don't Fight Anymore\",\n",
       " 'Home',\n",
       " 'Standing Next To You',\n",
       " 'Perro Negro',\n",
       " 'Mmhmm',\n",
       " 'Oklahoma Smokeshow',\n",
       " 'My Eyes',\n",
       " 'Coal',\n",
       " 'A Cold Sunday',\n",
       " 'All Of Me',\n",
       " 'N.H.I.E.',\n",
       " \"Should've Wore A Bonnet\",\n",
       " 'Que Onda',\n",
       " 'Wondering Why',\n",
       " 'Y Lloro',\n",
       " 'Sensational',\n",
       " 'Wildflowers And Wild Horses',\n",
       " 'Worth It',\n",
       " 'Northern Attitude',\n",
       " 'Scared To Start',\n",
       " 'First Love',\n",
       " 'Where It Ends']"
      ]
     },
     "execution_count": 187,
     "metadata": {},
     "output_type": "execute_result"
    }
   ],
   "source": [
    "song_titles = []\n",
    "\n",
    "for song in soup.select(\"h3.c-title.a-no-trucate\"):\n",
    "    song_titles.append(song.get_text().strip())\n",
    "\n",
    "song_titles   "
   ]
  },
  {
   "cell_type": "code",
   "execution_count": null,
   "id": "90ddffa4",
   "metadata": {},
   "outputs": [],
   "source": [
    "artists = []\n",
    "\n",
    "for artist in soup.select(\".c-label.a-no-trucate\"):\n",
    "    artists.append(artist.get_text().strip())\n",
    "\n",
    "artists"
   ]
  },
  {
   "cell_type": "code",
   "execution_count": 191,
   "id": "239eb83e",
   "metadata": {},
   "outputs": [
    {
     "data": {
      "text/html": [
       "<div>\n",
       "<style scoped>\n",
       "    .dataframe tbody tr th:only-of-type {\n",
       "        vertical-align: middle;\n",
       "    }\n",
       "\n",
       "    .dataframe tbody tr th {\n",
       "        vertical-align: top;\n",
       "    }\n",
       "\n",
       "    .dataframe thead th {\n",
       "        text-align: right;\n",
       "    }\n",
       "</style>\n",
       "<table border=\"1\" class=\"dataframe\">\n",
       "  <thead>\n",
       "    <tr style=\"text-align: right;\">\n",
       "      <th></th>\n",
       "      <th>Titles</th>\n",
       "      <th>Artists</th>\n",
       "    </tr>\n",
       "  </thead>\n",
       "  <tbody>\n",
       "    <tr>\n",
       "      <th>0</th>\n",
       "      <td>Lovin On Me</td>\n",
       "      <td>Jack Harlow</td>\n",
       "    </tr>\n",
       "    <tr>\n",
       "      <th>1</th>\n",
       "      <td>Lose Control</td>\n",
       "      <td>Teddy Swims</td>\n",
       "    </tr>\n",
       "    <tr>\n",
       "      <th>2</th>\n",
       "      <td>Beautiful Things</td>\n",
       "      <td>Benson Boone</td>\n",
       "    </tr>\n",
       "    <tr>\n",
       "      <th>3</th>\n",
       "      <td>Cruel Summer</td>\n",
       "      <td>Taylor Swift</td>\n",
       "    </tr>\n",
       "    <tr>\n",
       "      <th>4</th>\n",
       "      <td>Snooze</td>\n",
       "      <td>SZA</td>\n",
       "    </tr>\n",
       "    <tr>\n",
       "      <th>...</th>\n",
       "      <td>...</td>\n",
       "      <td>...</td>\n",
       "    </tr>\n",
       "    <tr>\n",
       "      <th>95</th>\n",
       "      <td>Worth It</td>\n",
       "      <td>Offset &amp; Don Toliver</td>\n",
       "    </tr>\n",
       "    <tr>\n",
       "      <th>96</th>\n",
       "      <td>Northern Attitude</td>\n",
       "      <td>Noah Kahan With Hozier</td>\n",
       "    </tr>\n",
       "    <tr>\n",
       "      <th>97</th>\n",
       "      <td>Scared To Start</td>\n",
       "      <td>Michael Marcagi</td>\n",
       "    </tr>\n",
       "    <tr>\n",
       "      <th>98</th>\n",
       "      <td>First Love</td>\n",
       "      <td>Oscar Ortiz X Edgardo Nunez</td>\n",
       "    </tr>\n",
       "    <tr>\n",
       "      <th>99</th>\n",
       "      <td>Where It Ends</td>\n",
       "      <td>Bailey Zimmerman</td>\n",
       "    </tr>\n",
       "  </tbody>\n",
       "</table>\n",
       "<p>100 rows × 2 columns</p>\n",
       "</div>"
      ],
      "text/plain": [
       "               Titles                      Artists\n",
       "0         Lovin On Me                  Jack Harlow\n",
       "1        Lose Control                  Teddy Swims\n",
       "2    Beautiful Things                 Benson Boone\n",
       "3        Cruel Summer                 Taylor Swift\n",
       "4              Snooze                          SZA\n",
       "..                ...                          ...\n",
       "95           Worth It         Offset & Don Toliver\n",
       "96  Northern Attitude       Noah Kahan With Hozier\n",
       "97    Scared To Start              Michael Marcagi\n",
       "98         First Love  Oscar Ortiz X Edgardo Nunez\n",
       "99      Where It Ends             Bailey Zimmerman\n",
       "\n",
       "[100 rows x 2 columns]"
      ]
     },
     "execution_count": 191,
     "metadata": {},
     "output_type": "execute_result"
    }
   ],
   "source": [
    "top100 = pd.DataFrame({\"Titles\":song_titles, \"Artists\":artists})\n",
    "top100"
   ]
  },
  {
   "cell_type": "code",
   "execution_count": 192,
   "id": "b6dc4747",
   "metadata": {},
   "outputs": [],
   "source": [
    "top100.to_csv('top100.csv', index=False)"
   ]
  },
  {
   "cell_type": "markdown",
   "id": "63de8189",
   "metadata": {},
   "source": [
    "### NYT - Hardcover Nonfiction\n"
   ]
  },
  {
   "cell_type": "code",
   "execution_count": 97,
   "id": "843e7833",
   "metadata": {},
   "outputs": [],
   "source": [
    "url = \"https://www.nytimes.com/books/best-sellers/hardcover-nonfiction/\"\n",
    "response = requests.get(url)\n",
    "soup = BeautifulSoup(response.content)"
   ]
  },
  {
   "cell_type": "code",
   "execution_count": 98,
   "id": "3be83692",
   "metadata": {
    "scrolled": true
   },
   "outputs": [
    {
     "data": {
      "text/plain": [
       "200"
      ]
     },
     "execution_count": 98,
     "metadata": {},
     "output_type": "execute_result"
    }
   ],
   "source": [
    "response.status_code"
   ]
  },
  {
   "cell_type": "code",
   "execution_count": 99,
   "id": "ebf82ec0",
   "metadata": {
    "collapsed": true,
    "jupyter": {
     "outputs_hidden": true
    }
   },
   "outputs": [
    {
     "data": {
      "text/plain": [
       "['THE WAGER',\n",
       " 'OATH AND HONOR',\n",
       " 'OUTLIVE',\n",
       " 'THE WOMAN IN ME',\n",
       " 'THE KINGDOM, THE POWER, AND THE GLORY',\n",
       " 'FRIENDS, LOVERS, AND THE BIG TERRIBLE THING',\n",
       " 'MADNESS',\n",
       " 'ELON MUSK',\n",
       " 'READ WRITE OWN',\n",
       " 'THE GRIFT',\n",
       " 'THE IN-BETWEEN',\n",
       " 'FIND ME THE VOTES',\n",
       " 'LEGACY',\n",
       " \"I'M GLAD MY MOM DIED\",\n",
       " 'OUR HIDDEN CONVERSATIONS']"
      ]
     },
     "execution_count": 99,
     "metadata": {},
     "output_type": "execute_result"
    }
   ],
   "source": [
    "# only the titles H3 that are connected to class css-5pe77f\n",
    "\n",
    "titles = []\n",
    "\n",
    "for name in soup.select(\"h3.css-5pe77f\"):\n",
    "    titles.append(name.get_text().strip())\n",
    "\n",
    "titles"
   ]
  },
  {
   "cell_type": "code",
   "execution_count": 105,
   "id": "e67c3efa",
   "metadata": {
    "collapsed": true,
    "jupyter": {
     "outputs_hidden": true
    }
   },
   "outputs": [
    {
     "data": {
      "text/plain": [
       "['by David Grann',\n",
       " 'by Liz Cheney',\n",
       " 'by Peter Attia with Bill Gifford',\n",
       " 'by Britney Spears',\n",
       " 'by Tim Alberta',\n",
       " 'by Matthew Perry',\n",
       " 'by Antonia Hylton',\n",
       " 'by Walter Isaacson',\n",
       " 'by Chris Dixon',\n",
       " 'by Clay Cane',\n",
       " 'by Hadley Vlahos',\n",
       " 'by Michael Isikoff and Daniel Klaidman',\n",
       " 'by Uché Blackstock',\n",
       " 'by Jennette McCurdy',\n",
       " 'by Michele Norris']"
      ]
     },
     "execution_count": 105,
     "metadata": {},
     "output_type": "execute_result"
    }
   ],
   "source": [
    "authors = []\n",
    "\n",
    "for name in soup.select(\"div p.css-hjukut\"):\n",
    "    authors.append(name.get_text().strip())\n",
    "    \n",
    "authors"
   ]
  },
  {
   "cell_type": "code",
   "execution_count": null,
   "id": "ffc7abb1",
   "metadata": {},
   "outputs": [],
   "source": [
    "# ---------- TASK ---------\n",
    "# retrieve description of the book\n",
    "# create df with 3 columns: title, author, description\n",
    "# clean: capitalize the title, (lower case + capitalized), remove \"by\" from the author"
   ]
  },
  {
   "cell_type": "code",
   "execution_count": 101,
   "id": "00d8de6b",
   "metadata": {
    "collapsed": true,
    "jupyter": {
     "outputs_hidden": true
    }
   },
   "outputs": [
    {
     "data": {
      "text/plain": [
       "['The survivors of a shipwrecked British vessel on a secret mission during an imperial war with Spain have different accounts of events.',\n",
       " 'The former congresswoman from Wyoming recounts how she helped lead the Select Committee to Investigate the Jan. 6. Attack on the United States Capitol.',\n",
       " 'A look at recent scientific research on aging and longevity.',\n",
       " 'The Grammy Award-winning pop star details her personal and professional experiences, including the years she spent under a conservatorship overseen by her father.',\n",
       " 'The author of “American Carnage” looks at divisions within the American evangelical movement.',\n",
       " 'The late actor, known for playing Chandler Bing on “Friends,” shares stories from his childhood and his struggles with sobriety.',\n",
       " 'A Peabody and Emmy award-winning journalist unearths the 93-year-old history of a segregated asylum in Maryland.',\n",
       " 'The author of “The Code Breaker” traces Musk’s life and summarizes his work on electric vehicles, private space exploration and artificial intelligence.',\n",
       " 'A technology entrepreneur describes three eras of the internet and argues in favor of blockchain networks.',\n",
       " 'An overview of Black Republicanism from the time of President Lincoln to the present.',\n",
       " \"A hospice nurse shares some of her most impactful experiences and questions some of society's beliefs around end-of-life care.\",\n",
       " 'An account of former President Trump’s attempt to overturn the 2020 election and a Georgia prosecutor’s decision to indict him and his allies.',\n",
       " 'A Black physician details systemic barriers and inequities that affect Black patients and doctors.',\n",
       " 'The actress and filmmaker describes her eating disorders and difficult relationship with her mother.',\n",
       " 'Stories, essays and photographs exploring race and identity in America.']"
      ]
     },
     "execution_count": 101,
     "metadata": {},
     "output_type": "execute_result"
    }
   ],
   "source": [
    "description = []\n",
    "\n",
    "for name in soup.select(\"div p.css-14lubdp\"):\n",
    "    description.append(name.get_text())\n",
    "    \n",
    "description"
   ]
  },
  {
   "cell_type": "code",
   "execution_count": 127,
   "id": "ab8f5aa0",
   "metadata": {
    "collapsed": true,
    "jupyter": {
     "outputs_hidden": true
    }
   },
   "outputs": [
    {
     "data": {
      "text/html": [
       "<div>\n",
       "<style scoped>\n",
       "    .dataframe tbody tr th:only-of-type {\n",
       "        vertical-align: middle;\n",
       "    }\n",
       "\n",
       "    .dataframe tbody tr th {\n",
       "        vertical-align: top;\n",
       "    }\n",
       "\n",
       "    .dataframe thead th {\n",
       "        text-align: right;\n",
       "    }\n",
       "</style>\n",
       "<table border=\"1\" class=\"dataframe\">\n",
       "  <thead>\n",
       "    <tr style=\"text-align: right;\">\n",
       "      <th></th>\n",
       "      <th>Titles</th>\n",
       "      <th>Authors</th>\n",
       "      <th>Description</th>\n",
       "    </tr>\n",
       "  </thead>\n",
       "  <tbody>\n",
       "    <tr>\n",
       "      <th>0</th>\n",
       "      <td>THE WAGER</td>\n",
       "      <td>by David Grann</td>\n",
       "      <td>The survivors of a shipwrecked British vessel ...</td>\n",
       "    </tr>\n",
       "    <tr>\n",
       "      <th>1</th>\n",
       "      <td>OATH AND HONOR</td>\n",
       "      <td>by Liz Cheney</td>\n",
       "      <td>The former congresswoman from Wyoming recounts...</td>\n",
       "    </tr>\n",
       "    <tr>\n",
       "      <th>2</th>\n",
       "      <td>OUTLIVE</td>\n",
       "      <td>by Peter Attia with Bill Gifford</td>\n",
       "      <td>A look at recent scientific research on aging ...</td>\n",
       "    </tr>\n",
       "    <tr>\n",
       "      <th>3</th>\n",
       "      <td>THE WOMAN IN ME</td>\n",
       "      <td>by Britney Spears</td>\n",
       "      <td>The Grammy Award-winning pop star details her ...</td>\n",
       "    </tr>\n",
       "    <tr>\n",
       "      <th>4</th>\n",
       "      <td>THE KINGDOM, THE POWER, AND THE GLORY</td>\n",
       "      <td>by Tim Alberta</td>\n",
       "      <td>The author of “American Carnage” looks at divi...</td>\n",
       "    </tr>\n",
       "    <tr>\n",
       "      <th>5</th>\n",
       "      <td>FRIENDS, LOVERS, AND THE BIG TERRIBLE THING</td>\n",
       "      <td>by Matthew Perry</td>\n",
       "      <td>The late actor, known for playing Chandler Bin...</td>\n",
       "    </tr>\n",
       "    <tr>\n",
       "      <th>6</th>\n",
       "      <td>MADNESS</td>\n",
       "      <td>by Antonia Hylton</td>\n",
       "      <td>A Peabody and Emmy award-winning journalist un...</td>\n",
       "    </tr>\n",
       "    <tr>\n",
       "      <th>7</th>\n",
       "      <td>ELON MUSK</td>\n",
       "      <td>by Walter Isaacson</td>\n",
       "      <td>The author of “The Code Breaker” traces Musk’s...</td>\n",
       "    </tr>\n",
       "    <tr>\n",
       "      <th>8</th>\n",
       "      <td>READ WRITE OWN</td>\n",
       "      <td>by Chris Dixon</td>\n",
       "      <td>A technology entrepreneur describes three eras...</td>\n",
       "    </tr>\n",
       "    <tr>\n",
       "      <th>9</th>\n",
       "      <td>THE GRIFT</td>\n",
       "      <td>by Clay Cane</td>\n",
       "      <td>An overview of Black Republicanism from the ti...</td>\n",
       "    </tr>\n",
       "    <tr>\n",
       "      <th>10</th>\n",
       "      <td>THE IN-BETWEEN</td>\n",
       "      <td>by Hadley Vlahos</td>\n",
       "      <td>A hospice nurse shares some of her most impact...</td>\n",
       "    </tr>\n",
       "    <tr>\n",
       "      <th>11</th>\n",
       "      <td>FIND ME THE VOTES</td>\n",
       "      <td>by Michael Isikoff and Daniel Klaidman</td>\n",
       "      <td>An account of former President Trump’s attempt...</td>\n",
       "    </tr>\n",
       "    <tr>\n",
       "      <th>12</th>\n",
       "      <td>LEGACY</td>\n",
       "      <td>by Uché Blackstock</td>\n",
       "      <td>A Black physician details systemic barriers an...</td>\n",
       "    </tr>\n",
       "    <tr>\n",
       "      <th>13</th>\n",
       "      <td>I'M GLAD MY MOM DIED</td>\n",
       "      <td>by Jennette McCurdy</td>\n",
       "      <td>The actress and filmmaker describes her eating...</td>\n",
       "    </tr>\n",
       "    <tr>\n",
       "      <th>14</th>\n",
       "      <td>OUR HIDDEN CONVERSATIONS</td>\n",
       "      <td>by Michele Norris</td>\n",
       "      <td>Stories, essays and photographs exploring race...</td>\n",
       "    </tr>\n",
       "  </tbody>\n",
       "</table>\n",
       "</div>"
      ],
      "text/plain": [
       "                                         Titles  \\\n",
       "0                                     THE WAGER   \n",
       "1                                OATH AND HONOR   \n",
       "2                                       OUTLIVE   \n",
       "3                               THE WOMAN IN ME   \n",
       "4         THE KINGDOM, THE POWER, AND THE GLORY   \n",
       "5   FRIENDS, LOVERS, AND THE BIG TERRIBLE THING   \n",
       "6                                       MADNESS   \n",
       "7                                     ELON MUSK   \n",
       "8                                READ WRITE OWN   \n",
       "9                                     THE GRIFT   \n",
       "10                               THE IN-BETWEEN   \n",
       "11                            FIND ME THE VOTES   \n",
       "12                                       LEGACY   \n",
       "13                         I'M GLAD MY MOM DIED   \n",
       "14                     OUR HIDDEN CONVERSATIONS   \n",
       "\n",
       "                                   Authors  \\\n",
       "0                           by David Grann   \n",
       "1                            by Liz Cheney   \n",
       "2         by Peter Attia with Bill Gifford   \n",
       "3                        by Britney Spears   \n",
       "4                           by Tim Alberta   \n",
       "5                         by Matthew Perry   \n",
       "6                        by Antonia Hylton   \n",
       "7                       by Walter Isaacson   \n",
       "8                           by Chris Dixon   \n",
       "9                             by Clay Cane   \n",
       "10                        by Hadley Vlahos   \n",
       "11  by Michael Isikoff and Daniel Klaidman   \n",
       "12                      by Uché Blackstock   \n",
       "13                     by Jennette McCurdy   \n",
       "14                       by Michele Norris   \n",
       "\n",
       "                                          Description  \n",
       "0   The survivors of a shipwrecked British vessel ...  \n",
       "1   The former congresswoman from Wyoming recounts...  \n",
       "2   A look at recent scientific research on aging ...  \n",
       "3   The Grammy Award-winning pop star details her ...  \n",
       "4   The author of “American Carnage” looks at divi...  \n",
       "5   The late actor, known for playing Chandler Bin...  \n",
       "6   A Peabody and Emmy award-winning journalist un...  \n",
       "7   The author of “The Code Breaker” traces Musk’s...  \n",
       "8   A technology entrepreneur describes three eras...  \n",
       "9   An overview of Black Republicanism from the ti...  \n",
       "10  A hospice nurse shares some of her most impact...  \n",
       "11  An account of former President Trump’s attempt...  \n",
       "12  A Black physician details systemic barriers an...  \n",
       "13  The actress and filmmaker describes her eating...  \n",
       "14  Stories, essays and photographs exploring race...  "
      ]
     },
     "execution_count": 127,
     "metadata": {},
     "output_type": "execute_result"
    }
   ],
   "source": [
    "df_books = pd.DataFrame({\"Titles\":titles, \"Authors\":authors, \"Description\": description})"
   ]
  },
  {
   "cell_type": "code",
   "execution_count": 120,
   "id": "b2accaae",
   "metadata": {
    "collapsed": true,
    "jupyter": {
     "outputs_hidden": true
    }
   },
   "outputs": [
    {
     "data": {
      "text/html": [
       "<div>\n",
       "<style scoped>\n",
       "    .dataframe tbody tr th:only-of-type {\n",
       "        vertical-align: middle;\n",
       "    }\n",
       "\n",
       "    .dataframe tbody tr th {\n",
       "        vertical-align: top;\n",
       "    }\n",
       "\n",
       "    .dataframe thead th {\n",
       "        text-align: right;\n",
       "    }\n",
       "</style>\n",
       "<table border=\"1\" class=\"dataframe\">\n",
       "  <thead>\n",
       "    <tr style=\"text-align: right;\">\n",
       "      <th></th>\n",
       "      <th>Titles</th>\n",
       "      <th>Authors</th>\n",
       "      <th>Description</th>\n",
       "    </tr>\n",
       "  </thead>\n",
       "  <tbody>\n",
       "    <tr>\n",
       "      <th>0</th>\n",
       "      <td>The wager</td>\n",
       "      <td>By david grann</td>\n",
       "      <td>The survivors of a shipwrecked British vessel ...</td>\n",
       "    </tr>\n",
       "    <tr>\n",
       "      <th>1</th>\n",
       "      <td>Oath and honor</td>\n",
       "      <td>By liz cheney</td>\n",
       "      <td>The former congresswoman from Wyoming recounts...</td>\n",
       "    </tr>\n",
       "    <tr>\n",
       "      <th>2</th>\n",
       "      <td>Outlive</td>\n",
       "      <td>By peter attia with bill gifford</td>\n",
       "      <td>A look at recent scientific research on aging ...</td>\n",
       "    </tr>\n",
       "    <tr>\n",
       "      <th>3</th>\n",
       "      <td>The woman in me</td>\n",
       "      <td>By britney spears</td>\n",
       "      <td>The Grammy Award-winning pop star details her ...</td>\n",
       "    </tr>\n",
       "    <tr>\n",
       "      <th>4</th>\n",
       "      <td>The kingdom, the power, and the glory</td>\n",
       "      <td>By tim alberta</td>\n",
       "      <td>The author of “American Carnage” looks at divi...</td>\n",
       "    </tr>\n",
       "    <tr>\n",
       "      <th>5</th>\n",
       "      <td>Friends, lovers, and the big terrible thing</td>\n",
       "      <td>By matthew perry</td>\n",
       "      <td>The late actor, known for playing Chandler Bin...</td>\n",
       "    </tr>\n",
       "    <tr>\n",
       "      <th>6</th>\n",
       "      <td>Madness</td>\n",
       "      <td>By antonia hylton</td>\n",
       "      <td>A Peabody and Emmy award-winning journalist un...</td>\n",
       "    </tr>\n",
       "    <tr>\n",
       "      <th>7</th>\n",
       "      <td>Elon musk</td>\n",
       "      <td>By walter isaacson</td>\n",
       "      <td>The author of “The Code Breaker” traces Musk’s...</td>\n",
       "    </tr>\n",
       "    <tr>\n",
       "      <th>8</th>\n",
       "      <td>Read write own</td>\n",
       "      <td>By chris dixon</td>\n",
       "      <td>A technology entrepreneur describes three eras...</td>\n",
       "    </tr>\n",
       "    <tr>\n",
       "      <th>9</th>\n",
       "      <td>The grift</td>\n",
       "      <td>By clay cane</td>\n",
       "      <td>An overview of Black Republicanism from the ti...</td>\n",
       "    </tr>\n",
       "    <tr>\n",
       "      <th>10</th>\n",
       "      <td>The in-between</td>\n",
       "      <td>By hadley vlahos</td>\n",
       "      <td>A hospice nurse shares some of her most impact...</td>\n",
       "    </tr>\n",
       "    <tr>\n",
       "      <th>11</th>\n",
       "      <td>Find me the votes</td>\n",
       "      <td>By michael isikoff and daniel klaidman</td>\n",
       "      <td>An account of former President Trump’s attempt...</td>\n",
       "    </tr>\n",
       "    <tr>\n",
       "      <th>12</th>\n",
       "      <td>Legacy</td>\n",
       "      <td>By uché blackstock</td>\n",
       "      <td>A Black physician details systemic barriers an...</td>\n",
       "    </tr>\n",
       "    <tr>\n",
       "      <th>13</th>\n",
       "      <td>I'm glad my mom died</td>\n",
       "      <td>By jennette mccurdy</td>\n",
       "      <td>The actress and filmmaker describes her eating...</td>\n",
       "    </tr>\n",
       "    <tr>\n",
       "      <th>14</th>\n",
       "      <td>Our hidden conversations</td>\n",
       "      <td>By michele norris</td>\n",
       "      <td>Stories, essays and photographs exploring race...</td>\n",
       "    </tr>\n",
       "  </tbody>\n",
       "</table>\n",
       "</div>"
      ],
      "text/plain": [
       "                                         Titles  \\\n",
       "0                                     The wager   \n",
       "1                                Oath and honor   \n",
       "2                                       Outlive   \n",
       "3                               The woman in me   \n",
       "4         The kingdom, the power, and the glory   \n",
       "5   Friends, lovers, and the big terrible thing   \n",
       "6                                       Madness   \n",
       "7                                     Elon musk   \n",
       "8                                Read write own   \n",
       "9                                     The grift   \n",
       "10                               The in-between   \n",
       "11                            Find me the votes   \n",
       "12                                       Legacy   \n",
       "13                         I'm glad my mom died   \n",
       "14                     Our hidden conversations   \n",
       "\n",
       "                                   Authors  \\\n",
       "0                           By david grann   \n",
       "1                            By liz cheney   \n",
       "2         By peter attia with bill gifford   \n",
       "3                        By britney spears   \n",
       "4                           By tim alberta   \n",
       "5                         By matthew perry   \n",
       "6                        By antonia hylton   \n",
       "7                       By walter isaacson   \n",
       "8                           By chris dixon   \n",
       "9                             By clay cane   \n",
       "10                        By hadley vlahos   \n",
       "11  By michael isikoff and daniel klaidman   \n",
       "12                      By uché blackstock   \n",
       "13                     By jennette mccurdy   \n",
       "14                       By michele norris   \n",
       "\n",
       "                                          Description  \n",
       "0   The survivors of a shipwrecked British vessel ...  \n",
       "1   The former congresswoman from Wyoming recounts...  \n",
       "2   A look at recent scientific research on aging ...  \n",
       "3   The Grammy Award-winning pop star details her ...  \n",
       "4   The author of “American Carnage” looks at divi...  \n",
       "5   The late actor, known for playing Chandler Bin...  \n",
       "6   A Peabody and Emmy award-winning journalist un...  \n",
       "7   The author of “The Code Breaker” traces Musk’s...  \n",
       "8   A technology entrepreneur describes three eras...  \n",
       "9   An overview of Black Republicanism from the ti...  \n",
       "10  A hospice nurse shares some of her most impact...  \n",
       "11  An account of former President Trump’s attempt...  \n",
       "12  A Black physician details systemic barriers an...  \n",
       "13  The actress and filmmaker describes her eating...  \n",
       "14  Stories, essays and photographs exploring race...  "
      ]
     },
     "execution_count": 120,
     "metadata": {},
     "output_type": "execute_result"
    }
   ],
   "source": [
    "df_books['Titles'] = df_books['Titles'].str.lower().str.capitalize()"
   ]
  },
  {
   "cell_type": "code",
   "execution_count": 126,
   "id": "28ddcac3",
   "metadata": {
    "collapsed": true,
    "jupyter": {
     "outputs_hidden": true
    }
   },
   "outputs": [
    {
     "data": {
      "text/html": [
       "<div>\n",
       "<style scoped>\n",
       "    .dataframe tbody tr th:only-of-type {\n",
       "        vertical-align: middle;\n",
       "    }\n",
       "\n",
       "    .dataframe tbody tr th {\n",
       "        vertical-align: top;\n",
       "    }\n",
       "\n",
       "    .dataframe thead th {\n",
       "        text-align: right;\n",
       "    }\n",
       "</style>\n",
       "<table border=\"1\" class=\"dataframe\">\n",
       "  <thead>\n",
       "    <tr style=\"text-align: right;\">\n",
       "      <th></th>\n",
       "      <th>Titles</th>\n",
       "      <th>Authors</th>\n",
       "      <th>Description</th>\n",
       "    </tr>\n",
       "  </thead>\n",
       "  <tbody>\n",
       "    <tr>\n",
       "      <th>0</th>\n",
       "      <td>The wager</td>\n",
       "      <td>david grann</td>\n",
       "      <td>The survivors of a shipwrecked British vessel ...</td>\n",
       "    </tr>\n",
       "    <tr>\n",
       "      <th>1</th>\n",
       "      <td>Oath and honor</td>\n",
       "      <td>liz cheney</td>\n",
       "      <td>The former congresswoman from Wyoming recounts...</td>\n",
       "    </tr>\n",
       "    <tr>\n",
       "      <th>2</th>\n",
       "      <td>Outlive</td>\n",
       "      <td>peter attia with bill gifford</td>\n",
       "      <td>A look at recent scientific research on aging ...</td>\n",
       "    </tr>\n",
       "    <tr>\n",
       "      <th>3</th>\n",
       "      <td>The woman in me</td>\n",
       "      <td>britney spears</td>\n",
       "      <td>The Grammy Award-winning pop star details her ...</td>\n",
       "    </tr>\n",
       "    <tr>\n",
       "      <th>4</th>\n",
       "      <td>The kingdom, the power, and the glory</td>\n",
       "      <td>tim alberta</td>\n",
       "      <td>The author of “American Carnage” looks at divi...</td>\n",
       "    </tr>\n",
       "    <tr>\n",
       "      <th>5</th>\n",
       "      <td>Friends, lovers, and the big terrible thing</td>\n",
       "      <td>matthew perry</td>\n",
       "      <td>The late actor, known for playing Chandler Bin...</td>\n",
       "    </tr>\n",
       "    <tr>\n",
       "      <th>6</th>\n",
       "      <td>Madness</td>\n",
       "      <td>antonia hylton</td>\n",
       "      <td>A Peabody and Emmy award-winning journalist un...</td>\n",
       "    </tr>\n",
       "    <tr>\n",
       "      <th>7</th>\n",
       "      <td>Elon musk</td>\n",
       "      <td>walter isaacson</td>\n",
       "      <td>The author of “The Code Breaker” traces Musk’s...</td>\n",
       "    </tr>\n",
       "    <tr>\n",
       "      <th>8</th>\n",
       "      <td>Read write own</td>\n",
       "      <td>chris dixon</td>\n",
       "      <td>A technology entrepreneur describes three eras...</td>\n",
       "    </tr>\n",
       "    <tr>\n",
       "      <th>9</th>\n",
       "      <td>The grift</td>\n",
       "      <td>clay cane</td>\n",
       "      <td>An overview of Black Republicanism from the ti...</td>\n",
       "    </tr>\n",
       "    <tr>\n",
       "      <th>10</th>\n",
       "      <td>The in-between</td>\n",
       "      <td>hadley vlahos</td>\n",
       "      <td>A hospice nurse shares some of her most impact...</td>\n",
       "    </tr>\n",
       "    <tr>\n",
       "      <th>11</th>\n",
       "      <td>Find me the votes</td>\n",
       "      <td>michael isikoff and daniel klaidman</td>\n",
       "      <td>An account of former President Trump’s attempt...</td>\n",
       "    </tr>\n",
       "    <tr>\n",
       "      <th>12</th>\n",
       "      <td>Legacy</td>\n",
       "      <td>uché blackstock</td>\n",
       "      <td>A Black physician details systemic barriers an...</td>\n",
       "    </tr>\n",
       "    <tr>\n",
       "      <th>13</th>\n",
       "      <td>I'm glad my mom died</td>\n",
       "      <td>jennette mccurdy</td>\n",
       "      <td>The actress and filmmaker describes her eating...</td>\n",
       "    </tr>\n",
       "    <tr>\n",
       "      <th>14</th>\n",
       "      <td>Our hidden conversations</td>\n",
       "      <td>michele norris</td>\n",
       "      <td>Stories, essays and photographs exploring race...</td>\n",
       "    </tr>\n",
       "  </tbody>\n",
       "</table>\n",
       "</div>"
      ],
      "text/plain": [
       "                                         Titles  \\\n",
       "0                                     The wager   \n",
       "1                                Oath and honor   \n",
       "2                                       Outlive   \n",
       "3                               The woman in me   \n",
       "4         The kingdom, the power, and the glory   \n",
       "5   Friends, lovers, and the big terrible thing   \n",
       "6                                       Madness   \n",
       "7                                     Elon musk   \n",
       "8                                Read write own   \n",
       "9                                     The grift   \n",
       "10                               The in-between   \n",
       "11                            Find me the votes   \n",
       "12                                       Legacy   \n",
       "13                         I'm glad my mom died   \n",
       "14                     Our hidden conversations   \n",
       "\n",
       "                                 Authors  \\\n",
       "0                            david grann   \n",
       "1                             liz cheney   \n",
       "2          peter attia with bill gifford   \n",
       "3                         britney spears   \n",
       "4                            tim alberta   \n",
       "5                          matthew perry   \n",
       "6                         antonia hylton   \n",
       "7                        walter isaacson   \n",
       "8                            chris dixon   \n",
       "9                              clay cane   \n",
       "10                         hadley vlahos   \n",
       "11   michael isikoff and daniel klaidman   \n",
       "12                       uché blackstock   \n",
       "13                      jennette mccurdy   \n",
       "14                        michele norris   \n",
       "\n",
       "                                          Description  \n",
       "0   The survivors of a shipwrecked British vessel ...  \n",
       "1   The former congresswoman from Wyoming recounts...  \n",
       "2   A look at recent scientific research on aging ...  \n",
       "3   The Grammy Award-winning pop star details her ...  \n",
       "4   The author of “American Carnage” looks at divi...  \n",
       "5   The late actor, known for playing Chandler Bin...  \n",
       "6   A Peabody and Emmy award-winning journalist un...  \n",
       "7   The author of “The Code Breaker” traces Musk’s...  \n",
       "8   A technology entrepreneur describes three eras...  \n",
       "9   An overview of Black Republicanism from the ti...  \n",
       "10  A hospice nurse shares some of her most impact...  \n",
       "11  An account of former President Trump’s attempt...  \n",
       "12  A Black physician details systemic barriers an...  \n",
       "13  The actress and filmmaker describes her eating...  \n",
       "14  Stories, essays and photographs exploring race...  "
      ]
     },
     "execution_count": 126,
     "metadata": {},
     "output_type": "execute_result"
    }
   ],
   "source": [
    "df_books['Authors'] = df_books['Authors'].str.replace('By', '')"
   ]
  },
  {
   "cell_type": "code",
   "execution_count": null,
   "id": "335397d7",
   "metadata": {},
   "outputs": [],
   "source": [
    "df_books"
   ]
  },
  {
   "cell_type": "markdown",
   "id": "5ddd298d",
   "metadata": {},
   "source": [
    "### List of presidents of the United States"
   ]
  },
  {
   "cell_type": "code",
   "execution_count": 129,
   "id": "fc648f9e",
   "metadata": {},
   "outputs": [],
   "source": [
    "url = \"https://en.wikipedia.org/wiki/List_of_presidents_of_the_United_States\"\n",
    "response = requests.get(url)\n",
    "soup = BeautifulSoup(response.content)"
   ]
  },
  {
   "cell_type": "code",
   "execution_count": 130,
   "id": "014c4c24",
   "metadata": {},
   "outputs": [
    {
     "data": {
      "text/plain": [
       "200"
      ]
     },
     "execution_count": 130,
     "metadata": {},
     "output_type": "execute_result"
    }
   ],
   "source": [
    "response.status_code"
   ]
  },
  {
   "cell_type": "code",
   "execution_count": 138,
   "id": "96614b7c",
   "metadata": {},
   "outputs": [
    {
     "data": {
      "text/plain": [
       "'George Washington'"
      ]
     },
     "execution_count": 138,
     "metadata": {},
     "output_type": "execute_result"
    }
   ],
   "source": [
    "# accessing different elements td b a and then [0] take the first one with only text \n",
    "soup.select(\"td b a\")[0].get_text()"
   ]
  },
  {
   "cell_type": "code",
   "execution_count": 170,
   "id": "943af2ea",
   "metadata": {},
   "outputs": [
    {
     "data": {
      "text/plain": [
       "['/wiki/George_Washington',\n",
       " '/wiki/John_Adams',\n",
       " '/wiki/Thomas_Jefferson',\n",
       " '/wiki/James_Madison',\n",
       " '/wiki/James_Monroe',\n",
       " '/wiki/John_Quincy_Adams',\n",
       " '/wiki/Andrew_Jackson',\n",
       " '/wiki/Martin_Van_Buren',\n",
       " '/wiki/William_Henry_Harrison',\n",
       " '/wiki/John_Tyler',\n",
       " '/wiki/James_K._Polk',\n",
       " '/wiki/Zachary_Taylor',\n",
       " '/wiki/Millard_Fillmore',\n",
       " '/wiki/Franklin_Pierce',\n",
       " '/wiki/James_Buchanan',\n",
       " '/wiki/Abraham_Lincoln',\n",
       " '/wiki/Andrew_Johnson',\n",
       " '/wiki/Ulysses_S._Grant',\n",
       " '/wiki/Rutherford_B._Hayes',\n",
       " '/wiki/James_A._Garfield',\n",
       " '/wiki/Chester_A._Arthur',\n",
       " '/wiki/Grover_Cleveland',\n",
       " '/wiki/Benjamin_Harrison',\n",
       " '/wiki/Grover_Cleveland',\n",
       " '/wiki/William_McKinley',\n",
       " '/wiki/Theodore_Roosevelt',\n",
       " '/wiki/William_Howard_Taft',\n",
       " '/wiki/Woodrow_Wilson',\n",
       " '/wiki/Warren_G._Harding',\n",
       " '/wiki/Calvin_Coolidge',\n",
       " '/wiki/Herbert_Hoover',\n",
       " '/wiki/Franklin_D._Roosevelt',\n",
       " '/wiki/Harry_S._Truman',\n",
       " '/wiki/Dwight_D._Eisenhower',\n",
       " '/wiki/John_F._Kennedy',\n",
       " '/wiki/Lyndon_B._Johnson',\n",
       " '/wiki/Richard_Nixon',\n",
       " '/wiki/Gerald_Ford',\n",
       " '/wiki/Jimmy_Carter',\n",
       " '/wiki/Ronald_Reagan',\n",
       " '/wiki/George_H._W._Bush',\n",
       " '/wiki/Bill_Clinton',\n",
       " '/wiki/George_W._Bush',\n",
       " '/wiki/Barack_Obama',\n",
       " '/wiki/Donald_Trump',\n",
       " '/wiki/Joe_Biden']"
      ]
     },
     "execution_count": 170,
     "metadata": {},
     "output_type": "execute_result"
    }
   ],
   "source": [
    "presidents_href = []\n",
    "\n",
    "for href in soup.select(\"td b a\"):\n",
    "    presidents_href.append(href[\"href\"])\n",
    "\n",
    "presidents_href"
   ]
  },
  {
   "cell_type": "code",
   "execution_count": 147,
   "id": "64187f84",
   "metadata": {},
   "outputs": [
    {
     "data": {
      "text/plain": [
       "'https://en.wikipedia.org/wiki/Andrew_Jackson'"
      ]
     },
     "execution_count": 147,
     "metadata": {},
     "output_type": "execute_result"
    }
   ],
   "source": [
    "url_george"
   ]
  },
  {
   "cell_type": "code",
   "execution_count": null,
   "id": "ef30e2a7",
   "metadata": {},
   "outputs": [],
   "source": [
    "# -------------TASK -------------\n",
    "\n",
    "# create a dataframe of US presidents with columns:\n",
    "\n",
    "#    - name of president\n",
    "#    - political party\n",
    "#    - birth information\n",
    "#    - number of children\n",
    "#    - occupation"
   ]
  },
  {
   "cell_type": "code",
   "execution_count": 166,
   "id": "a863f7b6",
   "metadata": {
    "collapsed": true,
    "jupyter": {
     "outputs_hidden": true
    }
   },
   "outputs": [
    {
     "name": "stdout",
     "output_type": "stream",
     "text": [
      "<a href=\"/wiki/George_Washington\" title=\"George Washington\">George Washington</a>\n",
      "<a href=\"/wiki/John_Adams\" title=\"John Adams\">John Adams</a>\n",
      "<a href=\"/wiki/Thomas_Jefferson\" title=\"Thomas Jefferson\">Thomas Jefferson</a>\n",
      "<a href=\"/wiki/James_Madison\" title=\"James Madison\">James Madison</a>\n",
      "<a href=\"/wiki/James_Monroe\" title=\"James Monroe\">James Monroe</a>\n",
      "<a href=\"/wiki/John_Quincy_Adams\" title=\"John Quincy Adams\">John Quincy Adams</a>\n",
      "<a href=\"/wiki/Andrew_Jackson\" title=\"Andrew Jackson\">Andrew Jackson</a>\n",
      "<a href=\"/wiki/Martin_Van_Buren\" title=\"Martin Van Buren\">Martin Van Buren</a>\n",
      "<a href=\"/wiki/William_Henry_Harrison\" title=\"William Henry Harrison\">William Henry Harrison</a>\n",
      "<a href=\"/wiki/John_Tyler\" title=\"John Tyler\">John Tyler</a>\n",
      "<a href=\"/wiki/James_K._Polk\" title=\"James K. Polk\">James K. Polk</a>\n",
      "<a href=\"/wiki/Zachary_Taylor\" title=\"Zachary Taylor\">Zachary Taylor</a>\n",
      "<a href=\"/wiki/Millard_Fillmore\" title=\"Millard Fillmore\">Millard Fillmore</a>\n",
      "<a href=\"/wiki/Franklin_Pierce\" title=\"Franklin Pierce\">Franklin Pierce</a>\n",
      "<a href=\"/wiki/James_Buchanan\" title=\"James Buchanan\">James Buchanan</a>\n",
      "<a href=\"/wiki/Abraham_Lincoln\" title=\"Abraham Lincoln\">Abraham Lincoln</a>\n",
      "<a href=\"/wiki/Andrew_Johnson\" title=\"Andrew Johnson\">Andrew Johnson</a>\n",
      "<a href=\"/wiki/Ulysses_S._Grant\" title=\"Ulysses S. Grant\">Ulysses S. Grant</a>\n",
      "<a href=\"/wiki/Rutherford_B._Hayes\" title=\"Rutherford B. Hayes\">Rutherford B. Hayes</a>\n",
      "<a href=\"/wiki/James_A._Garfield\" title=\"James A. Garfield\">James A. Garfield</a>\n",
      "<a href=\"/wiki/Chester_A._Arthur\" title=\"Chester A. Arthur\">Chester A. Arthur</a>\n",
      "<a href=\"/wiki/Grover_Cleveland\" title=\"Grover Cleveland\">Grover Cleveland</a>\n",
      "<a href=\"/wiki/Benjamin_Harrison\" title=\"Benjamin Harrison\">Benjamin Harrison</a>\n",
      "<a href=\"/wiki/Grover_Cleveland\" title=\"Grover Cleveland\">Grover Cleveland</a>\n",
      "<a href=\"/wiki/William_McKinley\" title=\"William McKinley\">William McKinley</a>\n",
      "<a href=\"/wiki/Theodore_Roosevelt\" title=\"Theodore Roosevelt\">Theodore Roosevelt</a>\n",
      "<a href=\"/wiki/William_Howard_Taft\" title=\"William Howard Taft\">William Howard Taft</a>\n",
      "<a href=\"/wiki/Woodrow_Wilson\" title=\"Woodrow Wilson\">Woodrow Wilson</a>\n",
      "<a href=\"/wiki/Warren_G._Harding\" title=\"Warren G. Harding\">Warren G. Harding</a>\n",
      "<a href=\"/wiki/Calvin_Coolidge\" title=\"Calvin Coolidge\">Calvin Coolidge</a>\n",
      "<a href=\"/wiki/Herbert_Hoover\" title=\"Herbert Hoover\">Herbert Hoover</a>\n",
      "<a href=\"/wiki/Franklin_D._Roosevelt\" title=\"Franklin D. Roosevelt\">Franklin D. Roosevelt</a>\n",
      "<a href=\"/wiki/Harry_S._Truman\" title=\"Harry S. Truman\">Harry S. Truman</a>\n",
      "<a href=\"/wiki/Dwight_D._Eisenhower\" title=\"Dwight D. Eisenhower\">Dwight D. Eisenhower</a>\n",
      "<a href=\"/wiki/John_F._Kennedy\" title=\"John F. Kennedy\">John F. Kennedy</a>\n",
      "<a href=\"/wiki/Lyndon_B._Johnson\" title=\"Lyndon B. Johnson\">Lyndon B. Johnson</a>\n",
      "<a href=\"/wiki/Richard_Nixon\" title=\"Richard Nixon\">Richard Nixon</a>\n",
      "<a href=\"/wiki/Gerald_Ford\" title=\"Gerald Ford\">Gerald Ford</a>\n",
      "<a href=\"/wiki/Jimmy_Carter\" title=\"Jimmy Carter\">Jimmy Carter</a>\n",
      "<a href=\"/wiki/Ronald_Reagan\" title=\"Ronald Reagan\">Ronald Reagan</a>\n",
      "<a href=\"/wiki/George_H._W._Bush\" title=\"George H. W. Bush\">George H. W. Bush</a>\n",
      "<a href=\"/wiki/Bill_Clinton\" title=\"Bill Clinton\">Bill Clinton</a>\n",
      "<a href=\"/wiki/George_W._Bush\" title=\"George W. Bush\">George W. Bush</a>\n",
      "<a href=\"/wiki/Barack_Obama\" title=\"Barack Obama\">Barack Obama</a>\n",
      "<a href=\"/wiki/Donald_Trump\" title=\"Donald Trump\">Donald Trump</a>\n",
      "<a href=\"/wiki/Joe_Biden\" title=\"Joe Biden\">Joe Biden</a>\n"
     ]
    }
   ],
   "source": [
    "for item in soup.select(\"tr td.infobox-data a\"): #political party \n",
    "            political_party.append(item[\"href\"])"
   ]
  },
  {
   "cell_type": "code",
   "execution_count": 168,
   "id": "5a478d27",
   "metadata": {},
   "outputs": [
    {
     "ename": "TypeError",
     "evalue": "string indices must be integers, not 'str'",
     "output_type": "error",
     "traceback": [
      "\u001b[0;31m---------------------------------------------------------------------------\u001b[0m",
      "\u001b[0;31mTypeError\u001b[0m                                 Traceback (most recent call last)",
      "Cell \u001b[0;32mIn[168], line 10\u001b[0m\n\u001b[1;32m      4\u001b[0m occupation \u001b[38;5;241m=\u001b[39m []\n\u001b[1;32m      9\u001b[0m \u001b[38;5;28;01mfor\u001b[39;00m prez \u001b[38;5;129;01min\u001b[39;00m presidents_href:\n\u001b[0;32m---> 10\u001b[0m     url \u001b[38;5;241m=\u001b[39m \u001b[38;5;124m\"\u001b[39m\u001b[38;5;124mhttps://en.wikipedia.org\u001b[39m\u001b[38;5;124m\"\u001b[39m\u001b[38;5;241m+\u001b[39mprez[\u001b[38;5;124m\"\u001b[39m\u001b[38;5;124mhref\u001b[39m\u001b[38;5;124m\"\u001b[39m]\n\u001b[1;32m     11\u001b[0m     response \u001b[38;5;241m=\u001b[39m request\u001b[38;5;241m.\u001b[39mget(url)\n\u001b[1;32m     12\u001b[0m     soup \u001b[38;5;241m=\u001b[39m Beautiful_Soup(response\u001b[38;5;241m.\u001b[39mcontent)\n",
      "\u001b[0;31mTypeError\u001b[0m: string indices must be integers, not 'str'"
     ]
    }
   ],
   "source": [
    "name = []\n",
    "political_party = []\n",
    "children = []\n",
    "occupation = []\n",
    "\n",
    "for prez in presidents_href:\n",
    "    url = \"https://en.wikipedia.org\"+prez[\"href\"]\n",
    "    response = request.get(url)\n",
    "    soup = Beautiful_Soup(response.content)\n",
    "    \n",
    "    for item in soup.select(\"td b a\"): # names \n",
    "            name.append(item[\"href\"])\n",
    "            \n",
    "    for item in soup.find(\"th\", string = \"Political party\").parent.find(\"a\").get_text() #political party \n",
    "            political_party.append(item[\"href\"])\n",
    "            \n",
    "    for item soup.find(\"th\", string = \"Occupation\").parent.find(\"li\").get_text() # occupation\n",
    "            occupation.append(item[\"href\"])"
   ]
  },
  {
   "cell_type": "code",
   "execution_count": null,
   "id": "4838ed6d",
   "metadata": {},
   "outputs": [],
   "source": [
    "prez_dict = {\"name\":name,\"party\":political_party,\"children\":children}"
   ]
  },
  {
   "cell_type": "code",
   "execution_count": null,
   "id": "0c232f31",
   "metadata": {},
   "outputs": [],
   "source": [
    "soup.find(\"th\", string = \"Poli\")"
   ]
  },
  {
   "cell_type": "code",
   "execution_count": 174,
   "id": "63ed467d",
   "metadata": {},
   "outputs": [],
   "source": [
    "url = \"https://en.wikipedia.org/wiki/John_Adams\"\n",
    "\n",
    "response = requests.get(url)\n",
    "soup = BeautifulSoup(response.content)"
   ]
  },
  {
   "cell_type": "code",
   "execution_count": 176,
   "id": "c4e5f3e9",
   "metadata": {},
   "outputs": [
    {
     "data": {
      "text/plain": [
       "'Pro-Administration'"
      ]
     },
     "execution_count": 176,
     "metadata": {},
     "output_type": "execute_result"
    }
   ],
   "source": [
    "soup.find(\"th\", string = \"Political party\").parent.find(\"a\").get_text()"
   ]
  },
  {
   "cell_type": "code",
   "execution_count": 177,
   "id": "fd816dab",
   "metadata": {},
   "outputs": [
    {
     "data": {
      "text/plain": [
       "'Politician'"
      ]
     },
     "execution_count": 177,
     "metadata": {},
     "output_type": "execute_result"
    }
   ],
   "source": [
    "soup.find(\"th\", string = \"Occupation\").parent.find(\"li\").get_text()"
   ]
  },
  {
   "cell_type": "code",
   "execution_count": null,
   "id": "62eb41d1",
   "metadata": {},
   "outputs": [],
   "source": []
  }
 ],
 "metadata": {
  "kernelspec": {
   "display_name": "Python 3 (ipykernel)",
   "language": "python",
   "name": "python3"
  },
  "language_info": {
   "codemirror_mode": {
    "name": "ipython",
    "version": 3
   },
   "file_extension": ".py",
   "mimetype": "text/x-python",
   "name": "python",
   "nbconvert_exporter": "python",
   "pygments_lexer": "ipython3",
   "version": "3.11.5"
  }
 },
 "nbformat": 4,
 "nbformat_minor": 5
}
