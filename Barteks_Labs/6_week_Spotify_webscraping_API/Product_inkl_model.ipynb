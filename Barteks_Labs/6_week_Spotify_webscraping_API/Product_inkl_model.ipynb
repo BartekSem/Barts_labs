{
 "cells": [
  {
   "cell_type": "markdown",
   "id": "ea0d4d5b-6244-477b-9382-78a184a0bcaa",
   "metadata": {},
   "source": [
    "### PROCESS STEP BY STEP\n",
    "\n",
    "#### 1. CREATING THE MODEL\n",
    "\n",
    "1. select only numerical data from df incl. the id\n",
    "2. scale \n",
    "3. train \n",
    "4. save as pickle \n",
    "\n",
    "#### 2. USER INPUT\n",
    "1. ask for input\n",
    "2. ask for the audio features \n",
    "3. search for track id, with the id we get the audio features\n",
    "4. scale the audio features \n",
    "5. predict cluster with df from the song\n",
    "6. recommend random song from the cluster\n",
    "\n"
   ]
  },
  {
   "cell_type": "code",
   "execution_count": null,
   "id": "ac14372d-3711-443c-a8b1-bde7c3fee3a6",
   "metadata": {},
   "outputs": [],
   "source": []
  },
  {
   "cell_type": "code",
   "execution_count": null,
   "id": "e3dcdd7a-4533-4215-ba66-9cc98f5e9226",
   "metadata": {},
   "outputs": [],
   "source": []
  },
  {
   "cell_type": "code",
   "execution_count": null,
   "id": "b23bf779-fcfa-47f6-99cf-3074f6ccec94",
   "metadata": {},
   "outputs": [],
   "source": []
  },
  {
   "cell_type": "code",
   "execution_count": null,
   "id": "dedf50df-29d0-4972-836f-2adf4a4d98e7",
   "metadata": {},
   "outputs": [],
   "source": []
  },
  {
   "cell_type": "code",
   "execution_count": null,
   "id": "4b0fc343-f198-4528-9be7-4d8594245f5b",
   "metadata": {},
   "outputs": [],
   "source": []
  },
  {
   "cell_type": "code",
   "execution_count": null,
   "id": "04520372-6b59-4f98-bdaf-4c91be036e4f",
   "metadata": {},
   "outputs": [],
   "source": []
  },
  {
   "cell_type": "code",
   "execution_count": null,
   "id": "380549a9-317c-4c91-885f-ef46e596920f",
   "metadata": {},
   "outputs": [],
   "source": []
  },
  {
   "cell_type": "code",
   "execution_count": null,
   "id": "40406e2e-6a04-4abf-ab7a-75db18b26862",
   "metadata": {},
   "outputs": [],
   "source": []
  }
 ],
 "metadata": {
  "kernelspec": {
   "display_name": "Python 3 (ipykernel)",
   "language": "python",
   "name": "python3"
  },
  "language_info": {
   "codemirror_mode": {
    "name": "ipython",
    "version": 3
   },
   "file_extension": ".py",
   "mimetype": "text/x-python",
   "name": "python",
   "nbconvert_exporter": "python",
   "pygments_lexer": "ipython3",
   "version": "3.11.5"
  }
 },
 "nbformat": 4,
 "nbformat_minor": 5
}
