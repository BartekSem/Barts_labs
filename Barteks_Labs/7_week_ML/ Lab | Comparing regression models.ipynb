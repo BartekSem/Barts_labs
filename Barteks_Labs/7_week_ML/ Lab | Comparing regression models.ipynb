{
 "cells": [
  {
   "cell_type": "markdown",
   "id": "6b509d9c",
   "metadata": {},
   "source": [
    "## Lab Comparing Regression models"
   ]
  },
  {
   "cell_type": "code",
   "execution_count": 94,
   "id": "362657fa",
   "metadata": {
    "tags": []
   },
   "outputs": [],
   "source": [
    "import pandas as pd\n",
    "df = pd.read_csv(\"Data_Marketing_Customer_Analysis_Round3.csv\")"
   ]
  },
  {
   "cell_type": "markdown",
   "id": "d1c83967",
   "metadata": {},
   "source": [
    "### DATA WRANGLING"
   ]
  },
  {
   "cell_type": "code",
   "execution_count": null,
   "id": "e18bd51a",
   "metadata": {
    "tags": []
   },
   "outputs": [],
   "source": [
    "df = df.dropna()\n",
    "df = df.drop_duplicates()\n",
    "df.info()"
   ]
  },
  {
   "cell_type": "code",
   "execution_count": 140,
   "id": "8b75e5b3",
   "metadata": {
    "tags": []
   },
   "outputs": [],
   "source": [
    "from sklearn.preprocessing import MinMaxScaler, StandardScaler, PowerTransformer\n",
    "import numpy as np"
   ]
  },
  {
   "cell_type": "code",
   "execution_count": 141,
   "id": "26cb6e45",
   "metadata": {
    "scrolled": true,
    "tags": []
   },
   "outputs": [],
   "source": [
    "categoricals = df.select_dtypes(include=object)\n",
    "numericals = df.select_dtypes(include = np.number)"
   ]
  },
  {
   "cell_type": "code",
   "execution_count": 142,
   "id": "2070d3a6",
   "metadata": {
    "tags": []
   },
   "outputs": [],
   "source": [
    "ordinals = categoricals[[\"coverage\",\"education\",\"vehicle_size\"]]\n",
    "nominals = categoricals.drop(columns=[\"coverage\",\"education\",\"vehicle_size\",\"effective_to_date\"])"
   ]
  },
  {
   "cell_type": "code",
   "execution_count": 99,
   "id": "1c9c04c6",
   "metadata": {
    "tags": []
   },
   "outputs": [],
   "source": [
    "from sklearn.preprocessing import OrdinalEncoder"
   ]
  },
  {
   "cell_type": "code",
   "execution_count": 100,
   "id": "901638ea",
   "metadata": {
    "tags": []
   },
   "outputs": [
    {
     "data": {
      "text/plain": [
       "0           basic\n",
       "1           basic\n",
       "2           basic\n",
       "3        extended\n",
       "4         premium\n",
       "           ...   \n",
       "10684     premium\n",
       "10685       basic\n",
       "10686    extended\n",
       "10687     premium\n",
       "10688       basic\n",
       "Name: coverage, Length: 10497, dtype: object"
      ]
     },
     "execution_count": 100,
     "metadata": {},
     "output_type": "execute_result"
    }
   ],
   "source": [
    "ordinals[\"coverage\"]"
   ]
  },
  {
   "cell_type": "markdown",
   "id": "996b808e",
   "metadata": {},
   "source": [
    "### ENCODING"
   ]
  },
  {
   "cell_type": "markdown",
   "id": "9f6766a4",
   "metadata": {},
   "source": [
    "#### Ordinals with OrdinalEncoder"
   ]
  },
  {
   "cell_type": "code",
   "execution_count": 143,
   "id": "d9f40959",
   "metadata": {
    "tags": []
   },
   "outputs": [],
   "source": [
    "enc = OrdinalEncoder(categories=[[\"basic\",\"extended\",\"premium\"]])\n",
    "ordinals[\"coverage\"] = enc.fit_transform(ordinals[[\"coverage\"]])\n",
    "\n",
    "enc = OrdinalEncoder(categories=[[\"college\", \"bachelor\", \"high school or below\", \"doctor\", \"master\"]])\n",
    "ordinals[\"education\"] = enc.fit_transform(ordinals[[\"education\"]])\n",
    "\n",
    "enc = OrdinalEncoder(categories=[[\"medsize\", \"small\", \"large\"]])\n",
    "ordinals[\"vehicle_size\"] = enc.fit_transform(ordinals[[\"vehicle_size\"]])"
   ]
  },
  {
   "cell_type": "code",
   "execution_count": 102,
   "id": "6de6b82f",
   "metadata": {
    "tags": []
   },
   "outputs": [
    {
     "data": {
      "text/html": [
       "<div>\n",
       "<style scoped>\n",
       "    .dataframe tbody tr th:only-of-type {\n",
       "        vertical-align: middle;\n",
       "    }\n",
       "\n",
       "    .dataframe tbody tr th {\n",
       "        vertical-align: top;\n",
       "    }\n",
       "\n",
       "    .dataframe thead th {\n",
       "        text-align: right;\n",
       "    }\n",
       "</style>\n",
       "<table border=\"1\" class=\"dataframe\">\n",
       "  <thead>\n",
       "    <tr style=\"text-align: right;\">\n",
       "      <th></th>\n",
       "      <th>coverage</th>\n",
       "      <th>education</th>\n",
       "      <th>vehicle_size</th>\n",
       "    </tr>\n",
       "  </thead>\n",
       "  <tbody>\n",
       "    <tr>\n",
       "      <th>0</th>\n",
       "      <td>0.0</td>\n",
       "      <td>0.0</td>\n",
       "      <td>0.0</td>\n",
       "    </tr>\n",
       "    <tr>\n",
       "      <th>1</th>\n",
       "      <td>0.0</td>\n",
       "      <td>0.0</td>\n",
       "      <td>0.0</td>\n",
       "    </tr>\n",
       "    <tr>\n",
       "      <th>2</th>\n",
       "      <td>0.0</td>\n",
       "      <td>1.0</td>\n",
       "      <td>0.0</td>\n",
       "    </tr>\n",
       "    <tr>\n",
       "      <th>3</th>\n",
       "      <td>1.0</td>\n",
       "      <td>0.0</td>\n",
       "      <td>0.0</td>\n",
       "    </tr>\n",
       "    <tr>\n",
       "      <th>4</th>\n",
       "      <td>2.0</td>\n",
       "      <td>1.0</td>\n",
       "      <td>0.0</td>\n",
       "    </tr>\n",
       "    <tr>\n",
       "      <th>...</th>\n",
       "      <td>...</td>\n",
       "      <td>...</td>\n",
       "      <td>...</td>\n",
       "    </tr>\n",
       "    <tr>\n",
       "      <th>10684</th>\n",
       "      <td>2.0</td>\n",
       "      <td>1.0</td>\n",
       "      <td>0.0</td>\n",
       "    </tr>\n",
       "    <tr>\n",
       "      <th>10685</th>\n",
       "      <td>0.0</td>\n",
       "      <td>0.0</td>\n",
       "      <td>0.0</td>\n",
       "    </tr>\n",
       "    <tr>\n",
       "      <th>10686</th>\n",
       "      <td>1.0</td>\n",
       "      <td>1.0</td>\n",
       "      <td>0.0</td>\n",
       "    </tr>\n",
       "    <tr>\n",
       "      <th>10687</th>\n",
       "      <td>2.0</td>\n",
       "      <td>0.0</td>\n",
       "      <td>0.0</td>\n",
       "    </tr>\n",
       "    <tr>\n",
       "      <th>10688</th>\n",
       "      <td>0.0</td>\n",
       "      <td>1.0</td>\n",
       "      <td>0.0</td>\n",
       "    </tr>\n",
       "  </tbody>\n",
       "</table>\n",
       "<p>10497 rows × 3 columns</p>\n",
       "</div>"
      ],
      "text/plain": [
       "       coverage  education  vehicle_size\n",
       "0           0.0        0.0           0.0\n",
       "1           0.0        0.0           0.0\n",
       "2           0.0        1.0           0.0\n",
       "3           1.0        0.0           0.0\n",
       "4           2.0        1.0           0.0\n",
       "...         ...        ...           ...\n",
       "10684       2.0        1.0           0.0\n",
       "10685       0.0        0.0           0.0\n",
       "10686       1.0        1.0           0.0\n",
       "10687       2.0        0.0           0.0\n",
       "10688       0.0        1.0           0.0\n",
       "\n",
       "[10497 rows x 3 columns]"
      ]
     },
     "execution_count": 102,
     "metadata": {},
     "output_type": "execute_result"
    }
   ],
   "source": [
    "ordinals"
   ]
  },
  {
   "cell_type": "markdown",
   "id": "9b62684a",
   "metadata": {},
   "source": [
    "#### Nominals with get_dummies"
   ]
  },
  {
   "cell_type": "code",
   "execution_count": 144,
   "id": "ea31136d",
   "metadata": {
    "tags": []
   },
   "outputs": [],
   "source": [
    "nominals = pd.get_dummies(nominals, dtype=int)"
   ]
  },
  {
   "cell_type": "code",
   "execution_count": 104,
   "id": "755c5eb9",
   "metadata": {
    "tags": []
   },
   "outputs": [
    {
     "data": {
      "text/html": [
       "<div>\n",
       "<style scoped>\n",
       "    .dataframe tbody tr th:only-of-type {\n",
       "        vertical-align: middle;\n",
       "    }\n",
       "\n",
       "    .dataframe tbody tr th {\n",
       "        vertical-align: top;\n",
       "    }\n",
       "\n",
       "    .dataframe thead th {\n",
       "        text-align: right;\n",
       "    }\n",
       "</style>\n",
       "<table border=\"1\" class=\"dataframe\">\n",
       "  <thead>\n",
       "    <tr style=\"text-align: right;\">\n",
       "      <th></th>\n",
       "      <th>region_central</th>\n",
       "      <th>region_east</th>\n",
       "      <th>region_north west</th>\n",
       "      <th>region_west region</th>\n",
       "      <th>response_no</th>\n",
       "      <th>response_yes</th>\n",
       "      <th>month_feb</th>\n",
       "      <th>month_jan</th>\n",
       "      <th>employment_status_disabled</th>\n",
       "      <th>employment_status_employed</th>\n",
       "      <th>...</th>\n",
       "      <th>sales_channel_agent</th>\n",
       "      <th>sales_channel_branch</th>\n",
       "      <th>sales_channel_call center</th>\n",
       "      <th>sales_channel_web</th>\n",
       "      <th>vehicle_class_four-door car</th>\n",
       "      <th>vehicle_class_luxury car</th>\n",
       "      <th>vehicle_class_luxury suv</th>\n",
       "      <th>vehicle_class_sports car</th>\n",
       "      <th>vehicle_class_suv</th>\n",
       "      <th>vehicle_class_two-door car</th>\n",
       "    </tr>\n",
       "  </thead>\n",
       "  <tbody>\n",
       "    <tr>\n",
       "      <th>0</th>\n",
       "      <td>1</td>\n",
       "      <td>0</td>\n",
       "      <td>0</td>\n",
       "      <td>0</td>\n",
       "      <td>1</td>\n",
       "      <td>0</td>\n",
       "      <td>1</td>\n",
       "      <td>0</td>\n",
       "      <td>0</td>\n",
       "      <td>1</td>\n",
       "      <td>...</td>\n",
       "      <td>1</td>\n",
       "      <td>0</td>\n",
       "      <td>0</td>\n",
       "      <td>0</td>\n",
       "      <td>1</td>\n",
       "      <td>0</td>\n",
       "      <td>0</td>\n",
       "      <td>0</td>\n",
       "      <td>0</td>\n",
       "      <td>0</td>\n",
       "    </tr>\n",
       "    <tr>\n",
       "      <th>1</th>\n",
       "      <td>0</td>\n",
       "      <td>0</td>\n",
       "      <td>0</td>\n",
       "      <td>1</td>\n",
       "      <td>1</td>\n",
       "      <td>0</td>\n",
       "      <td>0</td>\n",
       "      <td>1</td>\n",
       "      <td>0</td>\n",
       "      <td>0</td>\n",
       "      <td>...</td>\n",
       "      <td>0</td>\n",
       "      <td>0</td>\n",
       "      <td>1</td>\n",
       "      <td>0</td>\n",
       "      <td>1</td>\n",
       "      <td>0</td>\n",
       "      <td>0</td>\n",
       "      <td>0</td>\n",
       "      <td>0</td>\n",
       "      <td>0</td>\n",
       "    </tr>\n",
       "    <tr>\n",
       "      <th>2</th>\n",
       "      <td>0</td>\n",
       "      <td>1</td>\n",
       "      <td>0</td>\n",
       "      <td>0</td>\n",
       "      <td>1</td>\n",
       "      <td>0</td>\n",
       "      <td>1</td>\n",
       "      <td>0</td>\n",
       "      <td>0</td>\n",
       "      <td>1</td>\n",
       "      <td>...</td>\n",
       "      <td>0</td>\n",
       "      <td>0</td>\n",
       "      <td>1</td>\n",
       "      <td>0</td>\n",
       "      <td>0</td>\n",
       "      <td>0</td>\n",
       "      <td>0</td>\n",
       "      <td>0</td>\n",
       "      <td>1</td>\n",
       "      <td>0</td>\n",
       "    </tr>\n",
       "    <tr>\n",
       "      <th>3</th>\n",
       "      <td>0</td>\n",
       "      <td>0</td>\n",
       "      <td>1</td>\n",
       "      <td>0</td>\n",
       "      <td>0</td>\n",
       "      <td>1</td>\n",
       "      <td>0</td>\n",
       "      <td>1</td>\n",
       "      <td>0</td>\n",
       "      <td>1</td>\n",
       "      <td>...</td>\n",
       "      <td>0</td>\n",
       "      <td>1</td>\n",
       "      <td>0</td>\n",
       "      <td>0</td>\n",
       "      <td>1</td>\n",
       "      <td>0</td>\n",
       "      <td>0</td>\n",
       "      <td>0</td>\n",
       "      <td>0</td>\n",
       "      <td>0</td>\n",
       "    </tr>\n",
       "    <tr>\n",
       "      <th>4</th>\n",
       "      <td>0</td>\n",
       "      <td>0</td>\n",
       "      <td>1</td>\n",
       "      <td>0</td>\n",
       "      <td>1</td>\n",
       "      <td>0</td>\n",
       "      <td>0</td>\n",
       "      <td>1</td>\n",
       "      <td>0</td>\n",
       "      <td>0</td>\n",
       "      <td>...</td>\n",
       "      <td>0</td>\n",
       "      <td>1</td>\n",
       "      <td>0</td>\n",
       "      <td>0</td>\n",
       "      <td>1</td>\n",
       "      <td>0</td>\n",
       "      <td>0</td>\n",
       "      <td>0</td>\n",
       "      <td>0</td>\n",
       "      <td>0</td>\n",
       "    </tr>\n",
       "    <tr>\n",
       "      <th>...</th>\n",
       "      <td>...</td>\n",
       "      <td>...</td>\n",
       "      <td>...</td>\n",
       "      <td>...</td>\n",
       "      <td>...</td>\n",
       "      <td>...</td>\n",
       "      <td>...</td>\n",
       "      <td>...</td>\n",
       "      <td>...</td>\n",
       "      <td>...</td>\n",
       "      <td>...</td>\n",
       "      <td>...</td>\n",
       "      <td>...</td>\n",
       "      <td>...</td>\n",
       "      <td>...</td>\n",
       "      <td>...</td>\n",
       "      <td>...</td>\n",
       "      <td>...</td>\n",
       "      <td>...</td>\n",
       "      <td>...</td>\n",
       "      <td>...</td>\n",
       "    </tr>\n",
       "    <tr>\n",
       "      <th>10684</th>\n",
       "      <td>1</td>\n",
       "      <td>0</td>\n",
       "      <td>0</td>\n",
       "      <td>0</td>\n",
       "      <td>1</td>\n",
       "      <td>0</td>\n",
       "      <td>0</td>\n",
       "      <td>1</td>\n",
       "      <td>0</td>\n",
       "      <td>0</td>\n",
       "      <td>...</td>\n",
       "      <td>0</td>\n",
       "      <td>0</td>\n",
       "      <td>0</td>\n",
       "      <td>1</td>\n",
       "      <td>0</td>\n",
       "      <td>1</td>\n",
       "      <td>0</td>\n",
       "      <td>0</td>\n",
       "      <td>0</td>\n",
       "      <td>0</td>\n",
       "    </tr>\n",
       "    <tr>\n",
       "      <th>10685</th>\n",
       "      <td>0</td>\n",
       "      <td>0</td>\n",
       "      <td>1</td>\n",
       "      <td>0</td>\n",
       "      <td>1</td>\n",
       "      <td>0</td>\n",
       "      <td>0</td>\n",
       "      <td>1</td>\n",
       "      <td>0</td>\n",
       "      <td>1</td>\n",
       "      <td>...</td>\n",
       "      <td>0</td>\n",
       "      <td>1</td>\n",
       "      <td>0</td>\n",
       "      <td>0</td>\n",
       "      <td>1</td>\n",
       "      <td>0</td>\n",
       "      <td>0</td>\n",
       "      <td>0</td>\n",
       "      <td>0</td>\n",
       "      <td>0</td>\n",
       "    </tr>\n",
       "    <tr>\n",
       "      <th>10686</th>\n",
       "      <td>1</td>\n",
       "      <td>0</td>\n",
       "      <td>0</td>\n",
       "      <td>0</td>\n",
       "      <td>1</td>\n",
       "      <td>0</td>\n",
       "      <td>1</td>\n",
       "      <td>0</td>\n",
       "      <td>0</td>\n",
       "      <td>1</td>\n",
       "      <td>...</td>\n",
       "      <td>0</td>\n",
       "      <td>0</td>\n",
       "      <td>0</td>\n",
       "      <td>1</td>\n",
       "      <td>0</td>\n",
       "      <td>0</td>\n",
       "      <td>1</td>\n",
       "      <td>0</td>\n",
       "      <td>0</td>\n",
       "      <td>0</td>\n",
       "    </tr>\n",
       "    <tr>\n",
       "      <th>10687</th>\n",
       "      <td>0</td>\n",
       "      <td>0</td>\n",
       "      <td>0</td>\n",
       "      <td>1</td>\n",
       "      <td>1</td>\n",
       "      <td>0</td>\n",
       "      <td>1</td>\n",
       "      <td>0</td>\n",
       "      <td>0</td>\n",
       "      <td>1</td>\n",
       "      <td>...</td>\n",
       "      <td>0</td>\n",
       "      <td>1</td>\n",
       "      <td>0</td>\n",
       "      <td>0</td>\n",
       "      <td>0</td>\n",
       "      <td>0</td>\n",
       "      <td>0</td>\n",
       "      <td>0</td>\n",
       "      <td>1</td>\n",
       "      <td>0</td>\n",
       "    </tr>\n",
       "    <tr>\n",
       "      <th>10688</th>\n",
       "      <td>1</td>\n",
       "      <td>0</td>\n",
       "      <td>0</td>\n",
       "      <td>0</td>\n",
       "      <td>1</td>\n",
       "      <td>0</td>\n",
       "      <td>0</td>\n",
       "      <td>1</td>\n",
       "      <td>0</td>\n",
       "      <td>0</td>\n",
       "      <td>...</td>\n",
       "      <td>0</td>\n",
       "      <td>0</td>\n",
       "      <td>0</td>\n",
       "      <td>1</td>\n",
       "      <td>0</td>\n",
       "      <td>0</td>\n",
       "      <td>0</td>\n",
       "      <td>0</td>\n",
       "      <td>1</td>\n",
       "      <td>0</td>\n",
       "    </tr>\n",
       "  </tbody>\n",
       "</table>\n",
       "<p>10497 rows × 47 columns</p>\n",
       "</div>"
      ],
      "text/plain": [
       "       region_central  region_east  region_north west  region_west region  \\\n",
       "0                   1            0                  0                   0   \n",
       "1                   0            0                  0                   1   \n",
       "2                   0            1                  0                   0   \n",
       "3                   0            0                  1                   0   \n",
       "4                   0            0                  1                   0   \n",
       "...               ...          ...                ...                 ...   \n",
       "10684               1            0                  0                   0   \n",
       "10685               0            0                  1                   0   \n",
       "10686               1            0                  0                   0   \n",
       "10687               0            0                  0                   1   \n",
       "10688               1            0                  0                   0   \n",
       "\n",
       "       response_no  response_yes  month_feb  month_jan  \\\n",
       "0                1             0          1          0   \n",
       "1                1             0          0          1   \n",
       "2                1             0          1          0   \n",
       "3                0             1          0          1   \n",
       "4                1             0          0          1   \n",
       "...            ...           ...        ...        ...   \n",
       "10684            1             0          0          1   \n",
       "10685            1             0          0          1   \n",
       "10686            1             0          1          0   \n",
       "10687            1             0          1          0   \n",
       "10688            1             0          0          1   \n",
       "\n",
       "       employment_status_disabled  employment_status_employed  ...  \\\n",
       "0                               0                           1  ...   \n",
       "1                               0                           0  ...   \n",
       "2                               0                           1  ...   \n",
       "3                               0                           1  ...   \n",
       "4                               0                           0  ...   \n",
       "...                           ...                         ...  ...   \n",
       "10684                           0                           0  ...   \n",
       "10685                           0                           1  ...   \n",
       "10686                           0                           1  ...   \n",
       "10687                           0                           1  ...   \n",
       "10688                           0                           0  ...   \n",
       "\n",
       "       sales_channel_agent  sales_channel_branch  sales_channel_call center  \\\n",
       "0                        1                     0                          0   \n",
       "1                        0                     0                          1   \n",
       "2                        0                     0                          1   \n",
       "3                        0                     1                          0   \n",
       "4                        0                     1                          0   \n",
       "...                    ...                   ...                        ...   \n",
       "10684                    0                     0                          0   \n",
       "10685                    0                     1                          0   \n",
       "10686                    0                     0                          0   \n",
       "10687                    0                     1                          0   \n",
       "10688                    0                     0                          0   \n",
       "\n",
       "       sales_channel_web  vehicle_class_four-door car  \\\n",
       "0                      0                            1   \n",
       "1                      0                            1   \n",
       "2                      0                            0   \n",
       "3                      0                            1   \n",
       "4                      0                            1   \n",
       "...                  ...                          ...   \n",
       "10684                  1                            0   \n",
       "10685                  0                            1   \n",
       "10686                  1                            0   \n",
       "10687                  0                            0   \n",
       "10688                  1                            0   \n",
       "\n",
       "       vehicle_class_luxury car  vehicle_class_luxury suv  \\\n",
       "0                             0                         0   \n",
       "1                             0                         0   \n",
       "2                             0                         0   \n",
       "3                             0                         0   \n",
       "4                             0                         0   \n",
       "...                         ...                       ...   \n",
       "10684                         1                         0   \n",
       "10685                         0                         0   \n",
       "10686                         0                         1   \n",
       "10687                         0                         0   \n",
       "10688                         0                         0   \n",
       "\n",
       "       vehicle_class_sports car  vehicle_class_suv  vehicle_class_two-door car  \n",
       "0                             0                  0                           0  \n",
       "1                             0                  0                           0  \n",
       "2                             0                  1                           0  \n",
       "3                             0                  0                           0  \n",
       "4                             0                  0                           0  \n",
       "...                         ...                ...                         ...  \n",
       "10684                         0                  0                           0  \n",
       "10685                         0                  0                           0  \n",
       "10686                         0                  0                           0  \n",
       "10687                         0                  1                           0  \n",
       "10688                         0                  1                           0  \n",
       "\n",
       "[10497 rows x 47 columns]"
      ]
     },
     "execution_count": 104,
     "metadata": {},
     "output_type": "execute_result"
    }
   ],
   "source": [
    "nominals"
   ]
  },
  {
   "cell_type": "code",
   "execution_count": 145,
   "id": "56cbe9be",
   "metadata": {
    "tags": []
   },
   "outputs": [],
   "source": [
    "categorical_coded = pd.concat([ordinals,nominals], axis=1) \n",
    "# concatinating with pd.concat along the axis 1 (addting columns)"
   ]
  },
  {
   "cell_type": "code",
   "execution_count": 106,
   "id": "5d208789",
   "metadata": {
    "tags": []
   },
   "outputs": [
    {
     "data": {
      "text/html": [
       "<div>\n",
       "<style scoped>\n",
       "    .dataframe tbody tr th:only-of-type {\n",
       "        vertical-align: middle;\n",
       "    }\n",
       "\n",
       "    .dataframe tbody tr th {\n",
       "        vertical-align: top;\n",
       "    }\n",
       "\n",
       "    .dataframe thead th {\n",
       "        text-align: right;\n",
       "    }\n",
       "</style>\n",
       "<table border=\"1\" class=\"dataframe\">\n",
       "  <thead>\n",
       "    <tr style=\"text-align: right;\">\n",
       "      <th></th>\n",
       "      <th>coverage</th>\n",
       "      <th>education</th>\n",
       "      <th>vehicle_size</th>\n",
       "      <th>region_central</th>\n",
       "      <th>region_east</th>\n",
       "      <th>region_north west</th>\n",
       "      <th>region_west region</th>\n",
       "      <th>response_no</th>\n",
       "      <th>response_yes</th>\n",
       "      <th>month_feb</th>\n",
       "      <th>...</th>\n",
       "      <th>sales_channel_agent</th>\n",
       "      <th>sales_channel_branch</th>\n",
       "      <th>sales_channel_call center</th>\n",
       "      <th>sales_channel_web</th>\n",
       "      <th>vehicle_class_four-door car</th>\n",
       "      <th>vehicle_class_luxury car</th>\n",
       "      <th>vehicle_class_luxury suv</th>\n",
       "      <th>vehicle_class_sports car</th>\n",
       "      <th>vehicle_class_suv</th>\n",
       "      <th>vehicle_class_two-door car</th>\n",
       "    </tr>\n",
       "  </thead>\n",
       "  <tbody>\n",
       "    <tr>\n",
       "      <th>0</th>\n",
       "      <td>0.0</td>\n",
       "      <td>0.0</td>\n",
       "      <td>0.0</td>\n",
       "      <td>1</td>\n",
       "      <td>0</td>\n",
       "      <td>0</td>\n",
       "      <td>0</td>\n",
       "      <td>1</td>\n",
       "      <td>0</td>\n",
       "      <td>1</td>\n",
       "      <td>...</td>\n",
       "      <td>1</td>\n",
       "      <td>0</td>\n",
       "      <td>0</td>\n",
       "      <td>0</td>\n",
       "      <td>1</td>\n",
       "      <td>0</td>\n",
       "      <td>0</td>\n",
       "      <td>0</td>\n",
       "      <td>0</td>\n",
       "      <td>0</td>\n",
       "    </tr>\n",
       "    <tr>\n",
       "      <th>1</th>\n",
       "      <td>0.0</td>\n",
       "      <td>0.0</td>\n",
       "      <td>0.0</td>\n",
       "      <td>0</td>\n",
       "      <td>0</td>\n",
       "      <td>0</td>\n",
       "      <td>1</td>\n",
       "      <td>1</td>\n",
       "      <td>0</td>\n",
       "      <td>0</td>\n",
       "      <td>...</td>\n",
       "      <td>0</td>\n",
       "      <td>0</td>\n",
       "      <td>1</td>\n",
       "      <td>0</td>\n",
       "      <td>1</td>\n",
       "      <td>0</td>\n",
       "      <td>0</td>\n",
       "      <td>0</td>\n",
       "      <td>0</td>\n",
       "      <td>0</td>\n",
       "    </tr>\n",
       "    <tr>\n",
       "      <th>2</th>\n",
       "      <td>0.0</td>\n",
       "      <td>1.0</td>\n",
       "      <td>0.0</td>\n",
       "      <td>0</td>\n",
       "      <td>1</td>\n",
       "      <td>0</td>\n",
       "      <td>0</td>\n",
       "      <td>1</td>\n",
       "      <td>0</td>\n",
       "      <td>1</td>\n",
       "      <td>...</td>\n",
       "      <td>0</td>\n",
       "      <td>0</td>\n",
       "      <td>1</td>\n",
       "      <td>0</td>\n",
       "      <td>0</td>\n",
       "      <td>0</td>\n",
       "      <td>0</td>\n",
       "      <td>0</td>\n",
       "      <td>1</td>\n",
       "      <td>0</td>\n",
       "    </tr>\n",
       "    <tr>\n",
       "      <th>3</th>\n",
       "      <td>1.0</td>\n",
       "      <td>0.0</td>\n",
       "      <td>0.0</td>\n",
       "      <td>0</td>\n",
       "      <td>0</td>\n",
       "      <td>1</td>\n",
       "      <td>0</td>\n",
       "      <td>0</td>\n",
       "      <td>1</td>\n",
       "      <td>0</td>\n",
       "      <td>...</td>\n",
       "      <td>0</td>\n",
       "      <td>1</td>\n",
       "      <td>0</td>\n",
       "      <td>0</td>\n",
       "      <td>1</td>\n",
       "      <td>0</td>\n",
       "      <td>0</td>\n",
       "      <td>0</td>\n",
       "      <td>0</td>\n",
       "      <td>0</td>\n",
       "    </tr>\n",
       "    <tr>\n",
       "      <th>4</th>\n",
       "      <td>2.0</td>\n",
       "      <td>1.0</td>\n",
       "      <td>0.0</td>\n",
       "      <td>0</td>\n",
       "      <td>0</td>\n",
       "      <td>1</td>\n",
       "      <td>0</td>\n",
       "      <td>1</td>\n",
       "      <td>0</td>\n",
       "      <td>0</td>\n",
       "      <td>...</td>\n",
       "      <td>0</td>\n",
       "      <td>1</td>\n",
       "      <td>0</td>\n",
       "      <td>0</td>\n",
       "      <td>1</td>\n",
       "      <td>0</td>\n",
       "      <td>0</td>\n",
       "      <td>0</td>\n",
       "      <td>0</td>\n",
       "      <td>0</td>\n",
       "    </tr>\n",
       "    <tr>\n",
       "      <th>...</th>\n",
       "      <td>...</td>\n",
       "      <td>...</td>\n",
       "      <td>...</td>\n",
       "      <td>...</td>\n",
       "      <td>...</td>\n",
       "      <td>...</td>\n",
       "      <td>...</td>\n",
       "      <td>...</td>\n",
       "      <td>...</td>\n",
       "      <td>...</td>\n",
       "      <td>...</td>\n",
       "      <td>...</td>\n",
       "      <td>...</td>\n",
       "      <td>...</td>\n",
       "      <td>...</td>\n",
       "      <td>...</td>\n",
       "      <td>...</td>\n",
       "      <td>...</td>\n",
       "      <td>...</td>\n",
       "      <td>...</td>\n",
       "      <td>...</td>\n",
       "    </tr>\n",
       "    <tr>\n",
       "      <th>10684</th>\n",
       "      <td>2.0</td>\n",
       "      <td>1.0</td>\n",
       "      <td>0.0</td>\n",
       "      <td>1</td>\n",
       "      <td>0</td>\n",
       "      <td>0</td>\n",
       "      <td>0</td>\n",
       "      <td>1</td>\n",
       "      <td>0</td>\n",
       "      <td>0</td>\n",
       "      <td>...</td>\n",
       "      <td>0</td>\n",
       "      <td>0</td>\n",
       "      <td>0</td>\n",
       "      <td>1</td>\n",
       "      <td>0</td>\n",
       "      <td>1</td>\n",
       "      <td>0</td>\n",
       "      <td>0</td>\n",
       "      <td>0</td>\n",
       "      <td>0</td>\n",
       "    </tr>\n",
       "    <tr>\n",
       "      <th>10685</th>\n",
       "      <td>0.0</td>\n",
       "      <td>0.0</td>\n",
       "      <td>0.0</td>\n",
       "      <td>0</td>\n",
       "      <td>0</td>\n",
       "      <td>1</td>\n",
       "      <td>0</td>\n",
       "      <td>1</td>\n",
       "      <td>0</td>\n",
       "      <td>0</td>\n",
       "      <td>...</td>\n",
       "      <td>0</td>\n",
       "      <td>1</td>\n",
       "      <td>0</td>\n",
       "      <td>0</td>\n",
       "      <td>1</td>\n",
       "      <td>0</td>\n",
       "      <td>0</td>\n",
       "      <td>0</td>\n",
       "      <td>0</td>\n",
       "      <td>0</td>\n",
       "    </tr>\n",
       "    <tr>\n",
       "      <th>10686</th>\n",
       "      <td>1.0</td>\n",
       "      <td>1.0</td>\n",
       "      <td>0.0</td>\n",
       "      <td>1</td>\n",
       "      <td>0</td>\n",
       "      <td>0</td>\n",
       "      <td>0</td>\n",
       "      <td>1</td>\n",
       "      <td>0</td>\n",
       "      <td>1</td>\n",
       "      <td>...</td>\n",
       "      <td>0</td>\n",
       "      <td>0</td>\n",
       "      <td>0</td>\n",
       "      <td>1</td>\n",
       "      <td>0</td>\n",
       "      <td>0</td>\n",
       "      <td>1</td>\n",
       "      <td>0</td>\n",
       "      <td>0</td>\n",
       "      <td>0</td>\n",
       "    </tr>\n",
       "    <tr>\n",
       "      <th>10687</th>\n",
       "      <td>2.0</td>\n",
       "      <td>0.0</td>\n",
       "      <td>0.0</td>\n",
       "      <td>0</td>\n",
       "      <td>0</td>\n",
       "      <td>0</td>\n",
       "      <td>1</td>\n",
       "      <td>1</td>\n",
       "      <td>0</td>\n",
       "      <td>1</td>\n",
       "      <td>...</td>\n",
       "      <td>0</td>\n",
       "      <td>1</td>\n",
       "      <td>0</td>\n",
       "      <td>0</td>\n",
       "      <td>0</td>\n",
       "      <td>0</td>\n",
       "      <td>0</td>\n",
       "      <td>0</td>\n",
       "      <td>1</td>\n",
       "      <td>0</td>\n",
       "    </tr>\n",
       "    <tr>\n",
       "      <th>10688</th>\n",
       "      <td>0.0</td>\n",
       "      <td>1.0</td>\n",
       "      <td>0.0</td>\n",
       "      <td>1</td>\n",
       "      <td>0</td>\n",
       "      <td>0</td>\n",
       "      <td>0</td>\n",
       "      <td>1</td>\n",
       "      <td>0</td>\n",
       "      <td>0</td>\n",
       "      <td>...</td>\n",
       "      <td>0</td>\n",
       "      <td>0</td>\n",
       "      <td>0</td>\n",
       "      <td>1</td>\n",
       "      <td>0</td>\n",
       "      <td>0</td>\n",
       "      <td>0</td>\n",
       "      <td>0</td>\n",
       "      <td>1</td>\n",
       "      <td>0</td>\n",
       "    </tr>\n",
       "  </tbody>\n",
       "</table>\n",
       "<p>10497 rows × 50 columns</p>\n",
       "</div>"
      ],
      "text/plain": [
       "       coverage  education  vehicle_size  region_central  region_east  \\\n",
       "0           0.0        0.0           0.0               1            0   \n",
       "1           0.0        0.0           0.0               0            0   \n",
       "2           0.0        1.0           0.0               0            1   \n",
       "3           1.0        0.0           0.0               0            0   \n",
       "4           2.0        1.0           0.0               0            0   \n",
       "...         ...        ...           ...             ...          ...   \n",
       "10684       2.0        1.0           0.0               1            0   \n",
       "10685       0.0        0.0           0.0               0            0   \n",
       "10686       1.0        1.0           0.0               1            0   \n",
       "10687       2.0        0.0           0.0               0            0   \n",
       "10688       0.0        1.0           0.0               1            0   \n",
       "\n",
       "       region_north west  region_west region  response_no  response_yes  \\\n",
       "0                      0                   0            1             0   \n",
       "1                      0                   1            1             0   \n",
       "2                      0                   0            1             0   \n",
       "3                      1                   0            0             1   \n",
       "4                      1                   0            1             0   \n",
       "...                  ...                 ...          ...           ...   \n",
       "10684                  0                   0            1             0   \n",
       "10685                  1                   0            1             0   \n",
       "10686                  0                   0            1             0   \n",
       "10687                  0                   1            1             0   \n",
       "10688                  0                   0            1             0   \n",
       "\n",
       "       month_feb  ...  sales_channel_agent  sales_channel_branch  \\\n",
       "0              1  ...                    1                     0   \n",
       "1              0  ...                    0                     0   \n",
       "2              1  ...                    0                     0   \n",
       "3              0  ...                    0                     1   \n",
       "4              0  ...                    0                     1   \n",
       "...          ...  ...                  ...                   ...   \n",
       "10684          0  ...                    0                     0   \n",
       "10685          0  ...                    0                     1   \n",
       "10686          1  ...                    0                     0   \n",
       "10687          1  ...                    0                     1   \n",
       "10688          0  ...                    0                     0   \n",
       "\n",
       "       sales_channel_call center  sales_channel_web  \\\n",
       "0                              0                  0   \n",
       "1                              1                  0   \n",
       "2                              1                  0   \n",
       "3                              0                  0   \n",
       "4                              0                  0   \n",
       "...                          ...                ...   \n",
       "10684                          0                  1   \n",
       "10685                          0                  0   \n",
       "10686                          0                  1   \n",
       "10687                          0                  0   \n",
       "10688                          0                  1   \n",
       "\n",
       "       vehicle_class_four-door car  vehicle_class_luxury car  \\\n",
       "0                                1                         0   \n",
       "1                                1                         0   \n",
       "2                                0                         0   \n",
       "3                                1                         0   \n",
       "4                                1                         0   \n",
       "...                            ...                       ...   \n",
       "10684                            0                         1   \n",
       "10685                            1                         0   \n",
       "10686                            0                         0   \n",
       "10687                            0                         0   \n",
       "10688                            0                         0   \n",
       "\n",
       "       vehicle_class_luxury suv  vehicle_class_sports car  vehicle_class_suv  \\\n",
       "0                             0                         0                  0   \n",
       "1                             0                         0                  0   \n",
       "2                             0                         0                  1   \n",
       "3                             0                         0                  0   \n",
       "4                             0                         0                  0   \n",
       "...                         ...                       ...                ...   \n",
       "10684                         0                         0                  0   \n",
       "10685                         0                         0                  0   \n",
       "10686                         1                         0                  0   \n",
       "10687                         0                         0                  1   \n",
       "10688                         0                         0                  1   \n",
       "\n",
       "       vehicle_class_two-door car  \n",
       "0                               0  \n",
       "1                               0  \n",
       "2                               0  \n",
       "3                               0  \n",
       "4                               0  \n",
       "...                           ...  \n",
       "10684                           0  \n",
       "10685                           0  \n",
       "10686                           0  \n",
       "10687                           0  \n",
       "10688                           0  \n",
       "\n",
       "[10497 rows x 50 columns]"
      ]
     },
     "execution_count": 106,
     "metadata": {},
     "output_type": "execute_result"
    }
   ],
   "source": [
    "categorical_coded"
   ]
  },
  {
   "cell_type": "code",
   "execution_count": 146,
   "id": "5743acdd",
   "metadata": {
    "tags": []
   },
   "outputs": [],
   "source": [
    "final_df = pd.concat([numericals,categorical_coded], axis=1)\n"
   ]
  },
  {
   "cell_type": "code",
   "execution_count": null,
   "id": "85547b40",
   "metadata": {
    "tags": []
   },
   "outputs": [],
   "source": [
    "final_df.isnull().sum() # checking for nulls"
   ]
  },
  {
   "cell_type": "markdown",
   "id": "59a6b9bb",
   "metadata": {},
   "source": [
    "### SPLIT"
   ]
  },
  {
   "cell_type": "code",
   "execution_count": 148,
   "id": "197b7de6",
   "metadata": {
    "tags": []
   },
   "outputs": [],
   "source": [
    "X = final_df.drop(columns = [\"total_claim_amount\"]) # everything but y variable\n",
    "y = final_df[[\"total_claim_amount\"]]\n",
    "\n",
    "from sklearn.model_selection import train_test_split\n",
    "\n",
    "X_train, X_test, y_train, y_test = train_test_split(X,y,random_state = 100)"
   ]
  },
  {
   "cell_type": "code",
   "execution_count": 151,
   "id": "162594bc-22f7-4883-8a42-f5abd02de7e4",
   "metadata": {
    "tags": []
   },
   "outputs": [
    {
     "data": {
      "text/html": [
       "<div>\n",
       "<style scoped>\n",
       "    .dataframe tbody tr th:only-of-type {\n",
       "        vertical-align: middle;\n",
       "    }\n",
       "\n",
       "    .dataframe tbody tr th {\n",
       "        vertical-align: top;\n",
       "    }\n",
       "\n",
       "    .dataframe thead th {\n",
       "        text-align: right;\n",
       "    }\n",
       "</style>\n",
       "<table border=\"1\" class=\"dataframe\">\n",
       "  <thead>\n",
       "    <tr style=\"text-align: right;\">\n",
       "      <th></th>\n",
       "      <th>customer_lifetime_value</th>\n",
       "      <th>income</th>\n",
       "      <th>monthly_premium_auto</th>\n",
       "      <th>months_since_last_claim</th>\n",
       "      <th>months_since_policy_inception</th>\n",
       "      <th>number_of_open_complaints</th>\n",
       "      <th>number_of_policies</th>\n",
       "      <th>coverage</th>\n",
       "      <th>education</th>\n",
       "      <th>vehicle_size</th>\n",
       "      <th>...</th>\n",
       "      <th>sales_channel_agent</th>\n",
       "      <th>sales_channel_branch</th>\n",
       "      <th>sales_channel_call center</th>\n",
       "      <th>sales_channel_web</th>\n",
       "      <th>vehicle_class_four-door car</th>\n",
       "      <th>vehicle_class_luxury car</th>\n",
       "      <th>vehicle_class_luxury suv</th>\n",
       "      <th>vehicle_class_sports car</th>\n",
       "      <th>vehicle_class_suv</th>\n",
       "      <th>vehicle_class_two-door car</th>\n",
       "    </tr>\n",
       "  </thead>\n",
       "  <tbody>\n",
       "    <tr>\n",
       "      <th>4488</th>\n",
       "      <td>9435</td>\n",
       "      <td>32470</td>\n",
       "      <td>129</td>\n",
       "      <td>13</td>\n",
       "      <td>19</td>\n",
       "      <td>0</td>\n",
       "      <td>8</td>\n",
       "      <td>1.0</td>\n",
       "      <td>1.0</td>\n",
       "      <td>2.0</td>\n",
       "      <td>...</td>\n",
       "      <td>0</td>\n",
       "      <td>0</td>\n",
       "      <td>1</td>\n",
       "      <td>0</td>\n",
       "      <td>0</td>\n",
       "      <td>0</td>\n",
       "      <td>0</td>\n",
       "      <td>0</td>\n",
       "      <td>1</td>\n",
       "      <td>0</td>\n",
       "    </tr>\n",
       "    <tr>\n",
       "      <th>3591</th>\n",
       "      <td>6165</td>\n",
       "      <td>60884</td>\n",
       "      <td>77</td>\n",
       "      <td>10</td>\n",
       "      <td>56</td>\n",
       "      <td>0</td>\n",
       "      <td>4</td>\n",
       "      <td>1.0</td>\n",
       "      <td>2.0</td>\n",
       "      <td>1.0</td>\n",
       "      <td>...</td>\n",
       "      <td>0</td>\n",
       "      <td>1</td>\n",
       "      <td>0</td>\n",
       "      <td>0</td>\n",
       "      <td>1</td>\n",
       "      <td>0</td>\n",
       "      <td>0</td>\n",
       "      <td>0</td>\n",
       "      <td>0</td>\n",
       "      <td>0</td>\n",
       "    </tr>\n",
       "    <tr>\n",
       "      <th>4089</th>\n",
       "      <td>4472</td>\n",
       "      <td>53519</td>\n",
       "      <td>111</td>\n",
       "      <td>7</td>\n",
       "      <td>37</td>\n",
       "      <td>0</td>\n",
       "      <td>1</td>\n",
       "      <td>0.0</td>\n",
       "      <td>3.0</td>\n",
       "      <td>0.0</td>\n",
       "      <td>...</td>\n",
       "      <td>0</td>\n",
       "      <td>0</td>\n",
       "      <td>1</td>\n",
       "      <td>0</td>\n",
       "      <td>0</td>\n",
       "      <td>0</td>\n",
       "      <td>0</td>\n",
       "      <td>0</td>\n",
       "      <td>1</td>\n",
       "      <td>0</td>\n",
       "    </tr>\n",
       "    <tr>\n",
       "      <th>921</th>\n",
       "      <td>13450</td>\n",
       "      <td>71794</td>\n",
       "      <td>126</td>\n",
       "      <td>28</td>\n",
       "      <td>80</td>\n",
       "      <td>0</td>\n",
       "      <td>2</td>\n",
       "      <td>1.0</td>\n",
       "      <td>2.0</td>\n",
       "      <td>0.0</td>\n",
       "      <td>...</td>\n",
       "      <td>1</td>\n",
       "      <td>0</td>\n",
       "      <td>0</td>\n",
       "      <td>0</td>\n",
       "      <td>0</td>\n",
       "      <td>0</td>\n",
       "      <td>0</td>\n",
       "      <td>0</td>\n",
       "      <td>1</td>\n",
       "      <td>0</td>\n",
       "    </tr>\n",
       "    <tr>\n",
       "      <th>8497</th>\n",
       "      <td>3443</td>\n",
       "      <td>16208</td>\n",
       "      <td>93</td>\n",
       "      <td>22</td>\n",
       "      <td>20</td>\n",
       "      <td>0</td>\n",
       "      <td>1</td>\n",
       "      <td>1.0</td>\n",
       "      <td>1.0</td>\n",
       "      <td>2.0</td>\n",
       "      <td>...</td>\n",
       "      <td>0</td>\n",
       "      <td>0</td>\n",
       "      <td>1</td>\n",
       "      <td>0</td>\n",
       "      <td>0</td>\n",
       "      <td>0</td>\n",
       "      <td>0</td>\n",
       "      <td>0</td>\n",
       "      <td>0</td>\n",
       "      <td>1</td>\n",
       "    </tr>\n",
       "    <tr>\n",
       "      <th>...</th>\n",
       "      <td>...</td>\n",
       "      <td>...</td>\n",
       "      <td>...</td>\n",
       "      <td>...</td>\n",
       "      <td>...</td>\n",
       "      <td>...</td>\n",
       "      <td>...</td>\n",
       "      <td>...</td>\n",
       "      <td>...</td>\n",
       "      <td>...</td>\n",
       "      <td>...</td>\n",
       "      <td>...</td>\n",
       "      <td>...</td>\n",
       "      <td>...</td>\n",
       "      <td>...</td>\n",
       "      <td>...</td>\n",
       "      <td>...</td>\n",
       "      <td>...</td>\n",
       "      <td>...</td>\n",
       "      <td>...</td>\n",
       "      <td>...</td>\n",
       "    </tr>\n",
       "    <tr>\n",
       "      <th>350</th>\n",
       "      <td>2476</td>\n",
       "      <td>47918</td>\n",
       "      <td>62</td>\n",
       "      <td>2</td>\n",
       "      <td>51</td>\n",
       "      <td>0</td>\n",
       "      <td>1</td>\n",
       "      <td>0.0</td>\n",
       "      <td>0.0</td>\n",
       "      <td>0.0</td>\n",
       "      <td>...</td>\n",
       "      <td>0</td>\n",
       "      <td>0</td>\n",
       "      <td>1</td>\n",
       "      <td>0</td>\n",
       "      <td>0</td>\n",
       "      <td>0</td>\n",
       "      <td>0</td>\n",
       "      <td>0</td>\n",
       "      <td>0</td>\n",
       "      <td>1</td>\n",
       "    </tr>\n",
       "    <tr>\n",
       "      <th>79</th>\n",
       "      <td>9312</td>\n",
       "      <td>75986</td>\n",
       "      <td>115</td>\n",
       "      <td>11</td>\n",
       "      <td>44</td>\n",
       "      <td>0</td>\n",
       "      <td>3</td>\n",
       "      <td>2.0</td>\n",
       "      <td>2.0</td>\n",
       "      <td>0.0</td>\n",
       "      <td>...</td>\n",
       "      <td>0</td>\n",
       "      <td>0</td>\n",
       "      <td>1</td>\n",
       "      <td>0</td>\n",
       "      <td>1</td>\n",
       "      <td>0</td>\n",
       "      <td>0</td>\n",
       "      <td>0</td>\n",
       "      <td>0</td>\n",
       "      <td>0</td>\n",
       "    </tr>\n",
       "    <tr>\n",
       "      <th>8150</th>\n",
       "      <td>2735</td>\n",
       "      <td>96314</td>\n",
       "      <td>69</td>\n",
       "      <td>2</td>\n",
       "      <td>76</td>\n",
       "      <td>0</td>\n",
       "      <td>1</td>\n",
       "      <td>0.0</td>\n",
       "      <td>0.0</td>\n",
       "      <td>0.0</td>\n",
       "      <td>...</td>\n",
       "      <td>1</td>\n",
       "      <td>0</td>\n",
       "      <td>0</td>\n",
       "      <td>0</td>\n",
       "      <td>1</td>\n",
       "      <td>0</td>\n",
       "      <td>0</td>\n",
       "      <td>0</td>\n",
       "      <td>0</td>\n",
       "      <td>0</td>\n",
       "    </tr>\n",
       "    <tr>\n",
       "      <th>7015</th>\n",
       "      <td>5349</td>\n",
       "      <td>89158</td>\n",
       "      <td>67</td>\n",
       "      <td>34</td>\n",
       "      <td>71</td>\n",
       "      <td>0</td>\n",
       "      <td>6</td>\n",
       "      <td>0.0</td>\n",
       "      <td>0.0</td>\n",
       "      <td>0.0</td>\n",
       "      <td>...</td>\n",
       "      <td>0</td>\n",
       "      <td>1</td>\n",
       "      <td>0</td>\n",
       "      <td>0</td>\n",
       "      <td>1</td>\n",
       "      <td>0</td>\n",
       "      <td>0</td>\n",
       "      <td>0</td>\n",
       "      <td>0</td>\n",
       "      <td>0</td>\n",
       "    </tr>\n",
       "    <tr>\n",
       "      <th>5690</th>\n",
       "      <td>9642</td>\n",
       "      <td>36108</td>\n",
       "      <td>128</td>\n",
       "      <td>5</td>\n",
       "      <td>35</td>\n",
       "      <td>2</td>\n",
       "      <td>9</td>\n",
       "      <td>1.0</td>\n",
       "      <td>1.0</td>\n",
       "      <td>2.0</td>\n",
       "      <td>...</td>\n",
       "      <td>1</td>\n",
       "      <td>0</td>\n",
       "      <td>0</td>\n",
       "      <td>0</td>\n",
       "      <td>0</td>\n",
       "      <td>0</td>\n",
       "      <td>0</td>\n",
       "      <td>0</td>\n",
       "      <td>1</td>\n",
       "      <td>0</td>\n",
       "    </tr>\n",
       "  </tbody>\n",
       "</table>\n",
       "<p>7872 rows × 57 columns</p>\n",
       "</div>"
      ],
      "text/plain": [
       "      customer_lifetime_value  income  monthly_premium_auto  \\\n",
       "4488                     9435   32470                   129   \n",
       "3591                     6165   60884                    77   \n",
       "4089                     4472   53519                   111   \n",
       "921                     13450   71794                   126   \n",
       "8497                     3443   16208                    93   \n",
       "...                       ...     ...                   ...   \n",
       "350                      2476   47918                    62   \n",
       "79                       9312   75986                   115   \n",
       "8150                     2735   96314                    69   \n",
       "7015                     5349   89158                    67   \n",
       "5690                     9642   36108                   128   \n",
       "\n",
       "      months_since_last_claim  months_since_policy_inception  \\\n",
       "4488                       13                             19   \n",
       "3591                       10                             56   \n",
       "4089                        7                             37   \n",
       "921                        28                             80   \n",
       "8497                       22                             20   \n",
       "...                       ...                            ...   \n",
       "350                         2                             51   \n",
       "79                         11                             44   \n",
       "8150                        2                             76   \n",
       "7015                       34                             71   \n",
       "5690                        5                             35   \n",
       "\n",
       "      number_of_open_complaints  number_of_policies  coverage  education  \\\n",
       "4488                          0                   8       1.0        1.0   \n",
       "3591                          0                   4       1.0        2.0   \n",
       "4089                          0                   1       0.0        3.0   \n",
       "921                           0                   2       1.0        2.0   \n",
       "8497                          0                   1       1.0        1.0   \n",
       "...                         ...                 ...       ...        ...   \n",
       "350                           0                   1       0.0        0.0   \n",
       "79                            0                   3       2.0        2.0   \n",
       "8150                          0                   1       0.0        0.0   \n",
       "7015                          0                   6       0.0        0.0   \n",
       "5690                          2                   9       1.0        1.0   \n",
       "\n",
       "      vehicle_size  ...  sales_channel_agent  sales_channel_branch  \\\n",
       "4488           2.0  ...                    0                     0   \n",
       "3591           1.0  ...                    0                     1   \n",
       "4089           0.0  ...                    0                     0   \n",
       "921            0.0  ...                    1                     0   \n",
       "8497           2.0  ...                    0                     0   \n",
       "...            ...  ...                  ...                   ...   \n",
       "350            0.0  ...                    0                     0   \n",
       "79             0.0  ...                    0                     0   \n",
       "8150           0.0  ...                    1                     0   \n",
       "7015           0.0  ...                    0                     1   \n",
       "5690           2.0  ...                    1                     0   \n",
       "\n",
       "      sales_channel_call center  sales_channel_web  \\\n",
       "4488                          1                  0   \n",
       "3591                          0                  0   \n",
       "4089                          1                  0   \n",
       "921                           0                  0   \n",
       "8497                          1                  0   \n",
       "...                         ...                ...   \n",
       "350                           1                  0   \n",
       "79                            1                  0   \n",
       "8150                          0                  0   \n",
       "7015                          0                  0   \n",
       "5690                          0                  0   \n",
       "\n",
       "      vehicle_class_four-door car  vehicle_class_luxury car  \\\n",
       "4488                            0                         0   \n",
       "3591                            1                         0   \n",
       "4089                            0                         0   \n",
       "921                             0                         0   \n",
       "8497                            0                         0   \n",
       "...                           ...                       ...   \n",
       "350                             0                         0   \n",
       "79                              1                         0   \n",
       "8150                            1                         0   \n",
       "7015                            1                         0   \n",
       "5690                            0                         0   \n",
       "\n",
       "      vehicle_class_luxury suv  vehicle_class_sports car  vehicle_class_suv  \\\n",
       "4488                         0                         0                  1   \n",
       "3591                         0                         0                  0   \n",
       "4089                         0                         0                  1   \n",
       "921                          0                         0                  1   \n",
       "8497                         0                         0                  0   \n",
       "...                        ...                       ...                ...   \n",
       "350                          0                         0                  0   \n",
       "79                           0                         0                  0   \n",
       "8150                         0                         0                  0   \n",
       "7015                         0                         0                  0   \n",
       "5690                         0                         0                  1   \n",
       "\n",
       "      vehicle_class_two-door car  \n",
       "4488                           0  \n",
       "3591                           0  \n",
       "4089                           0  \n",
       "921                            0  \n",
       "8497                           1  \n",
       "...                          ...  \n",
       "350                            1  \n",
       "79                             0  \n",
       "8150                           0  \n",
       "7015                           0  \n",
       "5690                           0  \n",
       "\n",
       "[7872 rows x 57 columns]"
      ]
     },
     "execution_count": 151,
     "metadata": {},
     "output_type": "execute_result"
    }
   ],
   "source": [
    "X_train"
   ]
  },
  {
   "cell_type": "markdown",
   "id": "12e7c389",
   "metadata": {},
   "source": [
    "### TRANSFORM - PowerTransform"
   ]
  },
  {
   "cell_type": "markdown",
   "id": "72542798",
   "metadata": {},
   "source": [
    "### x - scaler"
   ]
  },
  {
   "cell_type": "code",
   "execution_count": 152,
   "id": "203fe4a1",
   "metadata": {
    "tags": []
   },
   "outputs": [],
   "source": [
    "# Iniciated the PowerTransformer my my case # \"pt is the scaler \n",
    "pt = PowerTransformer()\n",
    "\n",
    "# Fit the transformer to my X_train data \n",
    "pt.fit(X_train)\n",
    "\n",
    "# Transform X_train using the fitted transformer\n",
    "X_train_scaled = pt.transform(X_train)\n",
    "\n",
    "# LATER Transform X_test using the fitted transformer\n",
    "X_test_scaled = pt.transform(X_test) "
   ]
  },
  {
   "cell_type": "markdown",
   "id": "03ee1b34",
   "metadata": {},
   "source": [
    "### y - scaler"
   ]
  },
  {
   "cell_type": "code",
   "execution_count": 153,
   "id": "da50d2be",
   "metadata": {
    "tags": []
   },
   "outputs": [],
   "source": [
    "pt = PowerTransformer()"
   ]
  },
  {
   "cell_type": "code",
   "execution_count": 154,
   "id": "899433ea",
   "metadata": {
    "tags": []
   },
   "outputs": [],
   "source": [
    "pt.fit(y_train) # fit again on x as never done before\n",
    "\n",
    "y_train_scaled = pt.transform(y_train) \n",
    "y_test_scaled = pt.transform(y_test)"
   ]
  },
  {
   "cell_type": "markdown",
   "id": "5d0f9c33",
   "metadata": {},
   "source": [
    "### RUN THE MODEL - LinearRegression X_train_scaled, y_train_scaled"
   ]
  },
  {
   "cell_type": "code",
   "execution_count": 155,
   "id": "a8ec2820",
   "metadata": {
    "tags": []
   },
   "outputs": [],
   "source": [
    "from sklearn.linear_model import LinearRegression\n",
    "\n",
    "lm = LinearRegression()\n",
    "model = lm.fit(X_train_scaled,y_train_scaled) "
   ]
  },
  {
   "cell_type": "code",
   "execution_count": 156,
   "id": "1f070198",
   "metadata": {
    "tags": []
   },
   "outputs": [],
   "source": [
    "X_train_scaled = pd.DataFrame(X_train_scaled)\n",
    "y_test_scaled = pd.DataFrame(y_test_scaled)\n",
    "train = pd.concat([X_train_scaled,y_test_scaled], axis = 1)\n",
    "train = train.dropna()"
   ]
  },
  {
   "cell_type": "code",
   "execution_count": null,
   "id": "0cfe9102",
   "metadata": {
    "tags": []
   },
   "outputs": [],
   "source": [
    "train"
   ]
  },
  {
   "cell_type": "code",
   "execution_count": 157,
   "id": "801acf05",
   "metadata": {
    "tags": []
   },
   "outputs": [],
   "source": [
    "X_train_scaled = train.iloc[:,:58]\n",
    "y_test_scaled = train.iloc[:,-1]\n",
    "# we scale the target when there is a skewed disctirbution of it. \n",
    "# therefore in cases with even disctr. we do not need to scale the target"
   ]
  },
  {
   "cell_type": "code",
   "execution_count": 118,
   "id": "5c2c3d25",
   "metadata": {
    "tags": []
   },
   "outputs": [
    {
     "data": {
      "text/plain": [
       "array([[ 1.71315775e-02, -1.40942131e-02,  3.30190644e-01,\n",
       "         1.01357717e-02,  3.61694088e-04, -4.67718075e-03,\n",
       "        -3.17657965e-03,  2.80574376e-02,  1.28881747e-02,\n",
       "         9.97294428e-03, -6.26200552e+12, -3.95225117e+12,\n",
       "        -6.27476040e+12, -6.61360925e+12, -1.68122575e+12,\n",
       "        -1.68122575e+12,  3.68976725e+12,  3.68976725e+12,\n",
       "         2.03983270e+12,  4.87019961e+12,  2.07114928e+12,\n",
       "         1.65983896e+12,  4.41610154e+12,  1.09181177e+12,\n",
       "         1.09181177e+12,  6.40563136e+11,  7.82036569e+11,\n",
       "         6.14943025e+11, -4.45401746e+10, -6.23112176e+10,\n",
       "        -5.63749950e+10, -3.44924025e+11, -2.54637100e+12,\n",
       "         3.87001452e+12, -1.04025300e+12, -1.35001247e+12,\n",
       "        -1.70659162e+12, -1.50329180e+11, -1.83930055e+11,\n",
       "        -2.12169934e+11, -2.14845478e+12, -3.49502637e+12,\n",
       "        -3.18306551e+12, -1.61304120e+12, -1.52624972e+12,\n",
       "        -1.20799336e+12, -1.03145582e+12, -1.05505341e+13,\n",
       "        -9.80110333e+12, -8.63627650e+12, -7.72548981e+12,\n",
       "         3.00246224e+11,  7.85291819e+10,  8.75411500e+10,\n",
       "         1.32505367e+11,  2.39494655e+11,  2.43109478e+11]])"
      ]
     },
     "execution_count": 118,
     "metadata": {},
     "output_type": "execute_result"
    }
   ],
   "source": [
    "model.coef_"
   ]
  },
  {
   "cell_type": "code",
   "execution_count": 119,
   "id": "c2ff6161",
   "metadata": {
    "tags": []
   },
   "outputs": [
    {
     "data": {
      "text/plain": [
       "array([-0.00184637])"
      ]
     },
     "execution_count": 119,
     "metadata": {},
     "output_type": "execute_result"
    }
   ],
   "source": [
    "model.intercept_"
   ]
  },
  {
   "cell_type": "markdown",
   "id": "ce383a71",
   "metadata": {
    "tags": []
   },
   "source": [
    "### MAKING PREDICTIONS with X_test_scaled"
   ]
  },
  {
   "cell_type": "code",
   "execution_count": 158,
   "id": "85c88806",
   "metadata": {
    "tags": []
   },
   "outputs": [],
   "source": [
    "y_pred = model.predict(X_test_scaled)\n",
    "# ------- i test it with the test set ----------"
   ]
  },
  {
   "cell_type": "code",
   "execution_count": 159,
   "id": "6e41e6f4",
   "metadata": {
    "tags": []
   },
   "outputs": [
    {
     "data": {
      "text/html": [
       "<div>\n",
       "<style scoped>\n",
       "    .dataframe tbody tr th:only-of-type {\n",
       "        vertical-align: middle;\n",
       "    }\n",
       "\n",
       "    .dataframe tbody tr th {\n",
       "        vertical-align: top;\n",
       "    }\n",
       "\n",
       "    .dataframe thead th {\n",
       "        text-align: right;\n",
       "    }\n",
       "</style>\n",
       "<table border=\"1\" class=\"dataframe\">\n",
       "  <thead>\n",
       "    <tr style=\"text-align: right;\">\n",
       "      <th></th>\n",
       "      <th>0</th>\n",
       "    </tr>\n",
       "  </thead>\n",
       "  <tbody>\n",
       "    <tr>\n",
       "      <th>0</th>\n",
       "      <td>-1.196579</td>\n",
       "    </tr>\n",
       "    <tr>\n",
       "      <th>1</th>\n",
       "      <td>0.253159</td>\n",
       "    </tr>\n",
       "    <tr>\n",
       "      <th>2</th>\n",
       "      <td>0.667923</td>\n",
       "    </tr>\n",
       "    <tr>\n",
       "      <th>3</th>\n",
       "      <td>-1.489548</td>\n",
       "    </tr>\n",
       "    <tr>\n",
       "      <th>4</th>\n",
       "      <td>0.663315</td>\n",
       "    </tr>\n",
       "    <tr>\n",
       "      <th>...</th>\n",
       "      <td>...</td>\n",
       "    </tr>\n",
       "    <tr>\n",
       "      <th>2620</th>\n",
       "      <td>0.243118</td>\n",
       "    </tr>\n",
       "    <tr>\n",
       "      <th>2621</th>\n",
       "      <td>-0.638779</td>\n",
       "    </tr>\n",
       "    <tr>\n",
       "      <th>2622</th>\n",
       "      <td>0.537064</td>\n",
       "    </tr>\n",
       "    <tr>\n",
       "      <th>2623</th>\n",
       "      <td>-0.080826</td>\n",
       "    </tr>\n",
       "    <tr>\n",
       "      <th>2624</th>\n",
       "      <td>-1.069382</td>\n",
       "    </tr>\n",
       "  </tbody>\n",
       "</table>\n",
       "<p>2625 rows × 1 columns</p>\n",
       "</div>"
      ],
      "text/plain": [
       "             0\n",
       "0    -1.196579\n",
       "1     0.253159\n",
       "2     0.667923\n",
       "3    -1.489548\n",
       "4     0.663315\n",
       "...        ...\n",
       "2620  0.243118\n",
       "2621 -0.638779\n",
       "2622  0.537064\n",
       "2623 -0.080826\n",
       "2624 -1.069382\n",
       "\n",
       "[2625 rows x 1 columns]"
      ]
     },
     "execution_count": 159,
     "metadata": {},
     "output_type": "execute_result"
    }
   ],
   "source": [
    "y_pred = pd.DataFrame(y_pred)\n",
    "y_pred"
   ]
  },
  {
   "cell_type": "code",
   "execution_count": 122,
   "id": "c3b41dc4",
   "metadata": {
    "tags": []
   },
   "outputs": [],
   "source": [
    "y_test = y_test.reset_index(drop=True)"
   ]
  },
  {
   "cell_type": "markdown",
   "id": "afbb42c1",
   "metadata": {},
   "source": [
    "#### TRANSFORM test "
   ]
  },
  {
   "cell_type": "markdown",
   "id": "6a8d090d",
   "metadata": {
    "tags": []
   },
   "source": [
    "### RESIDUALS - Understand the scale of the error"
   ]
  },
  {
   "cell_type": "code",
   "execution_count": 160,
   "id": "ae28a81e",
   "metadata": {
    "tags": []
   },
   "outputs": [],
   "source": [
    "resiudals_df = pd.concat([y_test,y_pred],axis=1) \n"
   ]
  },
  {
   "cell_type": "code",
   "execution_count": 161,
   "id": "80ede0dd",
   "metadata": {
    "tags": []
   },
   "outputs": [],
   "source": [
    "residuals_df = resiudals_df.rename(columns={\"total_claim_amount\":\"y_test\", 0:\"y_pred\"})"
   ]
  },
  {
   "cell_type": "code",
   "execution_count": 162,
   "id": "9431062a",
   "metadata": {
    "tags": []
   },
   "outputs": [],
   "source": [
    "residuals_df[\"residual\"] = residuals_df[\"y_test\"]-residuals_df[\"y_pred\"]"
   ]
  },
  {
   "cell_type": "code",
   "execution_count": 163,
   "id": "527caa74",
   "metadata": {
    "tags": []
   },
   "outputs": [
    {
     "data": {
      "text/html": [
       "<div>\n",
       "<style scoped>\n",
       "    .dataframe tbody tr th:only-of-type {\n",
       "        vertical-align: middle;\n",
       "    }\n",
       "\n",
       "    .dataframe tbody tr th {\n",
       "        vertical-align: top;\n",
       "    }\n",
       "\n",
       "    .dataframe thead th {\n",
       "        text-align: right;\n",
       "    }\n",
       "</style>\n",
       "<table border=\"1\" class=\"dataframe\">\n",
       "  <thead>\n",
       "    <tr style=\"text-align: right;\">\n",
       "      <th></th>\n",
       "      <th>y_test</th>\n",
       "      <th>y_pred</th>\n",
       "      <th>residual</th>\n",
       "    </tr>\n",
       "  </thead>\n",
       "  <tbody>\n",
       "    <tr>\n",
       "      <th>3234</th>\n",
       "      <td>132.0</td>\n",
       "      <td>NaN</td>\n",
       "      <td>NaN</td>\n",
       "    </tr>\n",
       "    <tr>\n",
       "      <th>7043</th>\n",
       "      <td>340.0</td>\n",
       "      <td>NaN</td>\n",
       "      <td>NaN</td>\n",
       "    </tr>\n",
       "    <tr>\n",
       "      <th>8469</th>\n",
       "      <td>566.0</td>\n",
       "      <td>NaN</td>\n",
       "      <td>NaN</td>\n",
       "    </tr>\n",
       "    <tr>\n",
       "      <th>5086</th>\n",
       "      <td>131.0</td>\n",
       "      <td>NaN</td>\n",
       "      <td>NaN</td>\n",
       "    </tr>\n",
       "    <tr>\n",
       "      <th>7926</th>\n",
       "      <td>604.0</td>\n",
       "      <td>NaN</td>\n",
       "      <td>NaN</td>\n",
       "    </tr>\n",
       "    <tr>\n",
       "      <th>...</th>\n",
       "      <td>...</td>\n",
       "      <td>...</td>\n",
       "      <td>...</td>\n",
       "    </tr>\n",
       "    <tr>\n",
       "      <th>2617</th>\n",
       "      <td>NaN</td>\n",
       "      <td>-0.09</td>\n",
       "      <td>NaN</td>\n",
       "    </tr>\n",
       "    <tr>\n",
       "      <th>2618</th>\n",
       "      <td>NaN</td>\n",
       "      <td>-0.69</td>\n",
       "      <td>NaN</td>\n",
       "    </tr>\n",
       "    <tr>\n",
       "      <th>2619</th>\n",
       "      <td>NaN</td>\n",
       "      <td>0.14</td>\n",
       "      <td>NaN</td>\n",
       "    </tr>\n",
       "    <tr>\n",
       "      <th>2620</th>\n",
       "      <td>NaN</td>\n",
       "      <td>0.24</td>\n",
       "      <td>NaN</td>\n",
       "    </tr>\n",
       "    <tr>\n",
       "      <th>2622</th>\n",
       "      <td>NaN</td>\n",
       "      <td>0.54</td>\n",
       "      <td>NaN</td>\n",
       "    </tr>\n",
       "  </tbody>\n",
       "</table>\n",
       "<p>4596 rows × 3 columns</p>\n",
       "</div>"
      ],
      "text/plain": [
       "      y_test  y_pred  residual\n",
       "3234   132.0     NaN       NaN\n",
       "7043   340.0     NaN       NaN\n",
       "8469   566.0     NaN       NaN\n",
       "5086   131.0     NaN       NaN\n",
       "7926   604.0     NaN       NaN\n",
       "...      ...     ...       ...\n",
       "2617     NaN   -0.09       NaN\n",
       "2618     NaN   -0.69       NaN\n",
       "2619     NaN    0.14       NaN\n",
       "2620     NaN    0.24       NaN\n",
       "2622     NaN    0.54       NaN\n",
       "\n",
       "[4596 rows x 3 columns]"
      ]
     },
     "execution_count": 163,
     "metadata": {},
     "output_type": "execute_result"
    }
   ],
   "source": [
    "round(residuals_df,2)"
   ]
  },
  {
   "cell_type": "markdown",
   "id": "074ea904",
   "metadata": {
    "tags": []
   },
   "source": [
    "### Calculating metrics"
   ]
  },
  {
   "cell_type": "code",
   "execution_count": 164,
   "id": "3649ef72",
   "metadata": {
    "tags": []
   },
   "outputs": [],
   "source": [
    "mean_error = residuals_df[\"residual\"].mean()"
   ]
  },
  {
   "cell_type": "code",
   "execution_count": 165,
   "id": "0a38d792",
   "metadata": {
    "tags": []
   },
   "outputs": [
    {
     "data": {
      "text/plain": [
       "436.6"
      ]
     },
     "execution_count": 165,
     "metadata": {},
     "output_type": "execute_result"
    }
   ],
   "source": [
    "round(mean_error,2)\n",
    "# mean_error: has a weakness cz it cancals out the errors \n",
    "# normally not used because the above"
   ]
  },
  {
   "cell_type": "code",
   "execution_count": 166,
   "id": "f76816d5",
   "metadata": {
    "tags": []
   },
   "outputs": [],
   "source": [
    "from sklearn.metrics import mean_squared_error as mse , mean_absolute_error as mae"
   ]
  },
  {
   "cell_type": "code",
   "execution_count": 167,
   "id": "692b5174",
   "metadata": {
    "tags": []
   },
   "outputs": [
    {
     "data": {
      "text/plain": [
       "269115.37"
      ]
     },
     "execution_count": 167,
     "metadata": {},
     "output_type": "execute_result"
    }
   ],
   "source": [
    "round(mse(y_test,y_pred),2)"
   ]
  },
  {
   "cell_type": "code",
   "execution_count": 168,
   "id": "61620613",
   "metadata": {
    "tags": []
   },
   "outputs": [
    {
     "data": {
      "text/plain": [
       "432.13"
      ]
     },
     "execution_count": 168,
     "metadata": {},
     "output_type": "execute_result"
    }
   ],
   "source": [
    "round(mae(y_test,y_pred),2)\n"
   ]
  },
  {
   "cell_type": "code",
   "execution_count": 169,
   "id": "72f641e3",
   "metadata": {
    "tags": []
   },
   "outputs": [
    {
     "data": {
      "text/plain": [
       "518.76"
      ]
     },
     "execution_count": 169,
     "metadata": {},
     "output_type": "execute_result"
    }
   ],
   "source": [
    "rmse = mse(y_test,y_pred, squared = False) # in correct units\n",
    "round(rmse,2)"
   ]
  },
  {
   "cell_type": "markdown",
   "id": "bdffb41f",
   "metadata": {
    "tags": []
   },
   "source": [
    "### Computing R2_score\n",
    "- tries to explain how good your model is at explaining the task\n",
    "- Provides a measurement of the “explanatory” power of a model (shows how much variability of y can be explained by the independent features)"
   ]
  },
  {
   "cell_type": "code",
   "execution_count": 170,
   "id": "5b89429a",
   "metadata": {
    "tags": []
   },
   "outputs": [],
   "source": [
    "from sklearn.metrics import r2_score"
   ]
  },
  {
   "cell_type": "markdown",
   "id": "bf800191",
   "metadata": {},
   "source": [
    "#### Computing R2_score for test_set"
   ]
  },
  {
   "cell_type": "code",
   "execution_count": 172,
   "id": "e2467fa4",
   "metadata": {
    "tags": []
   },
   "outputs": [
    {
     "data": {
      "text/plain": [
       "0.81"
      ]
     },
     "execution_count": 172,
     "metadata": {},
     "output_type": "execute_result"
    }
   ],
   "source": [
    "round(r2_score(y_test_scaled, y_pred),2) "
   ]
  },
  {
   "cell_type": "markdown",
   "id": "c5e8f449",
   "metadata": {},
   "source": [
    "#### Computing R2_score for train_set"
   ]
  },
  {
   "cell_type": "code",
   "execution_count": 136,
   "id": "987a7ffd",
   "metadata": {
    "tags": []
   },
   "outputs": [],
   "source": [
    "y_pred_train = pd.DataFrame(model.predict(X_train_scaled))"
   ]
  },
  {
   "cell_type": "code",
   "execution_count": 180,
   "id": "e1bac8b3",
   "metadata": {
    "tags": []
   },
   "outputs": [
    {
     "data": {
      "text/plain": [
       "-1.2712848526952178e+26"
      ]
     },
     "execution_count": 180,
     "metadata": {},
     "output_type": "execute_result"
    }
   ],
   "source": [
    "r2_score(y_train_scaled,y_pred_train)"
   ]
  },
  {
   "cell_type": "markdown",
   "id": "0bcfac51",
   "metadata": {
    "tags": []
   },
   "source": [
    "### Feature importance\n",
    "- In order to check which independent features are more relevant to your model, compare the absolute value of each coefficient.\n",
    "- Only valid if all the features are in the same scale. NOT THE CASE IN THIS EXAMPLE y was not scaled!\n"
   ]
  },
  {
   "cell_type": "code",
   "execution_count": null,
   "id": "34c69a2a-3858-4087-9df6-e3b64c6c7661",
   "metadata": {},
   "outputs": [],
   "source": []
  },
  {
   "cell_type": "code",
   "execution_count": null,
   "id": "160a24fb",
   "metadata": {},
   "outputs": [],
   "source": [
    "feature_names = list(X_train.columns)"
   ]
  },
  {
   "cell_type": "code",
   "execution_count": null,
   "id": "59625cbc",
   "metadata": {},
   "outputs": [],
   "source": [
    "coefficients = model.coef_"
   ]
  },
  {
   "cell_type": "code",
   "execution_count": null,
   "id": "8199479b",
   "metadata": {},
   "outputs": [],
   "source": [
    "coefficients = [i for i in coefficients[0]]"
   ]
  },
  {
   "cell_type": "code",
   "execution_count": null,
   "id": "f10beccc",
   "metadata": {},
   "outputs": [],
   "source": [
    "fi_dict = {\"name\":feature_names,\"coeff\":coefficients}\n",
    "fi_df = pd.DataFrame(fi_dict)\n",
    "fi_df"
   ]
  },
  {
   "cell_type": "code",
   "execution_count": null,
   "id": "be17e49b",
   "metadata": {},
   "outputs": [],
   "source": [
    "import seaborn as sns #  Seaborn data visualization library."
   ]
  },
  {
   "cell_type": "code",
   "execution_count": null,
   "id": "0bfa1bad",
   "metadata": {},
   "outputs": [],
   "source": [
    "sns.barplot(x = fi_df[\"name\"],y =fi_df[\"coeff\"])"
   ]
  },
  {
   "cell_type": "markdown",
   "id": "e46b5c97-3341-4592-b69d-45f50e1a9fb1",
   "metadata": {
    "tags": []
   },
   "source": [
    "### Comparing regression models"
   ]
  },
  {
   "cell_type": "code",
   "execution_count": null,
   "id": "d9ea818f-4107-42c6-ae23-a920608d265c",
   "metadata": {
    "tags": []
   },
   "outputs": [],
   "source": [
    "import pandas as pd\n",
    "import numpy as np\n",
    "import warnings\n",
    "warnings.filterwarnings(\"ignore\")"
   ]
  },
  {
   "cell_type": "markdown",
   "id": "4a79ba86-a5df-43dd-8ee6-9dc787053b7e",
   "metadata": {},
   "source": [
    "#### Variance threshold method"
   ]
  },
  {
   "cell_type": "code",
   "execution_count": null,
   "id": "d6f54a62-80f5-4605-8134-fd3fc8f98003",
   "metadata": {
    "tags": []
   },
   "outputs": [],
   "source": [
    "from sklearn.feature_selection import VarianceThreshold # It only works with numerical features\n",
    "\n",
    "\n",
    "X_train = X_train.select_dtypes(include=np.number)\n",
    "X_test  = X_test.select_dtypes(include=np.number)\n",
    "\n",
    "#display(X_train)\n",
    "print(\"Initial number of numerical columns: \",X_train.shape)\n",
    "print()\n",
    "\n",
    "\n",
    "selector = VarianceThreshold() # Default threshold value is 0\n",
    "# Features with a training-set variance lower than this threshold will be removed.\n",
    "selector.fit(X_train)\n",
    "\n",
    "kept_features_indexes = selector.get_support(indices = True) #returns an array of integers corresponding to nonremoved features\n",
    "kept_features = list(X_train.iloc[:,kept_features_indexes].columns)\n",
    "\n",
    "X_train = selector.transform(X_train)\n",
    "X_test  = selector.transform(X_test)\n",
    "\n",
    "X_train = pd.DataFrame(X_train, columns=kept_features)\n",
    "X_test  = pd.DataFrame(X_test, columns=kept_features)\n",
    "\n",
    "print(\"Final number of numerical columns: \",X_train.shape)\n",
    "print()\n",
    "X_train"
   ]
  },
  {
   "cell_type": "markdown",
   "id": "38c9d949-3e0f-4720-bd9c-c10ff59cd748",
   "metadata": {},
   "source": [
    "#### Corrolation matrix"
   ]
  },
  {
   "cell_type": "code",
   "execution_count": 66,
   "id": "76cab4a3-d260-4017-ac18-55a52d018410",
   "metadata": {
    "tags": []
   },
   "outputs": [
    {
     "name": "stdout",
     "output_type": "stream",
     "text": [
      "['monthly_premium_auto', 'total_claim_amount']\n"
     ]
    },
    {
     "data": {
      "text/html": [
       "<div>\n",
       "<style scoped>\n",
       "    .dataframe tbody tr th:only-of-type {\n",
       "        vertical-align: middle;\n",
       "    }\n",
       "\n",
       "    .dataframe tbody tr th {\n",
       "        vertical-align: top;\n",
       "    }\n",
       "\n",
       "    .dataframe thead th {\n",
       "        text-align: right;\n",
       "    }\n",
       "</style>\n",
       "<table border=\"1\" class=\"dataframe\">\n",
       "  <thead>\n",
       "    <tr style=\"text-align: right;\">\n",
       "      <th></th>\n",
       "      <th>monthly_premium_auto</th>\n",
       "      <th>total_claim_amount</th>\n",
       "    </tr>\n",
       "  </thead>\n",
       "  <tbody>\n",
       "    <tr>\n",
       "      <th>0</th>\n",
       "      <td>61</td>\n",
       "      <td>292</td>\n",
       "    </tr>\n",
       "    <tr>\n",
       "      <th>1</th>\n",
       "      <td>64</td>\n",
       "      <td>744</td>\n",
       "    </tr>\n",
       "    <tr>\n",
       "      <th>2</th>\n",
       "      <td>100</td>\n",
       "      <td>480</td>\n",
       "    </tr>\n",
       "    <tr>\n",
       "      <th>3</th>\n",
       "      <td>97</td>\n",
       "      <td>484</td>\n",
       "    </tr>\n",
       "    <tr>\n",
       "      <th>4</th>\n",
       "      <td>117</td>\n",
       "      <td>707</td>\n",
       "    </tr>\n",
       "    <tr>\n",
       "      <th>...</th>\n",
       "      <td>...</td>\n",
       "      <td>...</td>\n",
       "    </tr>\n",
       "    <tr>\n",
       "      <th>10684</th>\n",
       "      <td>253</td>\n",
       "      <td>1214</td>\n",
       "    </tr>\n",
       "    <tr>\n",
       "      <th>10685</th>\n",
       "      <td>65</td>\n",
       "      <td>273</td>\n",
       "    </tr>\n",
       "    <tr>\n",
       "      <th>10686</th>\n",
       "      <td>201</td>\n",
       "      <td>381</td>\n",
       "    </tr>\n",
       "    <tr>\n",
       "      <th>10687</th>\n",
       "      <td>158</td>\n",
       "      <td>618</td>\n",
       "    </tr>\n",
       "    <tr>\n",
       "      <th>10688</th>\n",
       "      <td>101</td>\n",
       "      <td>1021</td>\n",
       "    </tr>\n",
       "  </tbody>\n",
       "</table>\n",
       "<p>10497 rows × 2 columns</p>\n",
       "</div>"
      ],
      "text/plain": [
       "       monthly_premium_auto  total_claim_amount\n",
       "0                        61                 292\n",
       "1                        64                 744\n",
       "2                       100                 480\n",
       "3                        97                 484\n",
       "4                       117                 707\n",
       "...                     ...                 ...\n",
       "10684                   253                1214\n",
       "10685                    65                 273\n",
       "10686                   201                 381\n",
       "10687                   158                 618\n",
       "10688                   101                1021\n",
       "\n",
       "[10497 rows x 2 columns]"
      ]
     },
     "execution_count": 66,
     "metadata": {},
     "output_type": "execute_result"
    },
    {
     "data": {
      "image/png": "[encoded data removed]",
      "text/plain": [
       "<Figure size 1400x1400 with 2 Axes>"
      ]
     },
     "metadata": {},
     "output_type": "display_data"
    }
   ],
   "source": [
    "import seaborn as sns\n",
    "import matplotlib.pyplot as plt\n",
    "\n",
    "c = df.select_dtypes(include = np.number)\n",
    "c = abs(c.corr())\n",
    "#c\n",
    "\n",
    "fig, ax = plt.subplots(figsize=(14,14))\n",
    "sns.heatmap(c, annot=True);\n",
    "\n",
    "#c['SalePrice']\n",
    "c_last = c['total_claim_amount'].sort_values(ascending=False)\n",
    "#c_last\n",
    "c_thr = .3\n",
    "cols_to_keep = list(c_last[c_last > c_thr].index)[1:] + [list(c_last[c_last > c_thr].index)[0]]\n",
    "print(cols_to_keep)\n",
    "\n",
    "df[cols_to_keep]"
   ]
  },
  {
   "cell_type": "markdown",
   "id": "8452caa3-26dd-4b46-8c46-71b8c82e8445",
   "metadata": {},
   "source": [
    "### RFI"
   ]
  },
  {
   "cell_type": "code",
   "execution_count": null,
   "id": "c4a4d706-93ea-4400-8a40-46892660e08f",
   "metadata": {
    "tags": []
   },
   "outputs": [],
   "source": [
    "from sklearn.linear_model import LinearRegression\n",
    "from sklearn.feature_selection import RFE  ## recursive feature elemination technique\n",
    "\n",
    "X_train, X_test, y_train, y_test = train_test_split(X, y, test_size=0.20, random_state=42)\n",
    "\n",
    "X_train = X_train.select_dtypes(include=np.number)\n",
    "X_test  = X_test.select_dtypes(include=np.number)\n",
    "\n",
    "X_train = pd.DataFrame(X_train, columns=X.columns)\n",
    "X_test  = pd.DataFrame(X_test, columns=X.columns)\n",
    "\n",
    "#X_train.isna().sum()\n",
    "nulls = pd.DataFrame(X_train.isna().sum()).reset_index()\n",
    "#nulls.head()\n",
    "nulls.columns = ['Column','nas']\n",
    "#nulls.head()\n",
    "#nulls[nulls['nas'] > 0].head()\n",
    "cols_to_drop = nulls[nulls['nas'] > 0]['Column'] # Too drastic, but made on pourpose for quick filtering (don't do this in production!!)\n",
    "\n",
    "X_train.drop(columns=cols_to_drop, axis=1, inplace = True)\n",
    "X_test.drop(columns=cols_to_drop, axis=1, inplace = True)\n",
    "\n",
    "#display(X_train)\n",
    "\n",
    "lm = LinearRegression()\n",
    "\n",
    "selector = RFE(lm, n_features_to_select= 8, step = 1, verbose = 1) # Step is how many features to add or drop everytime\n",
    "selector.fit(X_train, y_train)\n",
    "\n",
    "kept_features = selector.get_support(indices = True) #returns an array of integers corresponding to nonremoved features\n",
    "kept_features = list(X_train.iloc[:,kept_features].columns)\n",
    "\n",
    "X_train = selector.transform(X_train)\n",
    "X_test  = selector.transform(X_test)\n",
    "\n",
    "X_train = pd.DataFrame(X_train, columns=kept_features)\n",
    "X_test  = pd.DataFrame(X_test, columns=kept_features)\n",
    "\n",
    "print(\"Final selected features: \")\n",
    "display(X_train)"
   ]
  },
  {
   "cell_type": "code",
   "execution_count": null,
   "id": "2942b88f-7325-4132-a8ce-be42c32e5944",
   "metadata": {
    "tags": []
   },
   "outputs": [],
   "source": [
    "from sklearn.linear_model import LinearRegression\n",
    "from sklearn.feature_selection import RFE\n",
    "import pandas as pd\n",
    "\n",
    "lm = LinearRegression()\n",
    "\n",
    "selector = RFE(lm, n_features_to_select=8, step=1, verbose=1)  # Step is how many features to add or drop every time\n",
    "selector.fit(X_train_scaled, y_train_scaled)\n",
    "\n",
    "kept_features = selector.get_support(indices=True)  # returns an array of integers corresponding to nonremoved features\n",
    "kept_features = list(X_train_scaled.iloc[:, kept_features].columns)\n",
    "\n",
    "X_train_scaled = selector.transform(X_train_scaled)\n",
    "X_test_scaled = selector.transform(X_test_scaled)\n",
    "\n",
    "X_train_scaled = pd.DataFrame(X_train_scaled, columns=kept_features)\n",
    "X_test_scaled = pd.DataFrame(X_test_scaled, columns=kept_features)\n",
    "\n",
    "print(\"Final selected features: \")\n",
    "display(X_train_scaled)"
   ]
  },
  {
   "cell_type": "markdown",
   "id": "f66fa9de-ea1f-4d1d-ad20-57feed78d9dc",
   "metadata": {},
   "source": [
    "## Embedded Methods"
   ]
  },
  {
   "cell_type": "code",
   "execution_count": 52,
   "id": "2b013da7-7195-49e5-8f32-720aca0ae1b1",
   "metadata": {
    "tags": []
   },
   "outputs": [],
   "source": [
    "X_train, X_test, y_train, y_test = train_test_split(X, y, test_size=0.30, random_state=42)\n",
    "\n",
    "X_train = X_train.select_dtypes(include=np.number)\n",
    "X_test  = X_test.select_dtypes(include=np.number)"
   ]
  },
  {
   "cell_type": "code",
   "execution_count": 53,
   "id": "0a38440e-5fd0-4071-842a-82931db9d27e",
   "metadata": {
    "tags": []
   },
   "outputs": [],
   "source": [
    "import numpy as np\n",
    "from sklearn.impute import SimpleImputer\n",
    "imp_mean = SimpleImputer(missing_values=np.nan, strategy='mean')\n",
    "X_train=imp_mean.fit_transform(X_train)\n",
    "X_test = imp_mean.fit_transform(X_test)"
   ]
  },
  {
   "cell_type": "markdown",
   "id": "fe5868b9-1734-4546-8a82-7a4af3424edf",
   "metadata": {
    "tags": []
   },
   "source": [
    "## OLS - ordinary least squares"
   ]
  },
  {
   "cell_type": "code",
   "execution_count": 72,
   "id": "1d2f3b28-24fb-4b1f-9dbc-4afdc7e614a5",
   "metadata": {
    "tags": []
   },
   "outputs": [
    {
     "name": "stdout",
     "output_type": "stream",
     "text": [
      "LinearRegression: Train -> 0.7712211567738343, Test -> 0.7669100659413655\n"
     ]
    }
   ],
   "source": [
    "lr =LinearRegression()\n",
    "lr.fit(X_train, y_train)\n",
    "print(f\"{lr.__class__.__name__}: Train -> {lr.score(X_train, y_train)}, Test -> {lr.score(X_test, y_test)}\")"
   ]
  },
  {
   "cell_type": "markdown",
   "id": "40fd9ac4-18f0-4463-99ad-bfaf5eb7953f",
   "metadata": {},
   "source": [
    "<b> A lasso model can drop features and be a feature selection technique <b>"
   ]
  },
  {
   "cell_type": "code",
   "execution_count": 73,
   "id": "a59206ea-10b6-44a1-b08b-103caffa866b",
   "metadata": {
    "tags": []
   },
   "outputs": [
    {
     "name": "stdout",
     "output_type": "stream",
     "text": [
      "Lasso: Train -> 0.7712211567738342, Test -> 0.7669100659413661\n"
     ]
    }
   ],
   "source": [
    "from sklearn.linear_model import Lasso,Ridge,ElasticNet, LinearRegression\n",
    "lasso =Lasso(alpha=0)\n",
    "\n",
    "lasso.fit(X_train, y_train)\n",
    "print(f\"{lasso.__class__.__name__}: Train -> {lasso.score(X_train, y_train)}, Test -> {lasso.score(X_test, y_test)}\")"
   ]
  },
  {
   "cell_type": "markdown",
   "id": "85fe947b-8f3a-4df7-8025-092295d386b6",
   "metadata": {},
   "source": [
    "<b> Ridge"
   ]
  },
  {
   "cell_type": "code",
   "execution_count": 83,
   "id": "7a0212bc-b7d0-46a6-84de-65bcb5e89c9e",
   "metadata": {
    "tags": []
   },
   "outputs": [
    {
     "name": "stdout",
     "output_type": "stream",
     "text": [
      "Ridge: Train -> 0.7712210306561372, Test -> 0.7669168108059428\n"
     ]
    }
   ],
   "source": [
    "ridge=Ridge(alpha=1) #\n",
    "\n",
    "ridge.fit(X_train, y_train)\n",
    "print(f\"{ridge.__class__.__name__}: Train -> {ridge.score(X_train, y_train)}, Test -> {ridge.score(X_test, y_test)}\")"
   ]
  },
  {
   "cell_type": "code",
   "execution_count": 65,
   "id": "2c9102d8-0439-4fb8-b08b-97a070dcd27b",
   "metadata": {
    "tags": []
   },
   "outputs": [
    {
     "name": "stdout",
     "output_type": "stream",
     "text": [
      "ElasticNet: Train -> 0.7712211567738342, Test -> 0.7669100659413661\n"
     ]
    }
   ],
   "source": [
    "model=ElasticNet(alpha=0)\n",
    "model.fit(X_train, y_train)\n",
    "print(f\"{model.__class__.__name__}: Train -> {model.score(X_train, y_train)}, Test -> {model.score(X_test, y_test)}\")"
   ]
  },
  {
   "cell_type": "markdown",
   "id": "107599bf-ba0d-4778-a18e-1f9683977be7",
   "metadata": {
    "tags": []
   },
   "source": [
    "## Function that takes a list of models and trains (and tests) them"
   ]
  },
  {
   "cell_type": "code",
   "execution_count": 79,
   "id": "87e73d02-be35-412a-bb92-c6d870206699",
   "metadata": {
    "tags": []
   },
   "outputs": [],
   "source": [
    "def model_training(X_train, y_train, X_test):\n",
    "    # Fit models\n",
    "    lr.fit(X_train, y_train)\n",
    "    lasso.fit(X_train, y_train)\n",
    "    ridge.fit(X_train, y_train)\n",
    "    \n",
    "    # Predictions\n",
    "    lr_predictions = lr.predict(X_test)\n",
    "    lasso_predictions = lasso.predict(X_test)\n",
    "    ridge_predictions = ridge.predict(X_test)\n",
    "    \n",
    "    return lr, lasso, ridge, lr_predictions, lasso_predictions, ridge_predictions"
   ]
  },
  {
   "cell_type": "code",
   "execution_count": 184,
   "id": "25b53a19-f5c6-4289-902d-bc66713016ce",
   "metadata": {
    "tags": []
   },
   "outputs": [
    {
     "name": "stdout",
     "output_type": "stream",
     "text": [
      "(LinearRegression(),\n",
      " Lasso(alpha=0),\n",
      " Ridge(alpha=1),\n",
      " array([[160.36958864],\n",
      "       [492.64887074],\n",
      "       [597.17674224],\n",
      "       ...,\n",
      "       [512.58738198],\n",
      "       [372.57872303],\n",
      "       [203.06786877]]),\n",
      " array([160.36958864, 492.64887074, 597.17674224, ..., 512.58738198,\n",
      "       372.57872303, 203.06786877]),\n",
      " array([[160.51332442],\n",
      "       [492.64287014],\n",
      "       [597.17892215],\n",
      "       ...,\n",
      "       [512.56453171],\n",
      "       [372.5388917 ],\n",
      "       [203.26336743]]))\n"
     ]
    }
   ],
   "source": [
    "import pprint\n",
    "\n",
    "combined = model_training(X_train, y_train, X_test)\n",
    "pprint.pprint(combined)"
   ]
  },
  {
   "cell_type": "code",
   "execution_count": 91,
   "id": "c37dc9ba-95f3-4f88-b61d-ed6b53097f53",
   "metadata": {
    "tags": []
   },
   "outputs": [
    {
     "data": {
      "text/html": [
       "<div>\n",
       "<style scoped>\n",
       "    .dataframe tbody tr th:only-of-type {\n",
       "        vertical-align: middle;\n",
       "    }\n",
       "\n",
       "    .dataframe tbody tr th {\n",
       "        vertical-align: top;\n",
       "    }\n",
       "\n",
       "    .dataframe thead th {\n",
       "        text-align: right;\n",
       "    }\n",
       "</style>\n",
       "<table border=\"1\" class=\"dataframe\">\n",
       "  <thead>\n",
       "    <tr style=\"text-align: right;\">\n",
       "      <th></th>\n",
       "      <th>0</th>\n",
       "    </tr>\n",
       "  </thead>\n",
       "  <tbody>\n",
       "    <tr>\n",
       "      <th>count</th>\n",
       "      <td>6</td>\n",
       "    </tr>\n",
       "    <tr>\n",
       "      <th>unique</th>\n",
       "      <td>6</td>\n",
       "    </tr>\n",
       "    <tr>\n",
       "      <th>top</th>\n",
       "      <td>LinearRegression()</td>\n",
       "    </tr>\n",
       "    <tr>\n",
       "      <th>freq</th>\n",
       "      <td>1</td>\n",
       "    </tr>\n",
       "  </tbody>\n",
       "</table>\n",
       "</div>"
      ],
      "text/plain": [
       "                         0\n",
       "count                    6\n",
       "unique                   6\n",
       "top     LinearRegression()\n",
       "freq                     1"
      ]
     },
     "execution_count": 91,
     "metadata": {},
     "output_type": "execute_result"
    }
   ],
   "source": [
    "combined_df = pd.DataFrame(combined)\n"
   ]
  }
 ],
 "metadata": {
  "kernelspec": {
   "display_name": "Python 3 (ipykernel)",
   "language": "python",
   "name": "python3"
  },
  "language_info": {
   "codemirror_mode": {
    "name": "ipython",
    "version": 3
   },
   "file_extension": ".py",
   "mimetype": "text/x-python",
   "name": "python",
   "nbconvert_exporter": "python",
   "pygments_lexer": "ipython3",
   "version": "3.11.5"
  }
 },
 "nbformat": 4,
 "nbformat_minor": 5
}
