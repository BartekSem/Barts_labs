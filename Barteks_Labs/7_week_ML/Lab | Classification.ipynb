{
 "cells": [
  {
   "cell_type": "markdown",
   "id": "a98439fb-7660-45cf-b84d-92cbaa2ff38a",
   "metadata": {},
   "source": [
    "#### In this lab, we will first take a look at the degree of imbalance in the data and correct it using the techniques we learned in class.\n",
    "#### Here is the list of steps to be followed (building a simple model without balancing the data):"
   ]
  },
  {
   "cell_type": "markdown",
   "id": "c6c05a09-026e-45d0-b557-54ae8e183349",
   "metadata": {
    "tags": []
   },
   "source": [
    "## Libraries"
   ]
  },
  {
   "cell_type": "code",
   "execution_count": 76,
   "id": "0af4f6a8-0d64-40c5-9d59-fcc087ca4f26",
   "metadata": {
    "tags": []
   },
   "outputs": [],
   "source": [
    "import pandas as pd\n",
    "import numpy as np\n",
    "import matplotlib.pyplot as plt\n",
    "from sklearn.datasets import load_iris, load_breast_cancer\n",
    "from sklearn.datasets import fetch_california_housing\n",
    "from sklearn.datasets import load_iris, load_breast_cancer\n",
    "from sklearn.tree import DecisionTreeRegressor\n",
    "from sklearn.tree import DecisionTreeClassifier\n",
    "from sklearn.model_selection import train_test_split\n",
    "from sklearn.tree import plot_tree\n",
    "from sklearn import datasets\n",
    "from sklearn.linear_model import LogisticRegression\n",
    "from sklearn.preprocessing import PowerTransformer\n",
    "from sklearn.metrics import accuracy_score, precision_score, recall_score, confusion_matrix\n",
    "\n",
    "\n",
    "\n",
    "%matplotlib inline "
   ]
  },
  {
   "cell_type": "markdown",
   "id": "21fa3652-5079-44b7-9655-9e87061ef392",
   "metadata": {
    "tags": []
   },
   "source": [
    "## Round 1"
   ]
  },
  {
   "cell_type": "markdown",
   "id": "6e45d7a1-e233-4809-902c-571ff8d096b7",
   "metadata": {},
   "source": [
    "#### TASK \n",
    "\n",
    "Import the required libraries and modules that you would need.\n",
    "\n",
    "Read that data into Python and call the dataframe churnData.\n",
    "\n",
    "Check the datatypes of all the columns in the data. You will see that the column TotalCharges is object type. Convert this column into numeric type using pd.to_numeric function.\n",
    "\n",
    "Check for null values in the dataframe. Replace the null values.\n",
    "\n",
    "- Use the following features: tenure, SeniorCitizen, MonthlyCharges and TotalCharges:\n",
    "- Split the data into a training set and a test set.\n",
    "- Scale the features either by using normalizer or a standard scaler.\n",
    "- Fit a logistic Regression model on the training data.\n",
    "- Fit a Knn Classifier(NOT KnnRegressor please!)model on the training data."
   ]
  },
  {
   "cell_type": "markdown",
   "id": "4a8fe8a9-1eb3-4cc7-8ee1-ee0570005e71",
   "metadata": {
    "tags": []
   },
   "source": [
    "### Reading and inspecting df"
   ]
  },
  {
   "cell_type": "code",
   "execution_count": 77,
   "id": "019db41a-507d-42ce-a79c-5704a3e31e97",
   "metadata": {
    "tags": []
   },
   "outputs": [],
   "source": [
    "churnData = pd.read_csv(\"DATA_Customer-Churn.csv\")"
   ]
  },
  {
   "cell_type": "code",
   "execution_count": 78,
   "id": "01d14937-2a6c-4c56-ac02-64565458f6c8",
   "metadata": {
    "tags": []
   },
   "outputs": [
    {
     "data": {
      "text/html": [
       "<div>\n",
       "<style scoped>\n",
       "    .dataframe tbody tr th:only-of-type {\n",
       "        vertical-align: middle;\n",
       "    }\n",
       "\n",
       "    .dataframe tbody tr th {\n",
       "        vertical-align: top;\n",
       "    }\n",
       "\n",
       "    .dataframe thead th {\n",
       "        text-align: right;\n",
       "    }\n",
       "</style>\n",
       "<table border=\"1\" class=\"dataframe\">\n",
       "  <thead>\n",
       "    <tr style=\"text-align: right;\">\n",
       "      <th></th>\n",
       "      <th>gender</th>\n",
       "      <th>SeniorCitizen</th>\n",
       "      <th>Partner</th>\n",
       "      <th>Dependents</th>\n",
       "      <th>tenure</th>\n",
       "      <th>PhoneService</th>\n",
       "      <th>OnlineSecurity</th>\n",
       "      <th>OnlineBackup</th>\n",
       "      <th>DeviceProtection</th>\n",
       "      <th>TechSupport</th>\n",
       "      <th>StreamingTV</th>\n",
       "      <th>StreamingMovies</th>\n",
       "      <th>Contract</th>\n",
       "      <th>MonthlyCharges</th>\n",
       "      <th>TotalCharges</th>\n",
       "      <th>Churn</th>\n",
       "    </tr>\n",
       "  </thead>\n",
       "  <tbody>\n",
       "    <tr>\n",
       "      <th>0</th>\n",
       "      <td>Female</td>\n",
       "      <td>0</td>\n",
       "      <td>Yes</td>\n",
       "      <td>No</td>\n",
       "      <td>1</td>\n",
       "      <td>No</td>\n",
       "      <td>No</td>\n",
       "      <td>Yes</td>\n",
       "      <td>No</td>\n",
       "      <td>No</td>\n",
       "      <td>No</td>\n",
       "      <td>No</td>\n",
       "      <td>Month-to-month</td>\n",
       "      <td>29.85</td>\n",
       "      <td>29.85</td>\n",
       "      <td>No</td>\n",
       "    </tr>\n",
       "    <tr>\n",
       "      <th>1</th>\n",
       "      <td>Male</td>\n",
       "      <td>0</td>\n",
       "      <td>No</td>\n",
       "      <td>No</td>\n",
       "      <td>34</td>\n",
       "      <td>Yes</td>\n",
       "      <td>Yes</td>\n",
       "      <td>No</td>\n",
       "      <td>Yes</td>\n",
       "      <td>No</td>\n",
       "      <td>No</td>\n",
       "      <td>No</td>\n",
       "      <td>One year</td>\n",
       "      <td>56.95</td>\n",
       "      <td>1889.5</td>\n",
       "      <td>No</td>\n",
       "    </tr>\n",
       "    <tr>\n",
       "      <th>2</th>\n",
       "      <td>Male</td>\n",
       "      <td>0</td>\n",
       "      <td>No</td>\n",
       "      <td>No</td>\n",
       "      <td>2</td>\n",
       "      <td>Yes</td>\n",
       "      <td>Yes</td>\n",
       "      <td>Yes</td>\n",
       "      <td>No</td>\n",
       "      <td>No</td>\n",
       "      <td>No</td>\n",
       "      <td>No</td>\n",
       "      <td>Month-to-month</td>\n",
       "      <td>53.85</td>\n",
       "      <td>108.15</td>\n",
       "      <td>Yes</td>\n",
       "    </tr>\n",
       "    <tr>\n",
       "      <th>3</th>\n",
       "      <td>Male</td>\n",
       "      <td>0</td>\n",
       "      <td>No</td>\n",
       "      <td>No</td>\n",
       "      <td>45</td>\n",
       "      <td>No</td>\n",
       "      <td>Yes</td>\n",
       "      <td>No</td>\n",
       "      <td>Yes</td>\n",
       "      <td>Yes</td>\n",
       "      <td>No</td>\n",
       "      <td>No</td>\n",
       "      <td>One year</td>\n",
       "      <td>42.30</td>\n",
       "      <td>1840.75</td>\n",
       "      <td>No</td>\n",
       "    </tr>\n",
       "    <tr>\n",
       "      <th>4</th>\n",
       "      <td>Female</td>\n",
       "      <td>0</td>\n",
       "      <td>No</td>\n",
       "      <td>No</td>\n",
       "      <td>2</td>\n",
       "      <td>Yes</td>\n",
       "      <td>No</td>\n",
       "      <td>No</td>\n",
       "      <td>No</td>\n",
       "      <td>No</td>\n",
       "      <td>No</td>\n",
       "      <td>No</td>\n",
       "      <td>Month-to-month</td>\n",
       "      <td>70.70</td>\n",
       "      <td>151.65</td>\n",
       "      <td>Yes</td>\n",
       "    </tr>\n",
       "    <tr>\n",
       "      <th>5</th>\n",
       "      <td>Female</td>\n",
       "      <td>0</td>\n",
       "      <td>No</td>\n",
       "      <td>No</td>\n",
       "      <td>8</td>\n",
       "      <td>Yes</td>\n",
       "      <td>No</td>\n",
       "      <td>No</td>\n",
       "      <td>Yes</td>\n",
       "      <td>No</td>\n",
       "      <td>Yes</td>\n",
       "      <td>Yes</td>\n",
       "      <td>Month-to-month</td>\n",
       "      <td>99.65</td>\n",
       "      <td>820.5</td>\n",
       "      <td>Yes</td>\n",
       "    </tr>\n",
       "    <tr>\n",
       "      <th>6</th>\n",
       "      <td>Male</td>\n",
       "      <td>0</td>\n",
       "      <td>No</td>\n",
       "      <td>Yes</td>\n",
       "      <td>22</td>\n",
       "      <td>Yes</td>\n",
       "      <td>No</td>\n",
       "      <td>Yes</td>\n",
       "      <td>No</td>\n",
       "      <td>No</td>\n",
       "      <td>Yes</td>\n",
       "      <td>No</td>\n",
       "      <td>Month-to-month</td>\n",
       "      <td>89.10</td>\n",
       "      <td>1949.4</td>\n",
       "      <td>No</td>\n",
       "    </tr>\n",
       "    <tr>\n",
       "      <th>7</th>\n",
       "      <td>Female</td>\n",
       "      <td>0</td>\n",
       "      <td>No</td>\n",
       "      <td>No</td>\n",
       "      <td>10</td>\n",
       "      <td>No</td>\n",
       "      <td>Yes</td>\n",
       "      <td>No</td>\n",
       "      <td>No</td>\n",
       "      <td>No</td>\n",
       "      <td>No</td>\n",
       "      <td>No</td>\n",
       "      <td>Month-to-month</td>\n",
       "      <td>29.75</td>\n",
       "      <td>301.9</td>\n",
       "      <td>No</td>\n",
       "    </tr>\n",
       "    <tr>\n",
       "      <th>8</th>\n",
       "      <td>Female</td>\n",
       "      <td>0</td>\n",
       "      <td>Yes</td>\n",
       "      <td>No</td>\n",
       "      <td>28</td>\n",
       "      <td>Yes</td>\n",
       "      <td>No</td>\n",
       "      <td>No</td>\n",
       "      <td>Yes</td>\n",
       "      <td>Yes</td>\n",
       "      <td>Yes</td>\n",
       "      <td>Yes</td>\n",
       "      <td>Month-to-month</td>\n",
       "      <td>104.80</td>\n",
       "      <td>3046.05</td>\n",
       "      <td>Yes</td>\n",
       "    </tr>\n",
       "    <tr>\n",
       "      <th>9</th>\n",
       "      <td>Male</td>\n",
       "      <td>0</td>\n",
       "      <td>No</td>\n",
       "      <td>Yes</td>\n",
       "      <td>62</td>\n",
       "      <td>Yes</td>\n",
       "      <td>Yes</td>\n",
       "      <td>Yes</td>\n",
       "      <td>No</td>\n",
       "      <td>No</td>\n",
       "      <td>No</td>\n",
       "      <td>No</td>\n",
       "      <td>One year</td>\n",
       "      <td>56.15</td>\n",
       "      <td>3487.95</td>\n",
       "      <td>No</td>\n",
       "    </tr>\n",
       "  </tbody>\n",
       "</table>\n",
       "</div>"
      ],
      "text/plain": [
       "   gender  SeniorCitizen Partner Dependents  tenure PhoneService  \\\n",
       "0  Female              0     Yes         No       1           No   \n",
       "1    Male              0      No         No      34          Yes   \n",
       "2    Male              0      No         No       2          Yes   \n",
       "3    Male              0      No         No      45           No   \n",
       "4  Female              0      No         No       2          Yes   \n",
       "5  Female              0      No         No       8          Yes   \n",
       "6    Male              0      No        Yes      22          Yes   \n",
       "7  Female              0      No         No      10           No   \n",
       "8  Female              0     Yes         No      28          Yes   \n",
       "9    Male              0      No        Yes      62          Yes   \n",
       "\n",
       "  OnlineSecurity OnlineBackup DeviceProtection TechSupport StreamingTV  \\\n",
       "0             No          Yes               No          No          No   \n",
       "1            Yes           No              Yes          No          No   \n",
       "2            Yes          Yes               No          No          No   \n",
       "3            Yes           No              Yes         Yes          No   \n",
       "4             No           No               No          No          No   \n",
       "5             No           No              Yes          No         Yes   \n",
       "6             No          Yes               No          No         Yes   \n",
       "7            Yes           No               No          No          No   \n",
       "8             No           No              Yes         Yes         Yes   \n",
       "9            Yes          Yes               No          No          No   \n",
       "\n",
       "  StreamingMovies        Contract  MonthlyCharges TotalCharges Churn  \n",
       "0              No  Month-to-month           29.85        29.85    No  \n",
       "1              No        One year           56.95       1889.5    No  \n",
       "2              No  Month-to-month           53.85       108.15   Yes  \n",
       "3              No        One year           42.30      1840.75    No  \n",
       "4              No  Month-to-month           70.70       151.65   Yes  \n",
       "5             Yes  Month-to-month           99.65        820.5   Yes  \n",
       "6              No  Month-to-month           89.10       1949.4    No  \n",
       "7              No  Month-to-month           29.75        301.9    No  \n",
       "8             Yes  Month-to-month          104.80      3046.05   Yes  \n",
       "9              No        One year           56.15      3487.95    No  "
      ]
     },
     "execution_count": 78,
     "metadata": {},
     "output_type": "execute_result"
    }
   ],
   "source": [
    "churnData.head(10)"
   ]
  },
  {
   "cell_type": "code",
   "execution_count": null,
   "id": "84373f8e-41b0-431d-993a-88a20ec5a769",
   "metadata": {
    "tags": []
   },
   "outputs": [],
   "source": [
    "churnData.info()"
   ]
  },
  {
   "cell_type": "code",
   "execution_count": null,
   "id": "bbdc56ba-0f84-4b90-a5f0-6e883835bfc0",
   "metadata": {
    "tags": []
   },
   "outputs": [],
   "source": [
    "churnData.dtypes"
   ]
  },
  {
   "cell_type": "code",
   "execution_count": null,
   "id": "af79857b-1942-419e-af98-58f0babb4810",
   "metadata": {
    "tags": []
   },
   "outputs": [],
   "source": [
    "churnData.isnull() "
   ]
  },
  {
   "cell_type": "code",
   "execution_count": null,
   "id": "a7f3dd1b-3d09-48f6-8d7f-4cad33be3165",
   "metadata": {},
   "outputs": [],
   "source": [
    "churnData[\"TotalCharges\"].value_counts()"
   ]
  },
  {
   "cell_type": "markdown",
   "id": "598a9e01-10c3-4ec9-9745-7f149d845481",
   "metadata": {
    "tags": []
   },
   "source": [
    "### Cleaning"
   ]
  },
  {
   "cell_type": "code",
   "execution_count": 29,
   "id": "2eda7f0a-8d0a-4d25-ab02-e0302b222f49",
   "metadata": {
    "tags": []
   },
   "outputs": [],
   "source": [
    "churnData.dropna(inplace=True)"
   ]
  },
  {
   "cell_type": "code",
   "execution_count": 32,
   "id": "9b8151ba-3ee2-42a1-ae2b-2034a4f776a0",
   "metadata": {
    "tags": []
   },
   "outputs": [
    {
     "data": {
      "text/plain": [
       "(7043, 16)"
      ]
     },
     "execution_count": 32,
     "metadata": {},
     "output_type": "execute_result"
    }
   ],
   "source": [
    "churnData.shape"
   ]
  },
  {
   "cell_type": "code",
   "execution_count": 57,
   "id": "25bf9431-3033-4718-92d3-e3ed54c50dbc",
   "metadata": {
    "tags": []
   },
   "outputs": [
    {
     "name": "stdout",
     "output_type": "stream",
     "text": [
      "Your DataFrame does not contain any null values.\n"
     ]
    }
   ],
   "source": [
    "nulls_in_df = churnData.isnull().any().any()\n",
    "\n",
    "if nulls_in_df:\n",
    "    print(\"Your DataFrame contains null values.\")\n",
    "else:\n",
    "    print(\"Your DataFrame does not contain any null values.\")"
   ]
  },
  {
   "cell_type": "code",
   "execution_count": 79,
   "id": "180777c3-bc3e-4c28-829c-b4539e7599fd",
   "metadata": {},
   "outputs": [],
   "source": [
    "# converting to TotalCharges to numeric \n",
    "churnData[\"TotalCharges\"] = pd.to_numeric(churnData[\"TotalCharges\"], errors='coerce')"
   ]
  },
  {
   "cell_type": "code",
   "execution_count": 80,
   "id": "b3b2c503-8b0a-4001-a774-6ebbf0fb24ba",
   "metadata": {
    "tags": []
   },
   "outputs": [],
   "source": [
    "columns_to_keep = ['tenure', 'SeniorCitizen','MonthlyCharges','TotalCharges','Churn']  \n",
    "churnData = churnData[columns_to_keep]"
   ]
  },
  {
   "cell_type": "code",
   "execution_count": 85,
   "id": "7dc1c2d0-2225-4473-b274-93c13e67144e",
   "metadata": {
    "tags": []
   },
   "outputs": [
    {
     "name": "stdout",
     "output_type": "stream",
     "text": [
      "<class 'pandas.core.frame.DataFrame'>\n",
      "RangeIndex: 7043 entries, 0 to 7042\n",
      "Data columns (total 5 columns):\n",
      " #   Column          Non-Null Count  Dtype  \n",
      "---  ------          --------------  -----  \n",
      " 0   tenure          7043 non-null   int64  \n",
      " 1   SeniorCitizen   7043 non-null   int64  \n",
      " 2   MonthlyCharges  7043 non-null   float64\n",
      " 3   TotalCharges    7043 non-null   float64\n",
      " 4   Churn           7043 non-null   object \n",
      "dtypes: float64(2), int64(2), object(1)\n",
      "memory usage: 275.2+ KB\n"
     ]
    }
   ],
   "source": [
    "churnData.info()"
   ]
  },
  {
   "cell_type": "code",
   "execution_count": 84,
   "id": "f7cea654-9883-42cd-8a5f-f93f19f629d3",
   "metadata": {
    "tags": []
   },
   "outputs": [],
   "source": [
    "# Replacing nulls with median \n",
    "median_value = churnData['TotalCharges'].median()\n",
    "churnData['TotalCharges'].fillna(median_value, inplace=True)"
   ]
  },
  {
   "cell_type": "markdown",
   "id": "4ac1ced3-654d-4a9f-aa2b-317726474a7c",
   "metadata": {},
   "source": [
    "### Split data"
   ]
  },
  {
   "cell_type": "code",
   "execution_count": 86,
   "id": "9d0b3a7b-1576-46f3-a02d-1df5b8d9993f",
   "metadata": {
    "tags": []
   },
   "outputs": [],
   "source": [
    "X = churnData.drop(columns = [\"Churn\"]) \n",
    "y = churnData[[\"Churn\"]]\n",
    "\n",
    "from sklearn.model_selection import train_test_split\n",
    "\n",
    "X_train, X_test, y_train, y_test = train_test_split(X,y, test_size=0.20, random_state = 100)"
   ]
  },
  {
   "cell_type": "markdown",
   "id": "85f5dc9c-827f-4669-95ec-6721686912dd",
   "metadata": {},
   "source": [
    "### Encoding (y)"
   ]
  },
  {
   "cell_type": "code",
   "execution_count": 87,
   "id": "abbd60d9-107a-4287-a468-0f4fd34bee7f",
   "metadata": {
    "tags": []
   },
   "outputs": [],
   "source": [
    "y = pd.get_dummies(churnData[['Churn']], dtype=int)"
   ]
  },
  {
   "cell_type": "code",
   "execution_count": 94,
   "id": "ee1c5130-c368-4191-a7f1-0ee98c99755f",
   "metadata": {
    "tags": []
   },
   "outputs": [
    {
     "data": {
      "text/html": [
       "<div>\n",
       "<style scoped>\n",
       "    .dataframe tbody tr th:only-of-type {\n",
       "        vertical-align: middle;\n",
       "    }\n",
       "\n",
       "    .dataframe tbody tr th {\n",
       "        vertical-align: top;\n",
       "    }\n",
       "\n",
       "    .dataframe thead th {\n",
       "        text-align: right;\n",
       "    }\n",
       "</style>\n",
       "<table border=\"1\" class=\"dataframe\">\n",
       "  <thead>\n",
       "    <tr style=\"text-align: right;\">\n",
       "      <th></th>\n",
       "      <th>Churn_Yes</th>\n",
       "    </tr>\n",
       "  </thead>\n",
       "  <tbody>\n",
       "    <tr>\n",
       "      <th>0</th>\n",
       "      <td>0</td>\n",
       "    </tr>\n",
       "    <tr>\n",
       "      <th>1</th>\n",
       "      <td>0</td>\n",
       "    </tr>\n",
       "    <tr>\n",
       "      <th>2</th>\n",
       "      <td>1</td>\n",
       "    </tr>\n",
       "    <tr>\n",
       "      <th>3</th>\n",
       "      <td>0</td>\n",
       "    </tr>\n",
       "    <tr>\n",
       "      <th>4</th>\n",
       "      <td>1</td>\n",
       "    </tr>\n",
       "    <tr>\n",
       "      <th>...</th>\n",
       "      <td>...</td>\n",
       "    </tr>\n",
       "    <tr>\n",
       "      <th>7038</th>\n",
       "      <td>0</td>\n",
       "    </tr>\n",
       "    <tr>\n",
       "      <th>7039</th>\n",
       "      <td>0</td>\n",
       "    </tr>\n",
       "    <tr>\n",
       "      <th>7040</th>\n",
       "      <td>0</td>\n",
       "    </tr>\n",
       "    <tr>\n",
       "      <th>7041</th>\n",
       "      <td>1</td>\n",
       "    </tr>\n",
       "    <tr>\n",
       "      <th>7042</th>\n",
       "      <td>0</td>\n",
       "    </tr>\n",
       "  </tbody>\n",
       "</table>\n",
       "<p>7043 rows × 1 columns</p>\n",
       "</div>"
      ],
      "text/plain": [
       "      Churn_Yes\n",
       "0             0\n",
       "1             0\n",
       "2             1\n",
       "3             0\n",
       "4             1\n",
       "...         ...\n",
       "7038          0\n",
       "7039          0\n",
       "7040          0\n",
       "7041          1\n",
       "7042          0\n",
       "\n",
       "[7043 rows x 1 columns]"
      ]
     },
     "execution_count": 94,
     "metadata": {},
     "output_type": "execute_result"
    }
   ],
   "source": [
    "y = y[[\"Churn_Yes\"]]"
   ]
  },
  {
   "cell_type": "markdown",
   "id": "25d0a43c-5ff8-4c1c-a60d-81e93eb2f819",
   "metadata": {
    "tags": []
   },
   "source": [
    "### Train model with logistic regression"
   ]
  },
  {
   "cell_type": "code",
   "execution_count": 95,
   "id": "c0b23252-83a7-4640-95e2-782a9827a2c9",
   "metadata": {},
   "outputs": [
    {
     "name": "stderr",
     "output_type": "stream",
     "text": [
      "/Users/bart/anaconda3/lib/python3.11/site-packages/sklearn/utils/validation.py:1184: DataConversionWarning: A column-vector y was passed when a 1d array was expected. Please change the shape of y to (n_samples, ), for example using ravel().\n",
      "  y = column_or_1d(y, warn=True)\n"
     ]
    },
    {
     "data": {
      "text/html": [
       "<div>\n",
       "<style scoped>\n",
       "    .dataframe tbody tr th:only-of-type {\n",
       "        vertical-align: middle;\n",
       "    }\n",
       "\n",
       "    .dataframe tbody tr th {\n",
       "        vertical-align: top;\n",
       "    }\n",
       "\n",
       "    .dataframe thead th {\n",
       "        text-align: right;\n",
       "    }\n",
       "</style>\n",
       "<table border=\"1\" class=\"dataframe\">\n",
       "  <thead>\n",
       "    <tr style=\"text-align: right;\">\n",
       "      <th></th>\n",
       "      <th>Error_metric</th>\n",
       "      <th>Train</th>\n",
       "      <th>Test</th>\n",
       "    </tr>\n",
       "  </thead>\n",
       "  <tbody>\n",
       "    <tr>\n",
       "      <th>0</th>\n",
       "      <td>Accuracy</td>\n",
       "      <td>0.788960</td>\n",
       "      <td>0.801278</td>\n",
       "    </tr>\n",
       "    <tr>\n",
       "      <th>1</th>\n",
       "      <td>Precision</td>\n",
       "      <td>0.653144</td>\n",
       "      <td>0.699187</td>\n",
       "    </tr>\n",
       "    <tr>\n",
       "      <th>2</th>\n",
       "      <td>Recall</td>\n",
       "      <td>0.431925</td>\n",
       "      <td>0.455026</td>\n",
       "    </tr>\n",
       "  </tbody>\n",
       "</table>\n",
       "</div>"
      ],
      "text/plain": [
       "  Error_metric     Train      Test\n",
       "0     Accuracy  0.788960  0.801278\n",
       "1    Precision  0.653144  0.699187\n",
       "2       Recall  0.431925  0.455026"
      ]
     },
     "metadata": {},
     "output_type": "display_data"
    }
   ],
   "source": [
    "log_model = LogisticRegression() \n",
    "\n",
    "## Data splitting\n",
    "X_train, X_test, y_train, y_test = train_test_split(X, y, test_size=0.20, random_state=11)\n",
    "\n",
    "pt = PowerTransformer()\n",
    "pt.fit(X_train)\n",
    "X_train_log = pt.transform(X_train)\n",
    "X_test_log = pt.transform(X_test)\n",
    "\n",
    "\n",
    "log_model.fit(X_train_log, y_train)\n",
    "\n",
    "y_pred_train_log = log_model.predict(X_train_log)\n",
    "y_pred_test_log = log_model.predict(X_test_log)\n",
    "\n",
    "performance_log = pd.DataFrame({'Error_metric': ['Accuracy','Precision','Recall'],\n",
    "                               'Train': [accuracy_score(y_train, y_pred_train_log),\n",
    "                                         precision_score(y_train, y_pred_train_log),\n",
    "                                         recall_score(y_train, y_pred_train_log)],\n",
    "                               'Test': [accuracy_score(y_test, y_pred_test_log),\n",
    "                                        precision_score(y_test, y_pred_test_log),\n",
    "                                        recall_score(y_test, y_pred_test_log)]})\n",
    "\n",
    "display(performance_log)"
   ]
  },
  {
   "cell_type": "code",
   "execution_count": 98,
   "id": "576e4868-76bc-4766-b196-ba27eedadc3e",
   "metadata": {
    "tags": []
   },
   "outputs": [
    {
     "data": {
      "text/plain": [
       "<sklearn.metrics._plot.confusion_matrix.ConfusionMatrixDisplay at 0x133d37e90>"
      ]
     },
     "execution_count": 98,
     "metadata": {},
     "output_type": "execute_result"
    },
    {
     "data": {
      "image/png": "[encoded data removed]",
      "text/plain": [
       "<Figure size 640x480 with 2 Axes>"
      ]
     },
     "metadata": {},
     "output_type": "display_data"
    }
   ],
   "source": [
    "from sklearn.metrics import confusion_matrix, ConfusionMatrixDisplay\n",
    "cm_train = confusion_matrix(y_train, y_pred_train_log, labels = log_model.classes_)\n",
    "disp = ConfusionMatrixDisplay(cm_train)\n",
    "disp.plot()"
   ]
  },
  {
   "cell_type": "code",
   "execution_count": 99,
   "id": "fa15785f-5a44-4095-93cb-ccfb60482e2a",
   "metadata": {
    "tags": []
   },
   "outputs": [
    {
     "data": {
      "text/plain": [
       "<sklearn.metrics._plot.confusion_matrix.ConfusionMatrixDisplay at 0x133e2cc50>"
      ]
     },
     "execution_count": 99,
     "metadata": {},
     "output_type": "execute_result"
    },
    {
     "data": {
      "image/png": "[encoded data removed]",
      "text/plain": [
       "<Figure size 640x480 with 2 Axes>"
      ]
     },
     "metadata": {},
     "output_type": "display_data"
    }
   ],
   "source": [
    "cm_test = confusion_matrix(y_test, y_pred_test_log, labels = log_model.classes_)\n",
    "disp_test = ConfusionMatrixDisplay(cm_test)\n",
    "disp_test.plot()"
   ]
  },
  {
   "cell_type": "code",
   "execution_count": null,
   "id": "c82b0e20-bf71-4c92-876a-e715b889df35",
   "metadata": {},
   "outputs": [],
   "source": [
    "sample = pd.DataFrame(X_test_log).sample()"
   ]
  },
  {
   "cell_type": "code",
   "execution_count": null,
   "id": "480180c3-35ae-4a44-ae5e-c337624f3520",
   "metadata": {},
   "outputs": [],
   "source": [
    "log_model.predict_proba(sample)"
   ]
  },
  {
   "cell_type": "code",
   "execution_count": null,
   "id": "78a189ba-11f4-481f-ac95-d9baf0465048",
   "metadata": {},
   "outputs": [],
   "source": []
  },
  {
   "cell_type": "markdown",
   "id": "2009f5f6-3d74-4b3e-9395-19c57c807606",
   "metadata": {},
   "source": [
    "### Train model with Knn Classifier"
   ]
  },
  {
   "cell_type": "code",
   "execution_count": null,
   "id": "70119840-4706-45d1-a130-e821d290cda1",
   "metadata": {},
   "outputs": [],
   "source": []
  },
  {
   "cell_type": "code",
   "execution_count": null,
   "id": "9166ce3d-e5b8-4f18-9740-9e63f5a3d753",
   "metadata": {},
   "outputs": [],
   "source": []
  },
  {
   "cell_type": "code",
   "execution_count": null,
   "id": "9ad78b90-c853-4826-ba0c-f217b4dd7960",
   "metadata": {},
   "outputs": [],
   "source": []
  },
  {
   "cell_type": "code",
   "execution_count": null,
   "id": "01e4ed06-c556-4c7b-9db4-f0791dbdf1d9",
   "metadata": {},
   "outputs": [],
   "source": []
  },
  {
   "cell_type": "code",
   "execution_count": null,
   "id": "0e9f3eeb-6789-4b30-b42d-abdfa4e89d91",
   "metadata": {},
   "outputs": [],
   "source": []
  },
  {
   "cell_type": "code",
   "execution_count": null,
   "id": "7e327208-ccc6-4462-9298-9c8b7740f874",
   "metadata": {},
   "outputs": [],
   "source": []
  },
  {
   "cell_type": "code",
   "execution_count": null,
   "id": "389d3099-43c6-4218-b567-3b152517c91e",
   "metadata": {},
   "outputs": [],
   "source": []
  },
  {
   "cell_type": "markdown",
   "id": "32ccf725-0f36-4cc0-9890-e4c9e70a1211",
   "metadata": {
    "tags": []
   },
   "source": [
    "## Round 2"
   ]
  },
  {
   "cell_type": "code",
   "execution_count": null,
   "id": "60bf087e-c37b-405f-bbf1-ff3577838ed1",
   "metadata": {},
   "outputs": [],
   "source": []
  }
 ],
 "metadata": {
  "kernelspec": {
   "display_name": "Python 3 (ipykernel)",
   "language": "python",
   "name": "python3"
  },
  "language_info": {
   "codemirror_mode": {
    "name": "ipython",
    "version": 3
   },
   "file_extension": ".py",
   "mimetype": "text/x-python",
   "name": "python",
   "nbconvert_exporter": "python",
   "pygments_lexer": "ipython3",
   "version": "3.11.5"
  }
 },
 "nbformat": 4,
 "nbformat_minor": 5
}
